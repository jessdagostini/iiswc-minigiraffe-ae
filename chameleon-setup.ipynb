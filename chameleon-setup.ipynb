{
 "cells": [
  {
   "cell_type": "markdown",
   "metadata": {},
   "source": [
    "# Baremetal Experiment Pattern\n",
    "\n",
    "This is a simple experiment that illustrates how you can capture power measurements from the bare metal machine directly. It's also an example of how to structure an experiment in a reproducible manner, and illustrates several of the capabilities offered by Chameleon for reproducibility. \n",
    "\n",
    "## Configuring resources\n",
    "\n",
    "We need to configure the experiment \"container,\" meaning to isolated, reproducible environment that our experiment will run in. Initially, this will configure Chameleon resources to the point where you will be able `ssh` to a node. The remainder of this setup is installing software on that node, which in this case is loaded from GitHub."
   ]
  },
  {
   "cell_type": "markdown",
   "metadata": {},
   "source": [
    "The first thing you must do is set what site and project to use. You can select this from the dropdown that displays, or use the defaults that are automatically picked. For more information about setting context in python-chi, [see here](https://python-chi.readthedocs.io/en/dev/modules/context.html)."
   ]
  },
  {
   "cell_type": "code",
   "execution_count": 1,
   "metadata": {
    "tags": []
   },
   "outputs": [
    {
     "data": {
      "application/vnd.jupyter.widget-view+json": {
       "model_id": "3499f70453674064aedd4d6d44119094",
       "version_major": 2,
       "version_minor": 0
      },
      "text/plain": [
       "VBox(children=(Dropdown(description='Select Site', options=('CHI@TACC', 'CHI@UC', 'CHI@NCAR', 'CHI@NRP', 'CHI@…"
      ]
     },
     "metadata": {},
     "output_type": "display_data"
    },
    {
     "data": {
      "application/vnd.jupyter.widget-view+json": {
       "model_id": "ac6e6d7fb674441fa5d46a5c9e3cd19a",
       "version_major": 2,
       "version_minor": 0
      },
      "text/plain": [
       "VBox(children=(Dropdown(description='Select Project', options=('CHI-251437',), value='CHI-251437'), Output()))"
      ]
     },
     "metadata": {},
     "output_type": "display_data"
    }
   ],
   "source": [
    "from chi import context\n",
    "\n",
    "# During the transition period, we need to opt into the some of the \n",
    "# new python-chi functions. Otherwise the functional interface will\n",
    "# return the old types.\n",
    "context.version = \"1.0\"\n",
    "\n",
    "context.choose_site(default=\"CHI@TACC\")\n",
    "context.choose_project()"
   ]
  },
  {
   "cell_type": "markdown",
   "metadata": {},
   "source": [
    "### Check available hardware\n",
    "\n",
    "Next, we'll pick which hardware to us. The following code cell looks for nodes of type matching the `node_type` variable, and filters our ones that are reserved.\n",
    "\n",
    "This information comes from [the Chameleon hardware repository](https://chameleoncloud.org/hardware), and can be [queryed via python-chi](https://python-chi.readthedocs.io/en/dev/modules/hardware.html)."
   ]
  },
  {
   "cell_type": "code",
   "execution_count": 3,
   "metadata": {
    "tags": []
   },
   "outputs": [
    {
     "name": "stdout",
     "output_type": "stream",
     "text": [
      "There currently are 4 compute_icelake_r650 nodes ready to use\n"
     ]
    },
    {
     "data": {
      "application/vnd.jupyter.widget-view+json": {
       "model_id": "202a6a6d6a6b42fd91eb8d3eb4878006",
       "version_major": 2,
       "version_minor": 0
      },
      "text/plain": [
       "DataGrid(auto_fit_params={'area': 'all', 'padding': 30, 'numCols': None}, column_widths={'Node Name': 80, 'Sit…"
      ]
     },
     "metadata": {},
     "output_type": "display_data"
    }
   ],
   "source": [
    "from chi import hardware\n",
    "\n",
    "node_type = \"compute_icelake_r650\"\n",
    "available_nodes = hardware.get_nodes(node_type=node_type, filter_reserved=True)\n",
    "if available_nodes:\n",
    "    print(f\"There currently are {len(available_nodes)} {node_type} nodes ready to use\")\n",
    "    hardware.show_nodes(available_nodes)\n",
    "else:\n",
    "    print(f\"All {node_type} nodes are in use! You could use next_free_timeslot to see how long you need to wait, or use the calendar.\")"
   ]
  },
  {
   "cell_type": "markdown",
   "metadata": {},
   "source": [
    "### Reserve node\n",
    "\n",
    "In order to use hardware on Chameleon, you'll need to [make a reservation](https://chameleoncloud.readthedocs.io/en/latest/technical/reservations.html). You can do this via [the python-chi lease module](https://python-chi.readthedocs.io/en/dev/modules/lease.html).\n",
    "\n",
    "If the resources you want to use are currently free, you can make a lease that starts right now. The following code does this to reserve one of the nodes found above, and it also reserves a floating ip."
   ]
  },
  {
   "cell_type": "code",
   "execution_count": 26,
   "metadata": {},
   "outputs": [
    {
     "name": "stdout",
     "output_type": "stream",
     "text": [
      "Waiting for lease to start...\n"
     ]
    },
    {
     "data": {
      "application/vnd.jupyter.widget-view+json": {
       "model_id": "8068ed67af424e26aeac6475f2ebe298",
       "version_major": 2,
       "version_minor": 0
      },
      "text/plain": [
       "HBox(children=(Label(value=''), IntProgress(value=0, bar_style='success')))"
      ]
     },
     "metadata": {},
     "output_type": "display_data"
    },
    {
     "name": "stdout",
     "output_type": "stream",
     "text": [
      "Lease jimlauda_ucsc_edu-power-management has reached status active\n"
     ]
    }
   ],
   "source": [
    "from chi import lease\n",
    "from datetime import timedelta\n",
    "import os\n",
    "\n",
    "my_lease = lease.Lease(f\"{os.getenv('USER')}-power-management\", duration=timedelta(hours=3))\n",
    "my_lease.add_node_reservation(nodes=[available_nodes[0]]) # or you could use node_type=node_type\n",
    "# my_lease.add_fip_reservation(1) # include a floating ip\n",
    "my_lease.submit(idempotent=True)"
   ]
  },
  {
   "cell_type": "code",
   "execution_count": 27,
   "metadata": {
    "tags": []
   },
   "outputs": [
    {
     "name": "stderr",
     "output_type": "stream",
     "text": [
      "The python binding code in neutronclient is deprecated in favor of OpenstackSDK, please use that as this will be removed in a future release.\n"
     ]
    },
    {
     "name": "stdout",
     "output_type": "stream",
     "text": [
      "Got floating IP {'id': 'a6416dff-b36a-4b3a-8fe0-961e22fce203', 'tenant_id': 'c0db950add004ead938f2fd3fb36e439', 'floating_ip_address': '129.114.108.33', 'floating_network_id': '6189521e-06a0-4c43-b163-16cc11ce675b', 'router_id': None, 'port_id': None, 'fixed_ip_address': None, 'status': 'DOWN', 'description': '', 'port_details': None, 'tags': [], 'created_at': '2025-08-14T00:56:09Z', 'updated_at': '2025-08-14T03:51:14Z', 'revision_number': 5, 'project_id': 'c0db950add004ead938f2fd3fb36e439'}\n"
     ]
    }
   ],
   "source": [
    "from chi import network\n",
    "fp = network.get_free_floating_ip()\n",
    "print(f\"Got floating IP {fp}\")"
   ]
  },
  {
   "cell_type": "markdown",
   "metadata": {},
   "source": [
    "### Create a server on the node\n",
    "\n",
    "Next, we will launch the reserved node with [an image](https://chameleoncloud.readthedocs.io/en/latest/technical/images.html). You can search for [Chameleon supported images in python-chi](https://python-chi.readthedocs.io/en/dev/modules/image.html). Here, we use an Ubuntu image.\n",
    "\n",
    "Then, we submit the request to create a server, using the reservation information from our lease. You'll need to wait for the server to fully provision, which can around 10 minutes depending on the node."
   ]
  },
  {
   "cell_type": "code",
   "execution_count": 28,
   "metadata": {},
   "outputs": [
    {
     "name": "stderr",
     "output_type": "stream",
     "text": [
      "The python binding code in neutronclient is deprecated in favor of OpenstackSDK, please use that as this will be removed in a future release.\n"
     ]
    },
    {
     "name": "stdout",
     "output_type": "stream",
     "text": [
      "Waiting for server jimlauda_ucsc_edu-power-management's status to become ACTIVE. This typically takes 10 minutes for baremetal, but can take up to 20 minutes.\n"
     ]
    },
    {
     "data": {
      "application/vnd.jupyter.widget-view+json": {
       "model_id": "2ae176db8f2f45a8bf61c64994fb58a3",
       "version_major": 2,
       "version_minor": 0
      },
      "text/plain": [
       "HBox(children=(Label(value=''), IntProgress(value=0, bar_style='success')))"
      ]
     },
     "metadata": {},
     "output_type": "display_data"
    },
    {
     "name": "stdout",
     "output_type": "stream",
     "text": [
      "Server has moved to status ACTIVE\n"
     ]
    },
    {
     "data": {
      "text/html": [
       "<table style='border-collapse: collapse; width: 100%;'><tr style='background-color: #f2f2f2;'><th style='border: 1px solid #ddd; padding: 8px;'>Attribute</th><th style='border: 1px solid #ddd; padding: 8px;'>jimlauda_ucsc_edu-power-management</th></tr><tr><td style='border: 1px solid #ddd; padding: 8px;'>Id</td><td style='border: 1px solid #ddd; padding: 8px;'>e9ed7146-5189-4a90-8906-bf7a15dc71b0</td></tr><tr><td style='border: 1px solid #ddd; padding: 8px;'>Status</td><td style='border: 1px solid #ddd; padding: 8px;'>ACTIVE</td></tr><tr><td style='border: 1px solid #ddd; padding: 8px;'>Image Name</td><td style='border: 1px solid #ddd; padding: 8px;'>CC-Ubuntu22.04</td></tr><tr><td style='border: 1px solid #ddd; padding: 8px;'>Flavor Name</td><td style='border: 1px solid #ddd; padding: 8px;'>baremetal</td></tr><tr><td style='border: 1px solid #ddd; padding: 8px;'>Addresses</td><td style='border: 1px solid #ddd; padding: 8px;'><strong>sharednet1:</strong><br>&nbsp;&nbsp;IP: 10.52.3.128 (v4)<br>&nbsp;&nbsp;Type: fixed<br>&nbsp;&nbsp;MAC: 14:23:f2:c9:7d:c0<br></td></tr><tr><td style='border: 1px solid #ddd; padding: 8px;'>Network Name</td><td style='border: 1px solid #ddd; padding: 8px;'>sharednet1</td></tr><tr><td style='border: 1px solid #ddd; padding: 8px;'>Created At</td><td style='border: 1px solid #ddd; padding: 8px;'>2025-08-14T03:56:46Z</td></tr><tr><td style='border: 1px solid #ddd; padding: 8px;'>Keypair</td><td style='border: 1px solid #ddd; padding: 8px;'>trovi-ed5c1cf</td></tr><tr><td style='border: 1px solid #ddd; padding: 8px;'>Reservation Id</td><td style='border: 1px solid #ddd; padding: 8px;'>4eba50a8-de28-4d76-b16c-a4e66ae268df</td></tr><tr><td style='border: 1px solid #ddd; padding: 8px;'>Host Id</td><td style='border: 1px solid #ddd; padding: 8px;'>cb48ed2ea6d1983af1639be2c5b495a227f80c2843b660ca3d2c6f42</td></tr><tr><td style='border: 1px solid #ddd; padding: 8px;'>Host Status</td><td style='border: 1px solid #ddd; padding: 8px;'>None</td></tr><tr><td style='border: 1px solid #ddd; padding: 8px;'>Hypervisor Hostname</td><td style='border: 1px solid #ddd; padding: 8px;'>0ebd0b17-9ecd-4d7d-baa4-1ad4d7fa9aa6</td></tr><tr><td style='border: 1px solid #ddd; padding: 8px;'>Is Locked</td><td style='border: 1px solid #ddd; padding: 8px;'>False</td></tr></table>"
      ],
      "text/plain": [
       "<IPython.core.display.HTML object>"
      ]
     },
     "metadata": {},
     "output_type": "display_data"
    }
   ],
   "source": [
    "from chi import server\n",
    "\n",
    "my_server = server.Server(\n",
    "    f\"{os.getenv('USER')}-power-management\",\n",
    "    reservation_id=my_lease.node_reservations[0][\"id\"],\n",
    "    image_name=\"CC-Ubuntu22.04\", # or use image_name\n",
    ")\n",
    "my_server.submit(idempotent=True)"
   ]
  },
  {
   "cell_type": "markdown",
   "metadata": {},
   "source": [
    "### Configure networking on the node\n",
    "\n",
    "Now, we must configure the server to use the floating IP we reserved earlier. We'll also need to wait for the networking to finish configuring, which may take a few additional minutes."
   ]
  },
  {
   "cell_type": "code",
   "execution_count": 29,
   "metadata": {
    "tags": []
   },
   "outputs": [
    {
     "name": "stderr",
     "output_type": "stream",
     "text": [
      "The python binding code in neutronclient is deprecated in favor of OpenstackSDK, please use that as this will be removed in a future release.\n"
     ]
    },
    {
     "data": {
      "text/plain": [
       "{'id': 'a6416dff-b36a-4b3a-8fe0-961e22fce203',\n",
       " 'tenant_id': 'c0db950add004ead938f2fd3fb36e439',\n",
       " 'floating_ip_address': '129.114.108.33',\n",
       " 'floating_network_id': '6189521e-06a0-4c43-b163-16cc11ce675b',\n",
       " 'router_id': None,\n",
       " 'port_id': None,\n",
       " 'fixed_ip_address': None,\n",
       " 'status': 'DOWN',\n",
       " 'description': '',\n",
       " 'port_details': None,\n",
       " 'tags': [],\n",
       " 'created_at': '2025-08-14T00:56:09Z',\n",
       " 'updated_at': '2025-08-14T03:51:14Z',\n",
       " 'revision_number': 5,\n",
       " 'project_id': 'c0db950add004ead938f2fd3fb36e439'}"
      ]
     },
     "execution_count": 29,
     "metadata": {},
     "output_type": "execute_result"
    }
   ],
   "source": [
    "fip = network.get_floating_ip(fp['floating_ip_address'])\n",
    "fip"
   ]
  },
  {
   "cell_type": "code",
   "execution_count": 30,
   "metadata": {
    "tags": []
   },
   "outputs": [
    {
     "name": "stderr",
     "output_type": "stream",
     "text": [
      "The python binding code in neutronclient is deprecated in favor of OpenstackSDK, please use that as this will be removed in a future release.\n"
     ]
    },
    {
     "data": {
      "text/plain": [
       "{'id': 'a6416dff-b36a-4b3a-8fe0-961e22fce203',\n",
       " 'tenant_id': 'c0db950add004ead938f2fd3fb36e439',\n",
       " 'floating_ip_address': '129.114.108.33',\n",
       " 'floating_network_id': '6189521e-06a0-4c43-b163-16cc11ce675b',\n",
       " 'router_id': None,\n",
       " 'port_id': None,\n",
       " 'fixed_ip_address': None,\n",
       " 'status': 'DOWN',\n",
       " 'description': '',\n",
       " 'port_details': None,\n",
       " 'tags': [],\n",
       " 'created_at': '2025-08-14T00:56:09Z',\n",
       " 'updated_at': '2025-08-14T03:51:14Z',\n",
       " 'revision_number': 5,\n",
       " 'project_id': 'c0db950add004ead938f2fd3fb36e439'}"
      ]
     },
     "execution_count": 30,
     "metadata": {},
     "output_type": "execute_result"
    }
   ],
   "source": [
    "network.list_floating_ips()[0]"
   ]
  },
  {
   "cell_type": "code",
   "execution_count": 33,
   "metadata": {},
   "outputs": [
    {
     "name": "stderr",
     "output_type": "stream",
     "text": [
      "The python binding code in neutronclient is deprecated in favor of OpenstackSDK, please use that as this will be removed in a future release.\n",
      "The python binding code in neutronclient is deprecated in favor of OpenstackSDK, please use that as this will be removed in a future release.\n"
     ]
    },
    {
     "data": {
      "text/plain": [
       "'129.114.108.33'"
      ]
     },
     "execution_count": 33,
     "metadata": {},
     "output_type": "execute_result"
    }
   ],
   "source": [
    "fip = network.list_floating_ips()[0]\n",
    "my_server.associate_floating_ip(fip['floating_ip_address'])\n",
    "# my_server.check_connectivity(host=fip)"
   ]
  },
  {
   "cell_type": "markdown",
   "metadata": {},
   "source": [
    "### Install software on the node\n",
    "\n",
    "Now we will install our software on the node, over SSH. In your own experiment, you would likely want to change these commands.\n",
    "\n",
    "You can use the `execute` [method](https://python-chi.readthedocs.io/en/dev/modules/server.html#chi.server.Server.execute) or for more advance usage you can [get a Fabric Connection object](https://python-chi.readthedocs.io/en/dev/modules/server.html#chi.server.Server.ssh_connection)."
   ]
  },
  {
   "cell_type": "code",
   "execution_count": 39,
   "metadata": {},
   "outputs": [
    {
     "name": "stderr",
     "output_type": "stream",
     "text": [
      "Cloning into 'miniGiraffe'...\n",
      "Submodule 'deps/gbwt' (https://github.com/jltsiren/gbwt.git) registered for path 'deps/gbwt'\n",
      "Submodule 'deps/gbwtgraph' (https://github.com/jltsiren/gbwtgraph.git) registered for path 'deps/gbwtgraph'\n",
      "Submodule 'deps/libhandlegraph' (https://github.com/vgteam/libhandlegraph.git) registered for path 'deps/libhandlegraph'\n",
      "Submodule 'deps/sdsl-lite' (https://github.com/vgteam/sdsl-lite.git) registered for path 'deps/sdsl-lite'\n",
      "Cloning into '/home/cc/miniGiraffe/deps/gbwt'...\n",
      "Cloning into '/home/cc/miniGiraffe/deps/gbwtgraph'...\n",
      "Cloning into '/home/cc/miniGiraffe/deps/libhandlegraph'...\n",
      "Cloning into '/home/cc/miniGiraffe/deps/sdsl-lite'...\n"
     ]
    },
    {
     "name": "stdout",
     "output_type": "stream",
     "text": [
      "Submodule path 'deps/gbwt': checked out '6ae4d24aaa1536b3cdc266cc233ddc3812f1f1a0'\n",
      "Submodule path 'deps/gbwtgraph': checked out 'b5bc82b168cb20c28b7363e3e10a17b06536849f'\n",
      "Submodule path 'deps/libhandlegraph': checked out 'ccc11459019680ae53b65bcc19077d41ecff3075'\n",
      "Submodule path 'deps/sdsl-lite': checked out '2b3a86231fb2f38e117736aee55df391f79f2470'\n"
     ]
    },
    {
     "name": "stderr",
     "output_type": "stream",
     "text": [
      "Submodule 'external/googletest' (https://github.com/google/googletest.git) registered for path 'deps/sdsl-lite/external/googletest'\n",
      "Submodule 'external/libdivsufsort' (https://github.com/simongog/libdivsufsort.git) registered for path 'deps/sdsl-lite/external/libdivsufsort'\n",
      "Cloning into '/home/cc/miniGiraffe/deps/sdsl-lite/external/googletest'...\n",
      "Cloning into '/home/cc/miniGiraffe/deps/sdsl-lite/external/libdivsufsort'...\n"
     ]
    },
    {
     "name": "stdout",
     "output_type": "stream",
     "text": [
      "Submodule path 'deps/sdsl-lite/external/googletest': checked out 'c2d90bddc6a2a562ee7750c14351e9ca16a6a37a'\n",
      "Submodule path 'deps/sdsl-lite/external/libdivsufsort': checked out '0f24acd8de208464769c782119dacf158647f7ed'\n",
      "Branch 'arch' set up to track remote branch 'arch' from 'origin'.\n"
     ]
    },
    {
     "name": "stderr",
     "output_type": "stream",
     "text": [
      "Switched to a new branch 'arch'\n"
     ]
    },
    {
     "data": {
      "text/plain": [
       "<Result cmd='cd miniGiraffe && git checkout arch' exited=0>"
      ]
     },
     "execution_count": 39,
     "metadata": {},
     "output_type": "execute_result"
    }
   ],
   "source": [
    "# Clone git repo with experiment source code\n",
    "my_server.execute(\"git clone --recursive https://github.com/jessdagostini/miniGiraffe.git\")\n",
    "\n",
    "# Run setup script\n",
    "my_server.execute(\"cd miniGiraffe && git checkout arch\")"
   ]
  },
  {
   "cell_type": "code",
   "execution_count": 47,
   "metadata": {
    "tags": []
   },
   "outputs": [
    {
     "name": "stdout",
     "output_type": "stream",
     "text": [
      "Hit:1 http://security.ubuntu.com/ubuntu jammy-security InRelease\n",
      "Hit:2 http://nova.clouds.archive.ubuntu.com/ubuntu jammy InRelease\n",
      "Hit:3 http://nova.clouds.archive.ubuntu.com/ubuntu jammy-updates InRelease\n",
      "Hit:4 http://nova.clouds.archive.ubuntu.com/ubuntu jammy-backports InRelease\n",
      "Reading package lists...\n",
      "Reading package lists...\n",
      "Building dependency tree...\n",
      "Reading state information...\n",
      "Calculating upgrade...\n",
      "The following packages have been kept back:\n",
      "  linux-generic linux-headers-generic linux-image-generic\n",
      "0 upgraded, 0 newly installed, 0 to remove and 3 not upgraded.\n",
      "Reading package lists...\n",
      "Building dependency tree...\n",
      "Reading state information...\n",
      "The following additional packages will be installed:\n",
      "  cmake-data dh-elpa-helper emacsen-common libjsoncpp25 librhash0\n",
      "  python3-wheel\n",
      "Suggested packages:\n",
      "  cmake-doc ninja-build cmake-format\n",
      "The following NEW packages will be installed:\n",
      "  cmake cmake-data dh-elpa-helper emacsen-common libjsoncpp25 librhash0\n",
      "  python3-pip python3-wheel\n",
      "0 upgraded, 8 newly installed, 0 to remove and 3 not upgraded.\n",
      "Need to get 8488 kB of archives.\n",
      "After this operation, 39.1 MB of additional disk space will be used.\n",
      "Get:1 http://nova.clouds.archive.ubuntu.com/ubuntu jammy/main amd64 libjsoncpp25 amd64 1.9.5-3 [80.0 kB]\n",
      "Get:2 http://nova.clouds.archive.ubuntu.com/ubuntu jammy/main amd64 librhash0 amd64 1.4.2-1ubuntu1 [125 kB]\n",
      "Get:3 http://nova.clouds.archive.ubuntu.com/ubuntu jammy/main amd64 dh-elpa-helper all 2.0.9ubuntu1 [7610 B]\n",
      "Get:4 http://nova.clouds.archive.ubuntu.com/ubuntu jammy/main amd64 emacsen-common all 3.0.4 [14.9 kB]\n",
      "Get:5 http://nova.clouds.archive.ubuntu.com/ubuntu jammy-updates/main amd64 cmake-data all 3.22.1-1ubuntu1.22.04.2 [1913 kB]\n",
      "Get:6 http://nova.clouds.archive.ubuntu.com/ubuntu jammy-updates/main amd64 cmake amd64 3.22.1-1ubuntu1.22.04.2 [5010 kB]\n",
      "Get:7 http://nova.clouds.archive.ubuntu.com/ubuntu jammy-updates/universe amd64 python3-wheel all 0.37.1-2ubuntu0.22.04.1 [32.0 kB]\n",
      "Get:8 http://nova.clouds.archive.ubuntu.com/ubuntu jammy-updates/universe amd64 python3-pip all 22.0.2+dfsg-1ubuntu0.6 [1306 kB]\n"
     ]
    },
    {
     "name": "stderr",
     "output_type": "stream",
     "text": [
      "debconf: unable to initialize frontend: Dialog\n",
      "debconf: (Dialog frontend will not work on a dumb terminal, an emacs shell buffer, or without a controlling terminal.)\n",
      "debconf: falling back to frontend: Readline\n",
      "debconf: unable to initialize frontend: Readline\n",
      "debconf: (This frontend requires a controlling tty.)\n",
      "debconf: falling back to frontend: Teletype\n",
      "dpkg-preconfigure: unable to re-open stdin: \n"
     ]
    },
    {
     "name": "stdout",
     "output_type": "stream",
     "text": [
      "Fetched 8488 kB in 1s (13.0 MB/s)\n",
      "Selecting previously unselected package libjsoncpp25:amd64.\n",
      "(Reading database ... 84498 files and directories currently installed.)\n",
      "Preparing to unpack .../0-libjsoncpp25_1.9.5-3_amd64.deb ...\n",
      "Unpacking libjsoncpp25:amd64 (1.9.5-3) ...\n",
      "Selecting previously unselected package librhash0:amd64.\n",
      "Preparing to unpack .../1-librhash0_1.4.2-1ubuntu1_amd64.deb ...\n",
      "Unpacking librhash0:amd64 (1.4.2-1ubuntu1) ...\n",
      "Selecting previously unselected package dh-elpa-helper.\n",
      "Preparing to unpack .../2-dh-elpa-helper_2.0.9ubuntu1_all.deb ...\n",
      "Unpacking dh-elpa-helper (2.0.9ubuntu1) ...\n",
      "Selecting previously unselected package emacsen-common.\n",
      "Preparing to unpack .../3-emacsen-common_3.0.4_all.deb ...\n",
      "Unpacking emacsen-common (3.0.4) ...\n",
      "Selecting previously unselected package cmake-data.\n",
      "Preparing to unpack .../4-cmake-data_3.22.1-1ubuntu1.22.04.2_all.deb ...\n",
      "Unpacking cmake-data (3.22.1-1ubuntu1.22.04.2) ...\n",
      "Selecting previously unselected package cmake.\n",
      "Preparing to unpack .../5-cmake_3.22.1-1ubuntu1.22.04.2_amd64.deb ...\n",
      "Unpacking cmake (3.22.1-1ubuntu1.22.04.2) ...\n",
      "Selecting previously unselected package python3-wheel.\n",
      "Preparing to unpack .../6-python3-wheel_0.37.1-2ubuntu0.22.04.1_all.deb ...\n",
      "Unpacking python3-wheel (0.37.1-2ubuntu0.22.04.1) ...\n",
      "Selecting previously unselected package python3-pip.\n",
      "Preparing to unpack .../7-python3-pip_22.0.2+dfsg-1ubuntu0.6_all.deb ...\n",
      "Unpacking python3-pip (22.0.2+dfsg-1ubuntu0.6) ...\n",
      "Setting up python3-wheel (0.37.1-2ubuntu0.22.04.1) ...\n",
      "Setting up emacsen-common (3.0.4) ...\n",
      "Setting up dh-elpa-helper (2.0.9ubuntu1) ...\n",
      "Setting up libjsoncpp25:amd64 (1.9.5-3) ...\n",
      "Setting up python3-pip (22.0.2+dfsg-1ubuntu0.6) ...\n",
      "Setting up librhash0:amd64 (1.4.2-1ubuntu1) ...\n",
      "Setting up cmake-data (3.22.1-1ubuntu1.22.04.2) ...\n",
      "Setting up cmake (3.22.1-1ubuntu1.22.04.2) ...\n",
      "Processing triggers for man-db (2.10.2-1) ...\n",
      "Processing triggers for libc-bin (2.35-0ubuntu3.10) ...\n",
      "\n",
      "Running kernel seems to be up-to-date.\n",
      "\n",
      "The processor microcode seems to be up-to-date.\n",
      "\n",
      "No services need to be restarted.\n",
      "\n",
      "No containers need to be restarted.\n",
      "\n",
      "No user sessions are running outdated binaries.\n",
      "\n",
      "No VM guests are running outdated hypervisor (qemu) binaries on this host.\n",
      "Defaulting to user installation because normal site-packages is not writeable\n",
      "Collecting pandas\n",
      "  Downloading pandas-2.3.1-cp310-cp310-manylinux_2_17_x86_64.manylinux2014_x86_64.whl (12.3 MB)\n",
      "     ━━━━━━━━━━━━━━━━━━━━━━━━━━━━━━━━━━━━━━━━ 12.3/12.3 MB 38.1 MB/s eta 0:00:00\n",
      "Requirement already satisfied: pytz>=2020.1 in /usr/lib/python3/dist-packages (from pandas) (2022.1)\n",
      "Collecting numpy>=1.22.4\n",
      "  Downloading numpy-2.2.6-cp310-cp310-manylinux_2_17_x86_64.manylinux2014_x86_64.whl (16.8 MB)\n",
      "     ━━━━━━━━━━━━━━━━━━━━━━━━━━━━━━━━━━━━━━━━ 16.8/16.8 MB 81.6 MB/s eta 0:00:00\n",
      "Collecting python-dateutil>=2.8.2\n",
      "  Downloading python_dateutil-2.9.0.post0-py2.py3-none-any.whl (229 kB)\n",
      "     ━━━━━━━━━━━━━━━━━━━━━━━━━━━━━━━━━━━━━━ 229.9/229.9 KB 88.1 MB/s eta 0:00:00\n",
      "Collecting tzdata>=2022.7\n",
      "  Downloading tzdata-2025.2-py2.py3-none-any.whl (347 kB)\n",
      "     ━━━━━━━━━━━━━━━━━━━━━━━━━━━━━━━━━━━━━ 347.8/347.8 KB 105.8 MB/s eta 0:00:00\n",
      "Requirement already satisfied: six>=1.5 in /usr/lib/python3/dist-packages (from python-dateutil>=2.8.2->pandas) (1.16.0)\n",
      "Installing collected packages: tzdata, python-dateutil, numpy, pandas\n"
     ]
    },
    {
     "name": "stderr",
     "output_type": "stream",
     "text": [
      "  WARNING: The scripts f2py and numpy-config are installed in '/home/cc/.local/bin' which is not on PATH.\n",
      "  Consider adding this directory to PATH or, if you prefer to suppress this warning, use --no-warn-script-location.\n"
     ]
    },
    {
     "name": "stdout",
     "output_type": "stream",
     "text": [
      "Successfully installed numpy-2.2.6 pandas-2.3.1 python-dateutil-2.9.0.post0 tzdata-2025.2\n"
     ]
    },
    {
     "data": {
      "text/plain": [
       "<Result cmd='sudo apt-get update && sudo apt-get -y upgrade && sudo apt-get install -y python3-pip cmake && pip3 install pandas' exited=0>"
      ]
     },
     "execution_count": 47,
     "metadata": {},
     "output_type": "execute_result"
    }
   ],
   "source": [
    "my_server.execute(\"sudo apt-get update && sudo apt-get -y upgrade && sudo apt-get install -y python3-pip cmake && pip3 install pandas\")"
   ]
  },
  {
   "cell_type": "code",
   "execution_count": 42,
   "metadata": {
    "tags": []
   },
   "outputs": [
    {
     "name": "stdout",
     "output_type": "stream",
     "text": [
      "Hit:1 http://nova.clouds.archive.ubuntu.com/ubuntu jammy InRelease\n",
      "Get:2 http://security.ubuntu.com/ubuntu jammy-security InRelease [129 kB]\n",
      "Get:3 http://nova.clouds.archive.ubuntu.com/ubuntu jammy-updates InRelease [128 kB]\n",
      "Get:4 http://nova.clouds.archive.ubuntu.com/ubuntu jammy-backports InRelease [127 kB]\n",
      "Get:5 http://security.ubuntu.com/ubuntu jammy-security/main amd64 Packages [2558 kB]\n",
      "Get:6 http://nova.clouds.archive.ubuntu.com/ubuntu jammy-updates/main amd64 Packages [2803 kB]\n",
      "Get:7 http://security.ubuntu.com/ubuntu jammy-security/main amd64 c-n-f Metadata [13.6 kB]\n",
      "Get:8 http://security.ubuntu.com/ubuntu jammy-security/restricted amd64 Packages [4018 kB]\n",
      "Get:9 http://nova.clouds.archive.ubuntu.com/ubuntu jammy-updates/restricted amd64 Packages [4163 kB]\n",
      "Get:10 http://security.ubuntu.com/ubuntu jammy-security/restricted amd64 c-n-f Metadata [624 B]\n",
      "Get:11 http://security.ubuntu.com/ubuntu jammy-security/universe amd64 Packages [993 kB]\n",
      "Get:12 http://security.ubuntu.com/ubuntu jammy-security/universe amd64 c-n-f Metadata [21.7 kB]\n",
      "Get:13 http://security.ubuntu.com/ubuntu jammy-security/multiverse amd64 Packages [40.3 kB]\n",
      "Get:14 http://security.ubuntu.com/ubuntu jammy-security/multiverse amd64 c-n-f Metadata [368 B]\n",
      "Get:15 http://nova.clouds.archive.ubuntu.com/ubuntu jammy-updates/universe amd64 Packages [1226 kB]\n",
      "Get:16 http://nova.clouds.archive.ubuntu.com/ubuntu jammy-backports/universe amd64 Packages [31.3 kB]\n",
      "Fetched 16.3 MB in 2s (6757 kB/s)\n",
      "Reading package lists...\n",
      "Reading package lists...\n",
      "Building dependency tree...\n",
      "Reading state information...\n",
      "Calculating upgrade...\n",
      "The following packages have been kept back:\n",
      "  linux-generic linux-headers-generic linux-image-generic\n",
      "The following packages will be upgraded:\n",
      "  apport cloud-init libperl5.34 linux-firmware linux-libc-dev perl perl-base\n",
      "  perl-modules-5.34 python3-apport python3-problem-report\n",
      "10 upgraded, 0 newly installed, 0 to remove and 3 not upgraded.\n",
      "Need to get 324 MB of archives.\n",
      "After this operation, 14.3 kB of additional disk space will be used.\n",
      "Do you want to continue? [Y/n] Abort.\n",
      "Reading package lists...\n",
      "Building dependency tree...\n",
      "Reading state information...\n",
      "The following additional packages will be installed:\n",
      "  python3-wheel\n",
      "The following NEW packages will be installed:\n",
      "  python3-pip python3-wheel\n",
      "0 upgraded, 2 newly installed, 0 to remove and 13 not upgraded.\n",
      "Need to get 1338 kB of archives.\n",
      "After this operation, 7179 kB of additional disk space will be used.\n",
      "Do you want to continue? [Y/n] Abort.\n"
     ]
    },
    {
     "name": "stderr",
     "output_type": "stream",
     "text": [
      "miniGiraffe/iiswc25/setup-environment.sh: line 5: pip3: command not found\n"
     ]
    },
    {
     "name": "stdout",
     "output_type": "stream",
     "text": [
      "Reading package lists...\n",
      "Building dependency tree...\n",
      "Reading state information...\n",
      "The following additional packages will be installed:\n",
      "  cmake-data dh-elpa-helper emacsen-common libjsoncpp25 librhash0\n",
      "Suggested packages:\n",
      "  cmake-doc ninja-build cmake-format\n",
      "The following NEW packages will be installed:\n",
      "  cmake cmake-data dh-elpa-helper emacsen-common libjsoncpp25 librhash0\n",
      "0 upgraded, 6 newly installed, 0 to remove and 13 not upgraded.\n",
      "Need to get 7150 kB of archives.\n",
      "After this operation, 31.9 MB of additional disk space will be used.\n",
      "Do you want to continue? [Y/n] Abort.\n"
     ]
    },
    {
     "name": "stderr",
     "output_type": "stream",
     "text": [
      "fatal: destination path 'miniGiraffe' already exists and is not an empty directory.\n",
      "Already on 'arch'\n"
     ]
    },
    {
     "name": "stdout",
     "output_type": "stream",
     "text": [
      "Your branch is up to date with 'origin/arch'.\n",
      "patching file deps/gbwt/include/gbwt/cached_gbwt.h\n",
      "patching file deps/gbwt/src/cached_gbwt.cpp\n",
      "patching file deps/gbwtgraph/include/gbwtgraph/cached_gbwtgraph.h\n",
      "patching file deps/gbwtgraph/include/gbwtgraph/gbwtgraph.h\n",
      "patching file deps/gbwtgraph/src/cached_gbwtgraph.cpp\n",
      "Library will be installed in '/home/cc/miniGiraffe/deps/sdsl-lite'\n",
      "WARNING: .git/hooks directory does not exists.\n",
      "         The pre-commit hook is not installed.\n",
      "ERROR: CMake build failed.\n"
     ]
    },
    {
     "name": "stderr",
     "output_type": "stream",
     "text": [
      "install.sh: line 56: cmake: command not found\n",
      "install-deps.sh: line 9: cmake: command not found\n",
      "make: *** No targets specified and no makefile found.  Stop.\n",
      "make: *** No rule to make target 'install'.  Stop.\n",
      "Makefile:2: ../sdsl-lite/Make.helper: No such file or directory\n",
      "make: *** No rule to make target '../sdsl-lite/Make.helper'.  Stop.\n"
     ]
    },
    {
     "name": "stdout",
     "output_type": "stream",
     "text": [
      "Installing GBWT to '/home/cc/miniGiraffe/deps/gbwt'.\n",
      "Running 160 parallel make jobs.\n",
      "Error: Cleanup failed.\n",
      "Installing GBWTGraph to '/home/cc/miniGiraffe/deps/gbwtgraph'.\n"
     ]
    },
    {
     "name": "stderr",
     "output_type": "stream",
     "text": [
      "Makefile:2: ../sdsl-lite/Make.helper: No such file or directory\n",
      "make: *** No rule to make target '../sdsl-lite/Make.helper'.  Stop.\n"
     ]
    },
    {
     "name": "stdout",
     "output_type": "stream",
     "text": [
      "Running 160 parallel make jobs.\n",
      "Error: Cleanup failed.\n",
      "g++ -fopenmp -O3 -g  -I/home/cc/miniGiraffe -I/home/cc/miniGiraffe/deps/gbwtgraph/include -I/home/cc/miniGiraffe/deps/gbwt/include -I/home/cc/miniGiraffe/deps/sdsl-lite/include -I/home/cc/miniGiraffe/deps/libhandlegraph/build/usr/local/include -I/home/cc/miniGiraffe/src -shared -fPIC -L/home/cc/miniGiraffe/deps/sdsl-lite/lib -L/home/cc/miniGiraffe/deps/gbwt/lib -L/home/cc/miniGiraffe/deps/libhandlegraph/build/usr/local/lib -L/home/cc/miniGiraffe/deps/gbwtgraph/lib src/time-utils.cpp -lgbwtgraph -lgbwt -lhandlegraph -lsdsl -ldivsufsort -ldivsufsort64  -o time-utils.so\n"
     ]
    },
    {
     "name": "stderr",
     "output_type": "stream",
     "text": [
      "/usr/bin/ld: cannot find -lgbwtgraph: No such file or directory\n",
      "/usr/bin/ld: cannot find -lgbwt: No such file or directory\n",
      "/usr/bin/ld: cannot find -lhandlegraph: No such file or directory\n",
      "/usr/bin/ld: cannot find -lsdsl: No such file or directory\n",
      "/usr/bin/ld: cannot find -ldivsufsort: No such file or directory\n",
      "/usr/bin/ld: cannot find -ldivsufsort64: No such file or directory\n",
      "collect2: error: ld returned 1 exit status\n",
      "make: *** [Makefile:28: time-utils.so] Error 1\n",
      "miniGiraffe/iiswc25/setup-environment.sh: line 13: ./miniGiraffe: No such file or directory\n"
     ]
    },
    {
     "data": {
      "text/plain": [
       "<Result cmd='bash miniGiraffe/iiswc25/setup-environment.sh' exited=0>"
      ]
     },
     "execution_count": 42,
     "metadata": {},
     "output_type": "execute_result"
    }
   ],
   "source": [
    "my_server.execute(\"bash miniGiraffe/iiswc25/setup-environment.sh\")"
   ]
  },
  {
   "cell_type": "code",
   "execution_count": 48,
   "metadata": {
    "tags": []
   },
   "outputs": [
    {
     "name": "stdout",
     "output_type": "stream",
     "text": [
      "patching file deps/gbwt/include/gbwt/cached_gbwt.h\n",
      "Reversed (or previously applied) patch detected!  Assume -R? [n] \n",
      "Apply anyway? [n] \n",
      "Skipping patch.\n",
      "1 out of 1 hunk ignored -- saving rejects to file deps/gbwt/include/gbwt/cached_gbwt.h.rej\n",
      "patching file deps/gbwt/src/cached_gbwt.cpp\n",
      "Reversed (or previously applied) patch detected!  Assume -R? [n] \n",
      "Apply anyway? [n] \n",
      "Skipping patch.\n",
      "1 out of 1 hunk ignored -- saving rejects to file deps/gbwt/src/cached_gbwt.cpp.rej\n",
      "patching file deps/gbwtgraph/include/gbwtgraph/cached_gbwtgraph.h\n",
      "Reversed (or previously applied) patch detected!  Assume -R? [n] \n",
      "Apply anyway? [n] \n",
      "Skipping patch.\n",
      "1 out of 1 hunk ignored -- saving rejects to file deps/gbwtgraph/include/gbwtgraph/cached_gbwtgraph.h.rej\n",
      "patching file deps/gbwtgraph/include/gbwtgraph/gbwtgraph.h\n",
      "Reversed (or previously applied) patch detected!  Assume -R? [n] \n",
      "Apply anyway? [n] \n",
      "Skipping patch.\n",
      "1 out of 1 hunk ignored -- saving rejects to file deps/gbwtgraph/include/gbwtgraph/gbwtgraph.h.rej\n",
      "patching file deps/gbwtgraph/src/cached_gbwtgraph.cpp\n",
      "Reversed (or previously applied) patch detected!  Assume -R? [n] \n",
      "Apply anyway? [n] \n",
      "Skipping patch.\n",
      "1 out of 1 hunk ignored -- saving rejects to file deps/gbwtgraph/src/cached_gbwtgraph.cpp.rej\n",
      "Library will be installed in '/home/cc/miniGiraffe/deps/sdsl-lite'\n",
      "WARNING: .git/hooks directory does not exists.\n",
      "         The pre-commit hook is not installed.\n",
      "-- The CXX compiler identification is GNU 11.4.0\n",
      "-- The C compiler identification is GNU 11.4.0\n",
      "-- Detecting CXX compiler ABI info\n",
      "-- Detecting CXX compiler ABI info - done\n",
      "-- Check for working CXX compiler: /usr/bin/c++ - skipped\n",
      "-- Detecting CXX compile features\n",
      "-- Detecting CXX compile features - done\n",
      "-- Detecting C compiler ABI info\n",
      "-- Detecting C compiler ABI info - done\n",
      "-- Check for working C compiler: /usr/bin/cc - skipped\n",
      "-- Detecting C compile features\n",
      "-- Detecting C compile features - done\n",
      "-- Compiler is recent enough to support C++14.\n",
      "-- Performing Test HAVE_GCC_STD=C__14__WALL__WEXTRA__DNDEBUG\n",
      "-- Performing Test HAVE_GCC_STD=C__14__WALL__WEXTRA__DNDEBUG - Success\n",
      "-- Performing Test HAVE_GCC_O3__FFAST_MATH__FUNROLL_LOOPS\n",
      "-- Performing Test HAVE_GCC_O3__FFAST_MATH__FUNROLL_LOOPS - Success\n",
      "-- Performing Test HAVE_GCC_MSSE4.2__MARCH=NATIVE\n",
      "-- Performing Test HAVE_GCC_MSSE4.2__MARCH=NATIVE - Success\n",
      "-- Performing Test HAVE_CLANG_MSSE4.2__MARCH=NATIVE\n",
      "-- Performing Test HAVE_CLANG_MSSE4.2__MARCH=NATIVE - Success\n",
      "-- Performing Test HAVE_CXA_DEMANGLE\n",
      "-- Performing Test HAVE_CXA_DEMANGLE - Success\n",
      "-- Compiler supports DEMANGLE.\n",
      "-- Performing Test HAVE_GCC_DHAVE_CXA_DEMANGLE\n",
      "-- Performing Test HAVE_GCC_DHAVE_CXA_DEMANGLE - Success\n"
     ]
    },
    {
     "name": "stderr",
     "output_type": "stream",
     "text": [
      "git found: /usr/bin/git\n"
     ]
    },
    {
     "name": "stdout",
     "output_type": "stream",
     "text": [
      "-- Found Git: /usr/bin/git (found version \"2.34.1\") \n"
     ]
    },
    {
     "name": "stderr",
     "output_type": "stream",
     "text": [
      "CMake Deprecation Warning at external/libdivsufsort/CMakeLists.txt:2 (cmake_minimum_required):\n",
      "  Compatibility with CMake < 2.8.12 will be removed from a future version of\n",
      "  CMake.\n",
      "\n",
      "  Update the VERSION argument <min> value or use a ...<max> suffix to tell\n",
      "  CMake that the project does not need compatibility with older versions.\n",
      "\n",
      "\n",
      "CMake Warning (dev) at external/libdivsufsort/CMakeLists.txt:7 (project):\n",
      "  Policy CMP0048 is not set: project() command manages VERSION variables.\n",
      "  Run \"cmake --help-policy CMP0048\" for policy details.  Use the cmake_policy\n",
      "  command to set the policy and suppress this warning.\n",
      "\n",
      "  The following variable(s) would be set to empty:\n",
      "\n",
      "    PROJECT_VERSION\n",
      "    PROJECT_VERSION_MAJOR\n",
      "    PROJECT_VERSION_MINOR\n",
      "    PROJECT_VERSION_PATCH\n",
      "This warning is for project developers.  Use -Wno-dev to suppress it.\n",
      "\n"
     ]
    },
    {
     "name": "stdout",
     "output_type": "stream",
     "text": [
      "-- Performing Test HAVE_GCC_WALL\n",
      "-- Performing Test HAVE_GCC_WALL - Success\n",
      "-- Performing Test HAVE_GCC_FOMIT_FRAME_POINTER\n",
      "-- Performing Test HAVE_GCC_FOMIT_FRAME_POINTER - Success\n",
      "-- Looking for inttypes.h\n",
      "-- Looking for inttypes.h - found\n",
      "-- Looking for memory.h\n",
      "-- Looking for memory.h - found\n",
      "-- Looking for stddef.h\n",
      "-- Looking for stddef.h - found\n",
      "-- Looking for stdint.h\n",
      "-- Looking for stdint.h - found\n",
      "-- Looking for stdlib.h\n",
      "-- Looking for stdlib.h - found\n",
      "-- Looking for string.h\n",
      "-- Looking for string.h - found\n",
      "-- Looking for strings.h\n",
      "-- Looking for strings.h - found\n",
      "-- Looking for sys/types.h\n",
      "-- Looking for sys/types.h - found\n",
      "-- Performing Test HAVE_INLINE\n",
      "-- Performing Test HAVE_INLINE - Success\n",
      "-- Performing Test HAVE___INLINE\n",
      "-- Performing Test HAVE___INLINE - Success\n",
      "-- Performing Test HAVE___INLINE__\n",
      "-- Performing Test HAVE___INLINE__ - Success\n",
      "-- Performing Test HAVE___DECLSPEC_DLLEXPORT_\n",
      "-- Performing Test HAVE___DECLSPEC_DLLEXPORT_ - Failed\n",
      "-- Performing Test HAVE___DECLSPEC_DLLIMPORT_\n",
      "-- Performing Test HAVE___DECLSPEC_DLLIMPORT_ - Failed\n",
      "-- Check size of uint8_t\n",
      "-- Check size of uint8_t - done\n",
      "-- Check size of int32_t\n",
      "-- Check size of int32_t - done\n",
      "-- Looking for PRId32\n",
      "-- Looking for PRId32 - found\n",
      "-- Check size of int64_t\n",
      "-- Check size of int64_t - done\n",
      "-- Looking for PRId64\n",
      "-- Looking for PRId64 - found\n"
     ]
    },
    {
     "name": "stderr",
     "output_type": "stream",
     "text": [
      "CMake Deprecation Warning at external/googletest/googletest/CMakeLists.txt:48 (cmake_minimum_required):\n",
      "  Compatibility with CMake < 2.8.12 will be removed from a future version of\n",
      "  CMake.\n",
      "\n",
      "  Update the VERSION argument <min> value or use a ...<max> suffix to tell\n",
      "  CMake that the project does not need compatibility with older versions.\n",
      "\n",
      "\n"
     ]
    },
    {
     "name": "stdout",
     "output_type": "stream",
     "text": [
      "-- Found PythonInterp: /usr/bin/python3.10 (found version \"3.10.12\") \n",
      "-- Looking for pthread.h\n",
      "-- Looking for pthread.h - found\n",
      "-- Performing Test CMAKE_HAVE_LIBC_PTHREAD\n",
      "-- Performing Test CMAKE_HAVE_LIBC_PTHREAD - Success\n",
      "-- Found Threads: TRUE  \n",
      "-- Looking for C++ include cstdio\n",
      "-- Looking for C++ include cstdio - found\n",
      "-- Could NOT find Doxygen (missing: DOXYGEN_EXECUTABLE) \n",
      "-- Configuring done\n",
      "-- Generating done\n",
      "-- Build files have been written to: /home/cc/miniGiraffe/deps/sdsl-lite/build\n",
      "/usr/bin/cmake -S/home/cc/miniGiraffe/deps/sdsl-lite -B/home/cc/miniGiraffe/deps/sdsl-lite/build --check-build-system CMakeFiles/Makefile.cmake 0\n",
      "make  -f CMakeFiles/Makefile2 sdsl\n",
      "make[1]: Entering directory '/home/cc/miniGiraffe/deps/sdsl-lite/build'\n",
      "/usr/bin/cmake -S/home/cc/miniGiraffe/deps/sdsl-lite -B/home/cc/miniGiraffe/deps/sdsl-lite/build --check-build-system CMakeFiles/Makefile.cmake 0\n",
      "/usr/bin/cmake -E cmake_progress_start /home/cc/miniGiraffe/deps/sdsl-lite/build/CMakeFiles 8\n",
      "make  -f CMakeFiles/Makefile2 lib/CMakeFiles/sdsl.dir/all\n",
      "make[2]: Entering directory '/home/cc/miniGiraffe/deps/sdsl-lite/build'\n",
      "make  -f lib/CMakeFiles/sdsl.dir/build.make lib/CMakeFiles/sdsl.dir/depend\n",
      "make[3]: Entering directory '/home/cc/miniGiraffe/deps/sdsl-lite/build'\n",
      "cd /home/cc/miniGiraffe/deps/sdsl-lite/build && /usr/bin/cmake -E cmake_depends \"Unix Makefiles\" /home/cc/miniGiraffe/deps/sdsl-lite /home/cc/miniGiraffe/deps/sdsl-lite/lib /home/cc/miniGiraffe/deps/sdsl-lite/build /home/cc/miniGiraffe/deps/sdsl-lite/build/lib /home/cc/miniGiraffe/deps/sdsl-lite/build/lib/CMakeFiles/sdsl.dir/DependInfo.cmake --color=\n",
      "make[3]: Leaving directory '/home/cc/miniGiraffe/deps/sdsl-lite/build'\n",
      "make  -f lib/CMakeFiles/sdsl.dir/build.make lib/CMakeFiles/sdsl.dir/build\n",
      "make[3]: Entering directory '/home/cc/miniGiraffe/deps/sdsl-lite/build'\n",
      "[ 12%] Building CXX object lib/CMakeFiles/sdsl.dir/bits.cpp.o\n",
      "cd /home/cc/miniGiraffe/deps/sdsl-lite/build/lib && /usr/bin/c++ -DMODE_TI -I/home/cc/miniGiraffe/deps/sdsl-lite/build/lib/../include -I/home/cc/miniGiraffe/deps/sdsl-lite/build/lib/../external/libdivsufsort/include -I/home/cc/miniGiraffe/deps/sdsl-lite/include -std=c++14 -Wall -Wextra -DNDEBUG -O3 -DNDEBUG -MD -MT lib/CMakeFiles/sdsl.dir/bits.cpp.o -MF CMakeFiles/sdsl.dir/bits.cpp.o.d -o CMakeFiles/sdsl.dir/bits.cpp.o -c /home/cc/miniGiraffe/deps/sdsl-lite/lib/bits.cpp\n",
      "[ 12%] Building CXX object lib/CMakeFiles/sdsl.dir/bp_support_algorithm.cpp.o\n",
      "cd /home/cc/miniGiraffe/deps/sdsl-lite/build/lib && /usr/bin/c++ -DMODE_TI -I/home/cc/miniGiraffe/deps/sdsl-lite/build/lib/../include -I/home/cc/miniGiraffe/deps/sdsl-lite/build/lib/../external/libdivsufsort/include -I/home/cc/miniGiraffe/deps/sdsl-lite/include -std=c++14 -Wall -Wextra -DNDEBUG -O3 -DNDEBUG -MD -MT lib/CMakeFiles/sdsl.dir/bp_support_algorithm.cpp.o -MF CMakeFiles/sdsl.dir/bp_support_algorithm.cpp.o.d -o CMakeFiles/sdsl.dir/bp_support_algorithm.cpp.o -c /home/cc/miniGiraffe/deps/sdsl-lite/lib/bp_support_algorithm.cpp\n"
     ]
    },
    {
     "name": "stderr",
     "output_type": "stream",
     "text": [
      "In file included from /home/cc/miniGiraffe/deps/sdsl-lite/build/lib/../include/sdsl/int_vector.hpp:24,\n",
      "                 from /home/cc/miniGiraffe/deps/sdsl-lite/build/lib/../include/sdsl/bp_support_algorithm.hpp:24,\n",
      "                 from /home/cc/miniGiraffe/deps/sdsl-lite/lib/bp_support_algorithm.cpp:1:\n",
      "In static member function ‘static void sdsl::bits::write_int(uint64_t*, uint64_t, uint8_t, uint8_t)’,\n",
      "    inlined from ‘static void sdsl::memory_manager::resize(t_vec&, typename t_vec::size_type) [with t_vec = sdsl::int_vector<0>]’ at /home/cc/miniGiraffe/deps/sdsl-lite/build/lib/../include/sdsl/memory_management.hpp:364:36,\n",
      "    inlined from ‘void sdsl::int_vector<<anonymous> >::bit_resize(sdsl::int_vector<<anonymous> >::size_type) [with unsigned char t_width = 0]’ at /home/cc/miniGiraffe/deps/sdsl-lite/build/lib/../include/sdsl/int_vector.hpp:1358:27,\n",
      "    inlined from ‘void sdsl::int_vector<<anonymous> >::resize(sdsl::int_vector<<anonymous> >::size_type) [with unsigned char t_width = 0]’ at /home/cc/miniGiraffe/deps/sdsl-lite/build/lib/../include/sdsl/int_vector.hpp:380:23,\n",
      "    inlined from ‘sdsl::int_vector<<anonymous> >::int_vector(sdsl::int_vector<<anonymous> >::size_type, sdsl::int_vector<<anonymous> >::value_type, uint8_t) [with unsigned char t_width = 0]’ at /home/cc/miniGiraffe/deps/sdsl-lite/build/lib/../include/sdsl/int_vector.hpp:1285:11,\n",
      "    inlined from ‘sdsl::excess::impl::impl()’ at /home/cc/miniGiraffe/deps/sdsl-lite/build/lib/../include/sdsl/bp_support_algorithm.hpp:114:46:\n",
      "/home/cc/miniGiraffe/deps/sdsl-lite/build/lib/../include/sdsl/bits.hpp:448:15: warning: ‘*temp’ may be used uninitialized [-Wmaybe-uninitialized]\n",
      "  448 |         *word &=\n",
      "      |         ~~~~~~^~\n",
      "  449 |             ((bits::all_set << (offset+len)) | bits::lo_set[offset]); // mask 1..10..01..1\n",
      "      |             ~~~~~~~~~~~~~~~~~~~~~~~~~~~~~~~~~~~~~~~~~~~~~~~~~~~~~~~~\n"
     ]
    },
    {
     "name": "stdout",
     "output_type": "stream",
     "text": [
      "[ 12%] Building CXX object lib/CMakeFiles/sdsl.dir/coder_elias_delta.cpp.o\n",
      "cd /home/cc/miniGiraffe/deps/sdsl-lite/build/lib && /usr/bin/c++ -DMODE_TI -I/home/cc/miniGiraffe/deps/sdsl-lite/build/lib/../include -I/home/cc/miniGiraffe/deps/sdsl-lite/build/lib/../external/libdivsufsort/include -I/home/cc/miniGiraffe/deps/sdsl-lite/include -std=c++14 -Wall -Wextra -DNDEBUG -O3 -DNDEBUG -MD -MT lib/CMakeFiles/sdsl.dir/coder_elias_delta.cpp.o -MF CMakeFiles/sdsl.dir/coder_elias_delta.cpp.o.d -o CMakeFiles/sdsl.dir/coder_elias_delta.cpp.o -c /home/cc/miniGiraffe/deps/sdsl-lite/lib/coder_elias_delta.cpp\n",
      "[ 12%] Building CXX object lib/CMakeFiles/sdsl.dir/coder_elias_gamma.cpp.o\n",
      "cd /home/cc/miniGiraffe/deps/sdsl-lite/build/lib && /usr/bin/c++ -DMODE_TI -I/home/cc/miniGiraffe/deps/sdsl-lite/build/lib/../include -I/home/cc/miniGiraffe/deps/sdsl-lite/build/lib/../external/libdivsufsort/include -I/home/cc/miniGiraffe/deps/sdsl-lite/include -std=c++14 -Wall -Wextra -DNDEBUG -O3 -DNDEBUG -MD -MT lib/CMakeFiles/sdsl.dir/coder_elias_gamma.cpp.o -MF CMakeFiles/sdsl.dir/coder_elias_gamma.cpp.o.d -o CMakeFiles/sdsl.dir/coder_elias_gamma.cpp.o -c /home/cc/miniGiraffe/deps/sdsl-lite/lib/coder_elias_gamma.cpp\n",
      "[ 25%] Building CXX object lib/CMakeFiles/sdsl.dir/coder_fibonacci.cpp.o\n",
      "cd /home/cc/miniGiraffe/deps/sdsl-lite/build/lib && /usr/bin/c++ -DMODE_TI -I/home/cc/miniGiraffe/deps/sdsl-lite/build/lib/../include -I/home/cc/miniGiraffe/deps/sdsl-lite/build/lib/../external/libdivsufsort/include -I/home/cc/miniGiraffe/deps/sdsl-lite/include -std=c++14 -Wall -Wextra -DNDEBUG -O3 -DNDEBUG -MD -MT lib/CMakeFiles/sdsl.dir/coder_fibonacci.cpp.o -MF CMakeFiles/sdsl.dir/coder_fibonacci.cpp.o.d -o CMakeFiles/sdsl.dir/coder_fibonacci.cpp.o -c /home/cc/miniGiraffe/deps/sdsl-lite/lib/coder_fibonacci.cpp\n",
      "[ 25%] Building CXX object lib/CMakeFiles/sdsl.dir/config.cpp.o\n",
      "cd /home/cc/miniGiraffe/deps/sdsl-lite/build/lib && /usr/bin/c++ -DMODE_TI -I/home/cc/miniGiraffe/deps/sdsl-lite/build/lib/../include -I/home/cc/miniGiraffe/deps/sdsl-lite/build/lib/../external/libdivsufsort/include -I/home/cc/miniGiraffe/deps/sdsl-lite/include -std=c++14 -Wall -Wextra -DNDEBUG -O3 -DNDEBUG -MD -MT lib/CMakeFiles/sdsl.dir/config.cpp.o -MF CMakeFiles/sdsl.dir/config.cpp.o.d -o CMakeFiles/sdsl.dir/config.cpp.o -c /home/cc/miniGiraffe/deps/sdsl-lite/lib/config.cpp\n",
      "[ 25%] Building CXX object lib/CMakeFiles/sdsl.dir/construct_config.cpp.o\n",
      "cd /home/cc/miniGiraffe/deps/sdsl-lite/build/lib && /usr/bin/c++ -DMODE_TI -I/home/cc/miniGiraffe/deps/sdsl-lite/build/lib/../include -I/home/cc/miniGiraffe/deps/sdsl-lite/build/lib/../external/libdivsufsort/include -I/home/cc/miniGiraffe/deps/sdsl-lite/include -std=c++14 -Wall -Wextra -DNDEBUG -O3 -DNDEBUG -MD -MT lib/CMakeFiles/sdsl.dir/construct_config.cpp.o -MF CMakeFiles/sdsl.dir/construct_config.cpp.o.d -o CMakeFiles/sdsl.dir/construct_config.cpp.o -c /home/cc/miniGiraffe/deps/sdsl-lite/lib/construct_config.cpp\n",
      "[ 25%] Building CXX object lib/CMakeFiles/sdsl.dir/construct_isa.cpp.o\n",
      "cd /home/cc/miniGiraffe/deps/sdsl-lite/build/lib && /usr/bin/c++ -DMODE_TI -I/home/cc/miniGiraffe/deps/sdsl-lite/build/lib/../include -I/home/cc/miniGiraffe/deps/sdsl-lite/build/lib/../external/libdivsufsort/include -I/home/cc/miniGiraffe/deps/sdsl-lite/include -std=c++14 -Wall -Wextra -DNDEBUG -O3 -DNDEBUG -MD -MT lib/CMakeFiles/sdsl.dir/construct_isa.cpp.o -MF CMakeFiles/sdsl.dir/construct_isa.cpp.o.d -o CMakeFiles/sdsl.dir/construct_isa.cpp.o -c /home/cc/miniGiraffe/deps/sdsl-lite/lib/construct_isa.cpp\n",
      "[ 25%] Building CXX object lib/CMakeFiles/sdsl.dir/construct_lcp.cpp.o\n",
      "cd /home/cc/miniGiraffe/deps/sdsl-lite/build/lib && /usr/bin/c++ -DMODE_TI -I/home/cc/miniGiraffe/deps/sdsl-lite/build/lib/../include -I/home/cc/miniGiraffe/deps/sdsl-lite/build/lib/../external/libdivsufsort/include -I/home/cc/miniGiraffe/deps/sdsl-lite/include -std=c++14 -Wall -Wextra -DNDEBUG -O3 -DNDEBUG -MD -MT lib/CMakeFiles/sdsl.dir/construct_lcp.cpp.o -MF CMakeFiles/sdsl.dir/construct_lcp.cpp.o.d -o CMakeFiles/sdsl.dir/construct_lcp.cpp.o -c /home/cc/miniGiraffe/deps/sdsl-lite/lib/construct_lcp.cpp\n",
      "[ 37%] Building CXX object lib/CMakeFiles/sdsl.dir/construct_lcp_helper.cpp.o\n",
      "cd /home/cc/miniGiraffe/deps/sdsl-lite/build/lib && /usr/bin/c++ -DMODE_TI -I/home/cc/miniGiraffe/deps/sdsl-lite/build/lib/../include -I/home/cc/miniGiraffe/deps/sdsl-lite/build/lib/../external/libdivsufsort/include -I/home/cc/miniGiraffe/deps/sdsl-lite/include -std=c++14 -Wall -Wextra -DNDEBUG -O3 -DNDEBUG -MD -MT lib/CMakeFiles/sdsl.dir/construct_lcp_helper.cpp.o -MF CMakeFiles/sdsl.dir/construct_lcp_helper.cpp.o.d -o CMakeFiles/sdsl.dir/construct_lcp_helper.cpp.o -c /home/cc/miniGiraffe/deps/sdsl-lite/lib/construct_lcp_helper.cpp\n",
      "[ 37%] Building CXX object lib/CMakeFiles/sdsl.dir/construct_sa.cpp.o\n",
      "cd /home/cc/miniGiraffe/deps/sdsl-lite/build/lib && /usr/bin/c++ -DMODE_TI -I/home/cc/miniGiraffe/deps/sdsl-lite/build/lib/../include -I/home/cc/miniGiraffe/deps/sdsl-lite/build/lib/../external/libdivsufsort/include -I/home/cc/miniGiraffe/deps/sdsl-lite/include -std=c++14 -Wall -Wextra -DNDEBUG -O3 -DNDEBUG -MD -MT lib/CMakeFiles/sdsl.dir/construct_sa.cpp.o -MF CMakeFiles/sdsl.dir/construct_sa.cpp.o.d -o CMakeFiles/sdsl.dir/construct_sa.cpp.o -c /home/cc/miniGiraffe/deps/sdsl-lite/lib/construct_sa.cpp\n",
      "[ 37%] Building CXX object lib/CMakeFiles/sdsl.dir/construct_sa_se.cpp.o\n",
      "cd /home/cc/miniGiraffe/deps/sdsl-lite/build/lib && /usr/bin/c++ -DMODE_TI -I/home/cc/miniGiraffe/deps/sdsl-lite/build/lib/../include -I/home/cc/miniGiraffe/deps/sdsl-lite/build/lib/../external/libdivsufsort/include -I/home/cc/miniGiraffe/deps/sdsl-lite/include -std=c++14 -Wall -Wextra -DNDEBUG -O3 -DNDEBUG -MD -MT lib/CMakeFiles/sdsl.dir/construct_sa_se.cpp.o -MF CMakeFiles/sdsl.dir/construct_sa_se.cpp.o.d -o CMakeFiles/sdsl.dir/construct_sa_se.cpp.o -c /home/cc/miniGiraffe/deps/sdsl-lite/lib/construct_sa_se.cpp\n",
      "[ 37%] Building CXX object lib/CMakeFiles/sdsl.dir/csa_alphabet_strategy.cpp.o\n",
      "cd /home/cc/miniGiraffe/deps/sdsl-lite/build/lib && /usr/bin/c++ -DMODE_TI -I/home/cc/miniGiraffe/deps/sdsl-lite/build/lib/../include -I/home/cc/miniGiraffe/deps/sdsl-lite/build/lib/../external/libdivsufsort/include -I/home/cc/miniGiraffe/deps/sdsl-lite/include -std=c++14 -Wall -Wextra -DNDEBUG -O3 -DNDEBUG -MD -MT lib/CMakeFiles/sdsl.dir/csa_alphabet_strategy.cpp.o -MF CMakeFiles/sdsl.dir/csa_alphabet_strategy.cpp.o.d -o CMakeFiles/sdsl.dir/csa_alphabet_strategy.cpp.o -c /home/cc/miniGiraffe/deps/sdsl-lite/lib/csa_alphabet_strategy.cpp\n",
      "[ 50%] Building CXX object lib/CMakeFiles/sdsl.dir/io.cpp.o\n",
      "cd /home/cc/miniGiraffe/deps/sdsl-lite/build/lib && /usr/bin/c++ -DMODE_TI -I/home/cc/miniGiraffe/deps/sdsl-lite/build/lib/../include -I/home/cc/miniGiraffe/deps/sdsl-lite/build/lib/../external/libdivsufsort/include -I/home/cc/miniGiraffe/deps/sdsl-lite/include -std=c++14 -Wall -Wextra -DNDEBUG -O3 -DNDEBUG -MD -MT lib/CMakeFiles/sdsl.dir/io.cpp.o -MF CMakeFiles/sdsl.dir/io.cpp.o.d -o CMakeFiles/sdsl.dir/io.cpp.o -c /home/cc/miniGiraffe/deps/sdsl-lite/lib/io.cpp\n",
      "[ 50%] Building CXX object lib/CMakeFiles/sdsl.dir/lcp_support_tree.cpp.o\n",
      "cd /home/cc/miniGiraffe/deps/sdsl-lite/build/lib && /usr/bin/c++ -DMODE_TI -I/home/cc/miniGiraffe/deps/sdsl-lite/build/lib/../include -I/home/cc/miniGiraffe/deps/sdsl-lite/build/lib/../external/libdivsufsort/include -I/home/cc/miniGiraffe/deps/sdsl-lite/include -std=c++14 -Wall -Wextra -DNDEBUG -O3 -DNDEBUG -MD -MT lib/CMakeFiles/sdsl.dir/lcp_support_tree.cpp.o -MF CMakeFiles/sdsl.dir/lcp_support_tree.cpp.o.d -o CMakeFiles/sdsl.dir/lcp_support_tree.cpp.o -c /home/cc/miniGiraffe/deps/sdsl-lite/lib/lcp_support_tree.cpp\n",
      "[ 50%] Building CXX object lib/CMakeFiles/sdsl.dir/louds_tree.cpp.o\n",
      "cd /home/cc/miniGiraffe/deps/sdsl-lite/build/lib && /usr/bin/c++ -DMODE_TI -I/home/cc/miniGiraffe/deps/sdsl-lite/build/lib/../include -I/home/cc/miniGiraffe/deps/sdsl-lite/build/lib/../external/libdivsufsort/include -I/home/cc/miniGiraffe/deps/sdsl-lite/include -std=c++14 -Wall -Wextra -DNDEBUG -O3 -DNDEBUG -MD -MT lib/CMakeFiles/sdsl.dir/louds_tree.cpp.o -MF CMakeFiles/sdsl.dir/louds_tree.cpp.o.d -o CMakeFiles/sdsl.dir/louds_tree.cpp.o -c /home/cc/miniGiraffe/deps/sdsl-lite/lib/louds_tree.cpp\n",
      "[ 50%] Building CXX object lib/CMakeFiles/sdsl.dir/memory_management.cpp.o\n",
      "cd /home/cc/miniGiraffe/deps/sdsl-lite/build/lib && /usr/bin/c++ -DMODE_TI -I/home/cc/miniGiraffe/deps/sdsl-lite/build/lib/../include -I/home/cc/miniGiraffe/deps/sdsl-lite/build/lib/../external/libdivsufsort/include -I/home/cc/miniGiraffe/deps/sdsl-lite/include -std=c++14 -Wall -Wextra -DNDEBUG -O3 -DNDEBUG -MD -MT lib/CMakeFiles/sdsl.dir/memory_management.cpp.o -MF CMakeFiles/sdsl.dir/memory_management.cpp.o.d -o CMakeFiles/sdsl.dir/memory_management.cpp.o -c /home/cc/miniGiraffe/deps/sdsl-lite/lib/memory_management.cpp\n",
      "[ 62%] Building CXX object lib/CMakeFiles/sdsl.dir/nn_dict_dynamic.cpp.o\n",
      "cd /home/cc/miniGiraffe/deps/sdsl-lite/build/lib && /usr/bin/c++ -DMODE_TI -I/home/cc/miniGiraffe/deps/sdsl-lite/build/lib/../include -I/home/cc/miniGiraffe/deps/sdsl-lite/build/lib/../external/libdivsufsort/include -I/home/cc/miniGiraffe/deps/sdsl-lite/include -std=c++14 -Wall -Wextra -DNDEBUG -O3 -DNDEBUG -MD -MT lib/CMakeFiles/sdsl.dir/nn_dict_dynamic.cpp.o -MF CMakeFiles/sdsl.dir/nn_dict_dynamic.cpp.o.d -o CMakeFiles/sdsl.dir/nn_dict_dynamic.cpp.o -c /home/cc/miniGiraffe/deps/sdsl-lite/lib/nn_dict_dynamic.cpp\n",
      "[ 62%] Building CXX object lib/CMakeFiles/sdsl.dir/ram_filebuf.cpp.o\n",
      "cd /home/cc/miniGiraffe/deps/sdsl-lite/build/lib && /usr/bin/c++ -DMODE_TI -I/home/cc/miniGiraffe/deps/sdsl-lite/build/lib/../include -I/home/cc/miniGiraffe/deps/sdsl-lite/build/lib/../external/libdivsufsort/include -I/home/cc/miniGiraffe/deps/sdsl-lite/include -std=c++14 -Wall -Wextra -DNDEBUG -O3 -DNDEBUG -MD -MT lib/CMakeFiles/sdsl.dir/ram_filebuf.cpp.o -MF CMakeFiles/sdsl.dir/ram_filebuf.cpp.o.d -o CMakeFiles/sdsl.dir/ram_filebuf.cpp.o -c /home/cc/miniGiraffe/deps/sdsl-lite/lib/ram_filebuf.cpp\n",
      "[ 62%] Building CXX object lib/CMakeFiles/sdsl.dir/ram_fs.cpp.o\n",
      "cd /home/cc/miniGiraffe/deps/sdsl-lite/build/lib && /usr/bin/c++ -DMODE_TI -I/home/cc/miniGiraffe/deps/sdsl-lite/build/lib/../include -I/home/cc/miniGiraffe/deps/sdsl-lite/build/lib/../external/libdivsufsort/include -I/home/cc/miniGiraffe/deps/sdsl-lite/include -std=c++14 -Wall -Wextra -DNDEBUG -O3 -DNDEBUG -MD -MT lib/CMakeFiles/sdsl.dir/ram_fs.cpp.o -MF CMakeFiles/sdsl.dir/ram_fs.cpp.o.d -o CMakeFiles/sdsl.dir/ram_fs.cpp.o -c /home/cc/miniGiraffe/deps/sdsl-lite/lib/ram_fs.cpp\n",
      "[ 62%] Building CXX object lib/CMakeFiles/sdsl.dir/rrr_vector_15.cpp.o\n",
      "cd /home/cc/miniGiraffe/deps/sdsl-lite/build/lib && /usr/bin/c++ -DMODE_TI -I/home/cc/miniGiraffe/deps/sdsl-lite/build/lib/../include -I/home/cc/miniGiraffe/deps/sdsl-lite/build/lib/../external/libdivsufsort/include -I/home/cc/miniGiraffe/deps/sdsl-lite/include -std=c++14 -Wall -Wextra -DNDEBUG -O3 -DNDEBUG -MD -MT lib/CMakeFiles/sdsl.dir/rrr_vector_15.cpp.o -MF CMakeFiles/sdsl.dir/rrr_vector_15.cpp.o.d -o CMakeFiles/sdsl.dir/rrr_vector_15.cpp.o -c /home/cc/miniGiraffe/deps/sdsl-lite/lib/rrr_vector_15.cpp\n",
      "[ 75%] Building CXX object lib/CMakeFiles/sdsl.dir/sd_vector.cpp.o\n",
      "cd /home/cc/miniGiraffe/deps/sdsl-lite/build/lib && /usr/bin/c++ -DMODE_TI -I/home/cc/miniGiraffe/deps/sdsl-lite/build/lib/../include -I/home/cc/miniGiraffe/deps/sdsl-lite/build/lib/../external/libdivsufsort/include -I/home/cc/miniGiraffe/deps/sdsl-lite/include -std=c++14 -Wall -Wextra -DNDEBUG -O3 -DNDEBUG -MD -MT lib/CMakeFiles/sdsl.dir/sd_vector.cpp.o -MF CMakeFiles/sdsl.dir/sd_vector.cpp.o.d -o CMakeFiles/sdsl.dir/sd_vector.cpp.o -c /home/cc/miniGiraffe/deps/sdsl-lite/lib/sd_vector.cpp\n",
      "[ 75%] Building CXX object lib/CMakeFiles/sdsl.dir/sfstream.cpp.o\n",
      "cd /home/cc/miniGiraffe/deps/sdsl-lite/build/lib && /usr/bin/c++ -DMODE_TI -I/home/cc/miniGiraffe/deps/sdsl-lite/build/lib/../include -I/home/cc/miniGiraffe/deps/sdsl-lite/build/lib/../external/libdivsufsort/include -I/home/cc/miniGiraffe/deps/sdsl-lite/include -std=c++14 -Wall -Wextra -DNDEBUG -O3 -DNDEBUG -MD -MT lib/CMakeFiles/sdsl.dir/sfstream.cpp.o -MF CMakeFiles/sdsl.dir/sfstream.cpp.o.d -o CMakeFiles/sdsl.dir/sfstream.cpp.o -c /home/cc/miniGiraffe/deps/sdsl-lite/lib/sfstream.cpp\n",
      "[ 75%] Building CXX object lib/CMakeFiles/sdsl.dir/simple_sds.cpp.o\n",
      "cd /home/cc/miniGiraffe/deps/sdsl-lite/build/lib && /usr/bin/c++ -DMODE_TI -I/home/cc/miniGiraffe/deps/sdsl-lite/build/lib/../include -I/home/cc/miniGiraffe/deps/sdsl-lite/build/lib/../external/libdivsufsort/include -I/home/cc/miniGiraffe/deps/sdsl-lite/include -std=c++14 -Wall -Wextra -DNDEBUG -O3 -DNDEBUG -MD -MT lib/CMakeFiles/sdsl.dir/simple_sds.cpp.o -MF CMakeFiles/sdsl.dir/simple_sds.cpp.o.d -o CMakeFiles/sdsl.dir/simple_sds.cpp.o -c /home/cc/miniGiraffe/deps/sdsl-lite/lib/simple_sds.cpp\n",
      "[ 75%] Building CXX object lib/CMakeFiles/sdsl.dir/structure_tree.cpp.o\n",
      "cd /home/cc/miniGiraffe/deps/sdsl-lite/build/lib && /usr/bin/c++ -DMODE_TI -I/home/cc/miniGiraffe/deps/sdsl-lite/build/lib/../include -I/home/cc/miniGiraffe/deps/sdsl-lite/build/lib/../external/libdivsufsort/include -I/home/cc/miniGiraffe/deps/sdsl-lite/include -std=c++14 -Wall -Wextra -DNDEBUG -O3 -DNDEBUG -MD -MT lib/CMakeFiles/sdsl.dir/structure_tree.cpp.o -MF CMakeFiles/sdsl.dir/structure_tree.cpp.o.d -o CMakeFiles/sdsl.dir/structure_tree.cpp.o -c /home/cc/miniGiraffe/deps/sdsl-lite/lib/structure_tree.cpp\n",
      "[ 87%] Building CXX object lib/CMakeFiles/sdsl.dir/uint128_t.cpp.o\n",
      "cd /home/cc/miniGiraffe/deps/sdsl-lite/build/lib && /usr/bin/c++ -DMODE_TI -I/home/cc/miniGiraffe/deps/sdsl-lite/build/lib/../include -I/home/cc/miniGiraffe/deps/sdsl-lite/build/lib/../external/libdivsufsort/include -I/home/cc/miniGiraffe/deps/sdsl-lite/include -std=c++14 -Wall -Wextra -DNDEBUG -O3 -DNDEBUG -MD -MT lib/CMakeFiles/sdsl.dir/uint128_t.cpp.o -MF CMakeFiles/sdsl.dir/uint128_t.cpp.o.d -o CMakeFiles/sdsl.dir/uint128_t.cpp.o -c /home/cc/miniGiraffe/deps/sdsl-lite/lib/uint128_t.cpp\n",
      "[ 87%] Building CXX object lib/CMakeFiles/sdsl.dir/uint256_t.cpp.o\n",
      "cd /home/cc/miniGiraffe/deps/sdsl-lite/build/lib && /usr/bin/c++ -DMODE_TI -I/home/cc/miniGiraffe/deps/sdsl-lite/build/lib/../include -I/home/cc/miniGiraffe/deps/sdsl-lite/build/lib/../external/libdivsufsort/include -I/home/cc/miniGiraffe/deps/sdsl-lite/include -std=c++14 -Wall -Wextra -DNDEBUG -O3 -DNDEBUG -MD -MT lib/CMakeFiles/sdsl.dir/uint256_t.cpp.o -MF CMakeFiles/sdsl.dir/uint256_t.cpp.o.d -o CMakeFiles/sdsl.dir/uint256_t.cpp.o -c /home/cc/miniGiraffe/deps/sdsl-lite/lib/uint256_t.cpp\n",
      "[ 87%] Building CXX object lib/CMakeFiles/sdsl.dir/util.cpp.o\n",
      "cd /home/cc/miniGiraffe/deps/sdsl-lite/build/lib && /usr/bin/c++ -DMODE_TI -I/home/cc/miniGiraffe/deps/sdsl-lite/build/lib/../include -I/home/cc/miniGiraffe/deps/sdsl-lite/build/lib/../external/libdivsufsort/include -I/home/cc/miniGiraffe/deps/sdsl-lite/include -std=c++14 -Wall -Wextra -DNDEBUG -O3 -DNDEBUG -MD -MT lib/CMakeFiles/sdsl.dir/util.cpp.o -MF CMakeFiles/sdsl.dir/util.cpp.o.d -o CMakeFiles/sdsl.dir/util.cpp.o -c /home/cc/miniGiraffe/deps/sdsl-lite/lib/util.cpp\n",
      "[ 87%] Building CXX object lib/CMakeFiles/sdsl.dir/wt_helper.cpp.o\n",
      "cd /home/cc/miniGiraffe/deps/sdsl-lite/build/lib && /usr/bin/c++ -DMODE_TI -I/home/cc/miniGiraffe/deps/sdsl-lite/build/lib/../include -I/home/cc/miniGiraffe/deps/sdsl-lite/build/lib/../external/libdivsufsort/include -I/home/cc/miniGiraffe/deps/sdsl-lite/include -std=c++14 -Wall -Wextra -DNDEBUG -O3 -DNDEBUG -MD -MT lib/CMakeFiles/sdsl.dir/wt_helper.cpp.o -MF CMakeFiles/sdsl.dir/wt_helper.cpp.o.d -o CMakeFiles/sdsl.dir/wt_helper.cpp.o -c /home/cc/miniGiraffe/deps/sdsl-lite/lib/wt_helper.cpp\n",
      "[100%] Linking CXX static library libsdsl.a\n",
      "cd /home/cc/miniGiraffe/deps/sdsl-lite/build/lib && /usr/bin/cmake -P CMakeFiles/sdsl.dir/cmake_clean_target.cmake\n",
      "cd /home/cc/miniGiraffe/deps/sdsl-lite/build/lib && /usr/bin/cmake -E cmake_link_script CMakeFiles/sdsl.dir/link.txt --verbose=1\n",
      "/usr/bin/ar qc libsdsl.a CMakeFiles/sdsl.dir/bits.cpp.o CMakeFiles/sdsl.dir/bp_support_algorithm.cpp.o CMakeFiles/sdsl.dir/coder_elias_delta.cpp.o CMakeFiles/sdsl.dir/coder_elias_gamma.cpp.o CMakeFiles/sdsl.dir/coder_fibonacci.cpp.o CMakeFiles/sdsl.dir/config.cpp.o CMakeFiles/sdsl.dir/construct_config.cpp.o CMakeFiles/sdsl.dir/construct_isa.cpp.o CMakeFiles/sdsl.dir/construct_lcp.cpp.o CMakeFiles/sdsl.dir/construct_lcp_helper.cpp.o CMakeFiles/sdsl.dir/construct_sa.cpp.o CMakeFiles/sdsl.dir/construct_sa_se.cpp.o CMakeFiles/sdsl.dir/csa_alphabet_strategy.cpp.o CMakeFiles/sdsl.dir/io.cpp.o CMakeFiles/sdsl.dir/lcp_support_tree.cpp.o CMakeFiles/sdsl.dir/louds_tree.cpp.o CMakeFiles/sdsl.dir/memory_management.cpp.o CMakeFiles/sdsl.dir/nn_dict_dynamic.cpp.o CMakeFiles/sdsl.dir/ram_filebuf.cpp.o CMakeFiles/sdsl.dir/ram_fs.cpp.o CMakeFiles/sdsl.dir/rrr_vector_15.cpp.o CMakeFiles/sdsl.dir/sd_vector.cpp.o CMakeFiles/sdsl.dir/sfstream.cpp.o CMakeFiles/sdsl.dir/simple_sds.cpp.o CMakeFiles/sdsl.dir/structure_tree.cpp.o CMakeFiles/sdsl.dir/uint128_t.cpp.o CMakeFiles/sdsl.dir/uint256_t.cpp.o CMakeFiles/sdsl.dir/util.cpp.o CMakeFiles/sdsl.dir/wt_helper.cpp.o\n",
      "/usr/bin/ranlib libsdsl.a\n",
      "make[3]: Leaving directory '/home/cc/miniGiraffe/deps/sdsl-lite/build'\n",
      "[100%] Built target sdsl\n",
      "make[2]: Leaving directory '/home/cc/miniGiraffe/deps/sdsl-lite/build'\n",
      "/usr/bin/cmake -E cmake_progress_start /home/cc/miniGiraffe/deps/sdsl-lite/build/CMakeFiles 0\n",
      "make[1]: Leaving directory '/home/cc/miniGiraffe/deps/sdsl-lite/build'\n",
      "Removing old files\n",
      "rm -rf '/home/cc/miniGiraffe/deps/sdsl-lite/include/sdsl/*'\n",
      "rm -f '/home/cc/miniGiraffe/deps/sdsl-lite/lib/libsdsl*'\n",
      "/usr/bin/cmake -S/home/cc/miniGiraffe/deps/sdsl-lite -B/home/cc/miniGiraffe/deps/sdsl-lite/build --check-build-system CMakeFiles/Makefile.cmake 0\n",
      "/usr/bin/cmake -E cmake_progress_start /home/cc/miniGiraffe/deps/sdsl-lite/build/CMakeFiles /home/cc/miniGiraffe/deps/sdsl-lite/build//CMakeFiles/progress.marks\n",
      "make  -f CMakeFiles/Makefile2 all\n",
      "make[1]: Entering directory '/home/cc/miniGiraffe/deps/sdsl-lite/build'\n",
      "make  -f external/libdivsufsort/lib/CMakeFiles/divsufsort.dir/build.make external/libdivsufsort/lib/CMakeFiles/divsufsort.dir/depend\n",
      "make[2]: Entering directory '/home/cc/miniGiraffe/deps/sdsl-lite/build'\n",
      "cd /home/cc/miniGiraffe/deps/sdsl-lite/build && /usr/bin/cmake -E cmake_depends \"Unix Makefiles\" /home/cc/miniGiraffe/deps/sdsl-lite /home/cc/miniGiraffe/deps/sdsl-lite/external/libdivsufsort/lib /home/cc/miniGiraffe/deps/sdsl-lite/build /home/cc/miniGiraffe/deps/sdsl-lite/build/external/libdivsufsort/lib /home/cc/miniGiraffe/deps/sdsl-lite/build/external/libdivsufsort/lib/CMakeFiles/divsufsort.dir/DependInfo.cmake --color=\n",
      "make[2]: Leaving directory '/home/cc/miniGiraffe/deps/sdsl-lite/build'\n",
      "make  -f external/libdivsufsort/lib/CMakeFiles/divsufsort.dir/build.make external/libdivsufsort/lib/CMakeFiles/divsufsort.dir/build\n",
      "make[2]: Entering directory '/home/cc/miniGiraffe/deps/sdsl-lite/build'\n",
      "[  8%] Building C object external/libdivsufsort/lib/CMakeFiles/divsufsort.dir/divsufsort.o\n",
      "cd /home/cc/miniGiraffe/deps/sdsl-lite/build/external/libdivsufsort/lib && /usr/bin/cc -DHAVE_CONFIG_H=1 -DMODE_TI -D__STDC_CONSTANT_MACROS -D__STDC_FORMAT_MACROS -D__STDC_LIMIT_MACROS -I/home/cc/miniGiraffe/deps/sdsl-lite/external/libdivsufsort/lib/../include -I/home/cc/miniGiraffe/deps/sdsl-lite/build/external/libdivsufsort/lib/../include -Wall -O3 -DNDEBUG -fomit-frame-pointer -MD -MT external/libdivsufsort/lib/CMakeFiles/divsufsort.dir/divsufsort.o -MF CMakeFiles/divsufsort.dir/divsufsort.o.d -o CMakeFiles/divsufsort.dir/divsufsort.o -c /home/cc/miniGiraffe/deps/sdsl-lite/external/libdivsufsort/lib/divsufsort.c\n",
      "[  8%] Building C object external/libdivsufsort/lib/CMakeFiles/divsufsort.dir/sssort.o\n",
      "cd /home/cc/miniGiraffe/deps/sdsl-lite/build/external/libdivsufsort/lib && /usr/bin/cc -DHAVE_CONFIG_H=1 -DMODE_TI -D__STDC_CONSTANT_MACROS -D__STDC_FORMAT_MACROS -D__STDC_LIMIT_MACROS -I/home/cc/miniGiraffe/deps/sdsl-lite/external/libdivsufsort/lib/../include -I/home/cc/miniGiraffe/deps/sdsl-lite/build/external/libdivsufsort/lib/../include -Wall -O3 -DNDEBUG -fomit-frame-pointer -MD -MT external/libdivsufsort/lib/CMakeFiles/divsufsort.dir/sssort.o -MF CMakeFiles/divsufsort.dir/sssort.o.d -o CMakeFiles/divsufsort.dir/sssort.o -c /home/cc/miniGiraffe/deps/sdsl-lite/external/libdivsufsort/lib/sssort.c\n",
      "[  8%] Building C object external/libdivsufsort/lib/CMakeFiles/divsufsort.dir/trsort.o\n",
      "cd /home/cc/miniGiraffe/deps/sdsl-lite/build/external/libdivsufsort/lib && /usr/bin/cc -DHAVE_CONFIG_H=1 -DMODE_TI -D__STDC_CONSTANT_MACROS -D__STDC_FORMAT_MACROS -D__STDC_LIMIT_MACROS -I/home/cc/miniGiraffe/deps/sdsl-lite/external/libdivsufsort/lib/../include -I/home/cc/miniGiraffe/deps/sdsl-lite/build/external/libdivsufsort/lib/../include -Wall -O3 -DNDEBUG -fomit-frame-pointer -MD -MT external/libdivsufsort/lib/CMakeFiles/divsufsort.dir/trsort.o -MF CMakeFiles/divsufsort.dir/trsort.o.d -o CMakeFiles/divsufsort.dir/trsort.o -c /home/cc/miniGiraffe/deps/sdsl-lite/external/libdivsufsort/lib/trsort.c\n",
      "[  8%] Building C object external/libdivsufsort/lib/CMakeFiles/divsufsort.dir/utils.o\n",
      "cd /home/cc/miniGiraffe/deps/sdsl-lite/build/external/libdivsufsort/lib && /usr/bin/cc -DHAVE_CONFIG_H=1 -DMODE_TI -D__STDC_CONSTANT_MACROS -D__STDC_FORMAT_MACROS -D__STDC_LIMIT_MACROS -I/home/cc/miniGiraffe/deps/sdsl-lite/external/libdivsufsort/lib/../include -I/home/cc/miniGiraffe/deps/sdsl-lite/build/external/libdivsufsort/lib/../include -Wall -O3 -DNDEBUG -fomit-frame-pointer -MD -MT external/libdivsufsort/lib/CMakeFiles/divsufsort.dir/utils.o -MF CMakeFiles/divsufsort.dir/utils.o.d -o CMakeFiles/divsufsort.dir/utils.o -c /home/cc/miniGiraffe/deps/sdsl-lite/external/libdivsufsort/lib/utils.c\n",
      "[ 16%] Linking C static library libdivsufsort.a\n",
      "cd /home/cc/miniGiraffe/deps/sdsl-lite/build/external/libdivsufsort/lib && /usr/bin/cmake -P CMakeFiles/divsufsort.dir/cmake_clean_target.cmake\n",
      "cd /home/cc/miniGiraffe/deps/sdsl-lite/build/external/libdivsufsort/lib && /usr/bin/cmake -E cmake_link_script CMakeFiles/divsufsort.dir/link.txt --verbose=1\n",
      "/usr/bin/ar qc libdivsufsort.a CMakeFiles/divsufsort.dir/divsufsort.o CMakeFiles/divsufsort.dir/sssort.o CMakeFiles/divsufsort.dir/trsort.o CMakeFiles/divsufsort.dir/utils.o\n",
      "/usr/bin/ranlib libdivsufsort.a\n",
      "make[2]: Leaving directory '/home/cc/miniGiraffe/deps/sdsl-lite/build'\n",
      "[ 16%] Built target divsufsort\n",
      "make  -f external/libdivsufsort/lib/CMakeFiles/divsufsort64.dir/build.make external/libdivsufsort/lib/CMakeFiles/divsufsort64.dir/depend\n",
      "make[2]: Entering directory '/home/cc/miniGiraffe/deps/sdsl-lite/build'\n",
      "cd /home/cc/miniGiraffe/deps/sdsl-lite/build && /usr/bin/cmake -E cmake_depends \"Unix Makefiles\" /home/cc/miniGiraffe/deps/sdsl-lite /home/cc/miniGiraffe/deps/sdsl-lite/external/libdivsufsort/lib /home/cc/miniGiraffe/deps/sdsl-lite/build /home/cc/miniGiraffe/deps/sdsl-lite/build/external/libdivsufsort/lib /home/cc/miniGiraffe/deps/sdsl-lite/build/external/libdivsufsort/lib/CMakeFiles/divsufsort64.dir/DependInfo.cmake --color=\n",
      "make[2]: Leaving directory '/home/cc/miniGiraffe/deps/sdsl-lite/build'\n",
      "make  -f external/libdivsufsort/lib/CMakeFiles/divsufsort64.dir/build.make external/libdivsufsort/lib/CMakeFiles/divsufsort64.dir/build\n",
      "make[2]: Entering directory '/home/cc/miniGiraffe/deps/sdsl-lite/build'\n",
      "[ 16%] Building C object external/libdivsufsort/lib/CMakeFiles/divsufsort64.dir/divsufsort.o\n",
      "cd /home/cc/miniGiraffe/deps/sdsl-lite/build/external/libdivsufsort/lib && /usr/bin/cc -DHAVE_CONFIG_H=1 -DMODE_TI -D__STDC_CONSTANT_MACROS -D__STDC_FORMAT_MACROS -D__STDC_LIMIT_MACROS -I/home/cc/miniGiraffe/deps/sdsl-lite/external/libdivsufsort/lib/../include -I/home/cc/miniGiraffe/deps/sdsl-lite/build/external/libdivsufsort/lib/../include -Wall -O3 -DNDEBUG -fomit-frame-pointer -DBUILD_DIVSUFSORT64 -MD -MT external/libdivsufsort/lib/CMakeFiles/divsufsort64.dir/divsufsort.o -MF CMakeFiles/divsufsort64.dir/divsufsort.o.d -o CMakeFiles/divsufsort64.dir/divsufsort.o -c /home/cc/miniGiraffe/deps/sdsl-lite/external/libdivsufsort/lib/divsufsort.c\n",
      "[ 16%] Building C object external/libdivsufsort/lib/CMakeFiles/divsufsort64.dir/sssort.o\n",
      "cd /home/cc/miniGiraffe/deps/sdsl-lite/build/external/libdivsufsort/lib && /usr/bin/cc -DHAVE_CONFIG_H=1 -DMODE_TI -D__STDC_CONSTANT_MACROS -D__STDC_FORMAT_MACROS -D__STDC_LIMIT_MACROS -I/home/cc/miniGiraffe/deps/sdsl-lite/external/libdivsufsort/lib/../include -I/home/cc/miniGiraffe/deps/sdsl-lite/build/external/libdivsufsort/lib/../include -Wall -O3 -DNDEBUG -fomit-frame-pointer -DBUILD_DIVSUFSORT64 -MD -MT external/libdivsufsort/lib/CMakeFiles/divsufsort64.dir/sssort.o -MF CMakeFiles/divsufsort64.dir/sssort.o.d -o CMakeFiles/divsufsort64.dir/sssort.o -c /home/cc/miniGiraffe/deps/sdsl-lite/external/libdivsufsort/lib/sssort.c\n",
      "[ 16%] Building C object external/libdivsufsort/lib/CMakeFiles/divsufsort64.dir/trsort.o\n",
      "cd /home/cc/miniGiraffe/deps/sdsl-lite/build/external/libdivsufsort/lib && /usr/bin/cc -DHAVE_CONFIG_H=1 -DMODE_TI -D__STDC_CONSTANT_MACROS -D__STDC_FORMAT_MACROS -D__STDC_LIMIT_MACROS -I/home/cc/miniGiraffe/deps/sdsl-lite/external/libdivsufsort/lib/../include -I/home/cc/miniGiraffe/deps/sdsl-lite/build/external/libdivsufsort/lib/../include -Wall -O3 -DNDEBUG -fomit-frame-pointer -DBUILD_DIVSUFSORT64 -MD -MT external/libdivsufsort/lib/CMakeFiles/divsufsort64.dir/trsort.o -MF CMakeFiles/divsufsort64.dir/trsort.o.d -o CMakeFiles/divsufsort64.dir/trsort.o -c /home/cc/miniGiraffe/deps/sdsl-lite/external/libdivsufsort/lib/trsort.c\n",
      "[ 16%] Building C object external/libdivsufsort/lib/CMakeFiles/divsufsort64.dir/utils.o\n",
      "cd /home/cc/miniGiraffe/deps/sdsl-lite/build/external/libdivsufsort/lib && /usr/bin/cc -DHAVE_CONFIG_H=1 -DMODE_TI -D__STDC_CONSTANT_MACROS -D__STDC_FORMAT_MACROS -D__STDC_LIMIT_MACROS -I/home/cc/miniGiraffe/deps/sdsl-lite/external/libdivsufsort/lib/../include -I/home/cc/miniGiraffe/deps/sdsl-lite/build/external/libdivsufsort/lib/../include -Wall -O3 -DNDEBUG -fomit-frame-pointer -DBUILD_DIVSUFSORT64 -MD -MT external/libdivsufsort/lib/CMakeFiles/divsufsort64.dir/utils.o -MF CMakeFiles/divsufsort64.dir/utils.o.d -o CMakeFiles/divsufsort64.dir/utils.o -c /home/cc/miniGiraffe/deps/sdsl-lite/external/libdivsufsort/lib/utils.c\n",
      "[ 25%] Linking C static library libdivsufsort64.a\n",
      "cd /home/cc/miniGiraffe/deps/sdsl-lite/build/external/libdivsufsort/lib && /usr/bin/cmake -P CMakeFiles/divsufsort64.dir/cmake_clean_target.cmake\n",
      "cd /home/cc/miniGiraffe/deps/sdsl-lite/build/external/libdivsufsort/lib && /usr/bin/cmake -E cmake_link_script CMakeFiles/divsufsort64.dir/link.txt --verbose=1\n",
      "/usr/bin/ar qc libdivsufsort64.a CMakeFiles/divsufsort64.dir/divsufsort.o CMakeFiles/divsufsort64.dir/sssort.o CMakeFiles/divsufsort64.dir/trsort.o CMakeFiles/divsufsort64.dir/utils.o\n",
      "/usr/bin/ranlib libdivsufsort64.a\n",
      "make[2]: Leaving directory '/home/cc/miniGiraffe/deps/sdsl-lite/build'\n",
      "[ 25%] Built target divsufsort64\n",
      "make  -f external/googletest/googletest/CMakeFiles/gtest.dir/build.make external/googletest/googletest/CMakeFiles/gtest.dir/depend\n",
      "make[2]: Entering directory '/home/cc/miniGiraffe/deps/sdsl-lite/build'\n",
      "cd /home/cc/miniGiraffe/deps/sdsl-lite/build && /usr/bin/cmake -E cmake_depends \"Unix Makefiles\" /home/cc/miniGiraffe/deps/sdsl-lite /home/cc/miniGiraffe/deps/sdsl-lite/external/googletest/googletest /home/cc/miniGiraffe/deps/sdsl-lite/build /home/cc/miniGiraffe/deps/sdsl-lite/build/external/googletest/googletest /home/cc/miniGiraffe/deps/sdsl-lite/build/external/googletest/googletest/CMakeFiles/gtest.dir/DependInfo.cmake --color=\n",
      "make[2]: Leaving directory '/home/cc/miniGiraffe/deps/sdsl-lite/build'\n",
      "make  -f external/googletest/googletest/CMakeFiles/gtest.dir/build.make external/googletest/googletest/CMakeFiles/gtest.dir/build\n",
      "make[2]: Entering directory '/home/cc/miniGiraffe/deps/sdsl-lite/build'\n",
      "[ 25%] Building CXX object external/googletest/googletest/CMakeFiles/gtest.dir/src/gtest-all.cc.o\n",
      "cd /home/cc/miniGiraffe/deps/sdsl-lite/build/external/googletest/googletest && /usr/bin/c++ -DMODE_TI -I/home/cc/miniGiraffe/deps/sdsl-lite/external/googletest/googletest/include -I/home/cc/miniGiraffe/deps/sdsl-lite/external/googletest/googletest -std=c++14 -Wall -Wextra -DNDEBUG -O3 -DNDEBUG  -std=c++14 -Wall -Wextra -DNDEBUG -Wall -Wshadow -DGTEST_HAS_PTHREAD=1 -fexceptions -Wextra -Wno-unused-parameter -Wno-missing-field-initializers -MD -MT external/googletest/googletest/CMakeFiles/gtest.dir/src/gtest-all.cc.o -MF CMakeFiles/gtest.dir/src/gtest-all.cc.o.d -o CMakeFiles/gtest.dir/src/gtest-all.cc.o -c /home/cc/miniGiraffe/deps/sdsl-lite/external/googletest/googletest/src/gtest-all.cc\n",
      "[ 25%] Linking CXX static library libgtest.a\n",
      "cd /home/cc/miniGiraffe/deps/sdsl-lite/build/external/googletest/googletest && /usr/bin/cmake -P CMakeFiles/gtest.dir/cmake_clean_target.cmake\n",
      "cd /home/cc/miniGiraffe/deps/sdsl-lite/build/external/googletest/googletest && /usr/bin/cmake -E cmake_link_script CMakeFiles/gtest.dir/link.txt --verbose=1\n",
      "/usr/bin/ar qc libgtest.a CMakeFiles/gtest.dir/src/gtest-all.cc.o\n",
      "/usr/bin/ranlib libgtest.a\n",
      "make[2]: Leaving directory '/home/cc/miniGiraffe/deps/sdsl-lite/build'\n",
      "[ 25%] Built target gtest\n",
      "make  -f external/googletest/googletest/CMakeFiles/gtest_main.dir/build.make external/googletest/googletest/CMakeFiles/gtest_main.dir/depend\n",
      "make[2]: Entering directory '/home/cc/miniGiraffe/deps/sdsl-lite/build'\n",
      "cd /home/cc/miniGiraffe/deps/sdsl-lite/build && /usr/bin/cmake -E cmake_depends \"Unix Makefiles\" /home/cc/miniGiraffe/deps/sdsl-lite /home/cc/miniGiraffe/deps/sdsl-lite/external/googletest/googletest /home/cc/miniGiraffe/deps/sdsl-lite/build /home/cc/miniGiraffe/deps/sdsl-lite/build/external/googletest/googletest /home/cc/miniGiraffe/deps/sdsl-lite/build/external/googletest/googletest/CMakeFiles/gtest_main.dir/DependInfo.cmake --color=\n",
      "make[2]: Leaving directory '/home/cc/miniGiraffe/deps/sdsl-lite/build'\n",
      "make  -f external/googletest/googletest/CMakeFiles/gtest_main.dir/build.make external/googletest/googletest/CMakeFiles/gtest_main.dir/build\n",
      "make[2]: Entering directory '/home/cc/miniGiraffe/deps/sdsl-lite/build'\n",
      "[ 33%] Building CXX object external/googletest/googletest/CMakeFiles/gtest_main.dir/src/gtest_main.cc.o\n",
      "cd /home/cc/miniGiraffe/deps/sdsl-lite/build/external/googletest/googletest && /usr/bin/c++ -DMODE_TI -I/home/cc/miniGiraffe/deps/sdsl-lite/external/googletest/googletest/include -I/home/cc/miniGiraffe/deps/sdsl-lite/external/googletest/googletest -std=c++14 -Wall -Wextra -DNDEBUG -O3 -DNDEBUG  -std=c++14 -Wall -Wextra -DNDEBUG -Wall -Wshadow -DGTEST_HAS_PTHREAD=1 -fexceptions -Wextra -Wno-unused-parameter -Wno-missing-field-initializers -MD -MT external/googletest/googletest/CMakeFiles/gtest_main.dir/src/gtest_main.cc.o -MF CMakeFiles/gtest_main.dir/src/gtest_main.cc.o.d -o CMakeFiles/gtest_main.dir/src/gtest_main.cc.o -c /home/cc/miniGiraffe/deps/sdsl-lite/external/googletest/googletest/src/gtest_main.cc\n",
      "[ 33%] Linking CXX static library libgtest_main.a\n",
      "cd /home/cc/miniGiraffe/deps/sdsl-lite/build/external/googletest/googletest && /usr/bin/cmake -P CMakeFiles/gtest_main.dir/cmake_clean_target.cmake\n",
      "cd /home/cc/miniGiraffe/deps/sdsl-lite/build/external/googletest/googletest && /usr/bin/cmake -E cmake_link_script CMakeFiles/gtest_main.dir/link.txt --verbose=1\n",
      "/usr/bin/ar qc libgtest_main.a CMakeFiles/gtest_main.dir/src/gtest_main.cc.o\n",
      "/usr/bin/ranlib libgtest_main.a\n",
      "make[2]: Leaving directory '/home/cc/miniGiraffe/deps/sdsl-lite/build'\n",
      "[ 33%] Built target gtest_main\n",
      "make  -f lib/CMakeFiles/sdsl.dir/build.make lib/CMakeFiles/sdsl.dir/depend\n",
      "make[2]: Entering directory '/home/cc/miniGiraffe/deps/sdsl-lite/build'\n",
      "cd /home/cc/miniGiraffe/deps/sdsl-lite/build && /usr/bin/cmake -E cmake_depends \"Unix Makefiles\" /home/cc/miniGiraffe/deps/sdsl-lite /home/cc/miniGiraffe/deps/sdsl-lite/lib /home/cc/miniGiraffe/deps/sdsl-lite/build /home/cc/miniGiraffe/deps/sdsl-lite/build/lib /home/cc/miniGiraffe/deps/sdsl-lite/build/lib/CMakeFiles/sdsl.dir/DependInfo.cmake --color=\n",
      "Consolidate compiler generated dependencies of target sdsl\n",
      "make[2]: Leaving directory '/home/cc/miniGiraffe/deps/sdsl-lite/build'\n",
      "make  -f lib/CMakeFiles/sdsl.dir/build.make lib/CMakeFiles/sdsl.dir/build\n",
      "make[2]: Entering directory '/home/cc/miniGiraffe/deps/sdsl-lite/build'\n",
      "make[2]: Nothing to be done for 'lib/CMakeFiles/sdsl.dir/build'.\n",
      "make[2]: Leaving directory '/home/cc/miniGiraffe/deps/sdsl-lite/build'\n",
      "[100%] Built target sdsl\n",
      "make[1]: Leaving directory '/home/cc/miniGiraffe/deps/sdsl-lite/build'\n",
      "/usr/bin/cmake -E cmake_progress_start /home/cc/miniGiraffe/deps/sdsl-lite/build/CMakeFiles 0\n",
      "make  -f CMakeFiles/Makefile2 preinstall\n",
      "make[1]: Entering directory '/home/cc/miniGiraffe/deps/sdsl-lite/build'\n",
      "make[1]: Nothing to be done for 'preinstall'.\n",
      "make[1]: Leaving directory '/home/cc/miniGiraffe/deps/sdsl-lite/build'\n",
      "Install the project...\n",
      "/usr/bin/cmake -P cmake_install.cmake\n",
      "-- Install configuration: \"Release\"\n",
      "-- Installing: /home/cc/miniGiraffe/deps/sdsl-lite/lib/pkgconfig/sdsl-lite.pc\n",
      "-- Installing: /home/cc/miniGiraffe/deps/sdsl-lite/lib/pkgconfig/libdivsufsort.pc\n",
      "-- Installing: /home/cc/miniGiraffe/deps/sdsl-lite/lib/pkgconfig/libdivsufsort64.pc\n",
      "-- Installing: /home/cc/miniGiraffe/deps/sdsl-lite/include/divsufsort.h\n",
      "-- Installing: /home/cc/miniGiraffe/deps/sdsl-lite/include/divsufsort64.h\n",
      "-- Installing: /home/cc/miniGiraffe/deps/sdsl-lite/lib/libdivsufsort.a\n",
      "-- Installing: /home/cc/miniGiraffe/deps/sdsl-lite/lib/libdivsufsort64.a\n",
      "-- Installing: /home/cc/miniGiraffe/deps/sdsl-lite/lib/libgtest.a\n",
      "-- Installing: /home/cc/miniGiraffe/deps/sdsl-lite/lib/libgtest_main.a\n",
      "-- Installing: /home/cc/miniGiraffe/deps/sdsl-lite/include/gtest\n",
      "-- Installing: /home/cc/miniGiraffe/deps/sdsl-lite/include/gtest/gtest-printers.h\n",
      "-- Installing: /home/cc/miniGiraffe/deps/sdsl-lite/include/gtest/gtest-message.h\n",
      "-- Installing: /home/cc/miniGiraffe/deps/sdsl-lite/include/gtest/gtest-typed-test.h\n",
      "-- Installing: /home/cc/miniGiraffe/deps/sdsl-lite/include/gtest/gtest-param-test.h.pump\n",
      "-- Installing: /home/cc/miniGiraffe/deps/sdsl-lite/include/gtest/internal\n",
      "-- Installing: /home/cc/miniGiraffe/deps/sdsl-lite/include/gtest/internal/gtest-internal.h\n",
      "-- Installing: /home/cc/miniGiraffe/deps/sdsl-lite/include/gtest/internal/gtest-type-util.h\n",
      "-- Installing: /home/cc/miniGiraffe/deps/sdsl-lite/include/gtest/internal/gtest-port.h\n",
      "-- Installing: /home/cc/miniGiraffe/deps/sdsl-lite/include/gtest/internal/custom\n",
      "-- Installing: /home/cc/miniGiraffe/deps/sdsl-lite/include/gtest/internal/custom/gtest-printers.h\n",
      "-- Installing: /home/cc/miniGiraffe/deps/sdsl-lite/include/gtest/internal/custom/gtest-port.h\n",
      "-- Installing: /home/cc/miniGiraffe/deps/sdsl-lite/include/gtest/internal/custom/gtest.h\n",
      "-- Installing: /home/cc/miniGiraffe/deps/sdsl-lite/include/gtest/internal/gtest-tuple.h\n",
      "-- Installing: /home/cc/miniGiraffe/deps/sdsl-lite/include/gtest/internal/gtest-death-test-internal.h\n",
      "-- Installing: /home/cc/miniGiraffe/deps/sdsl-lite/include/gtest/internal/gtest-filepath.h\n",
      "-- Installing: /home/cc/miniGiraffe/deps/sdsl-lite/include/gtest/internal/gtest-param-util.h\n",
      "-- Installing: /home/cc/miniGiraffe/deps/sdsl-lite/include/gtest/internal/gtest-tuple.h.pump\n",
      "-- Installing: /home/cc/miniGiraffe/deps/sdsl-lite/include/gtest/internal/gtest-linked_ptr.h\n",
      "-- Installing: /home/cc/miniGiraffe/deps/sdsl-lite/include/gtest/internal/gtest-string.h\n",
      "-- Installing: /home/cc/miniGiraffe/deps/sdsl-lite/include/gtest/internal/gtest-type-util.h.pump\n",
      "-- Installing: /home/cc/miniGiraffe/deps/sdsl-lite/include/gtest/internal/gtest-param-util-generated.h.pump\n",
      "-- Installing: /home/cc/miniGiraffe/deps/sdsl-lite/include/gtest/internal/gtest-port-arch.h\n",
      "-- Installing: /home/cc/miniGiraffe/deps/sdsl-lite/include/gtest/internal/gtest-param-util-generated.h\n",
      "-- Installing: /home/cc/miniGiraffe/deps/sdsl-lite/include/gtest/gtest-spi.h\n",
      "-- Installing: /home/cc/miniGiraffe/deps/sdsl-lite/include/gtest/gtest.h\n",
      "-- Installing: /home/cc/miniGiraffe/deps/sdsl-lite/include/gtest/gtest-death-test.h\n",
      "-- Installing: /home/cc/miniGiraffe/deps/sdsl-lite/include/gtest/gtest-param-test.h\n",
      "-- Installing: /home/cc/miniGiraffe/deps/sdsl-lite/include/gtest/gtest_prod.h\n",
      "-- Installing: /home/cc/miniGiraffe/deps/sdsl-lite/include/gtest/gtest_pred_impl.h\n",
      "-- Installing: /home/cc/miniGiraffe/deps/sdsl-lite/include/gtest/gtest-test-part.h\n",
      "-- Installing: /home/cc/miniGiraffe/deps/sdsl-lite/include/sdsl/bit_vector_il.hpp\n",
      "-- Installing: /home/cc/miniGiraffe/deps/sdsl-lite/include/sdsl/bit_vectors.hpp\n",
      "-- Installing: /home/cc/miniGiraffe/deps/sdsl-lite/include/sdsl/bits.hpp\n",
      "-- Installing: /home/cc/miniGiraffe/deps/sdsl-lite/include/sdsl/bp_support.hpp\n",
      "-- Installing: /home/cc/miniGiraffe/deps/sdsl-lite/include/sdsl/bp_support_algorithm.hpp\n",
      "-- Installing: /home/cc/miniGiraffe/deps/sdsl-lite/include/sdsl/bp_support_g.hpp\n",
      "-- Installing: /home/cc/miniGiraffe/deps/sdsl-lite/include/sdsl/bp_support_gg.hpp\n",
      "-- Installing: /home/cc/miniGiraffe/deps/sdsl-lite/include/sdsl/bp_support_sada.hpp\n",
      "-- Installing: /home/cc/miniGiraffe/deps/sdsl-lite/include/sdsl/coder.hpp\n",
      "-- Installing: /home/cc/miniGiraffe/deps/sdsl-lite/include/sdsl/coder_comma.hpp\n",
      "-- Installing: /home/cc/miniGiraffe/deps/sdsl-lite/include/sdsl/coder_elias_delta.hpp\n",
      "-- Installing: /home/cc/miniGiraffe/deps/sdsl-lite/include/sdsl/coder_elias_gamma.hpp\n",
      "-- Installing: /home/cc/miniGiraffe/deps/sdsl-lite/include/sdsl/coder_fibonacci.hpp\n",
      "-- Installing: /home/cc/miniGiraffe/deps/sdsl-lite/include/sdsl/config.hpp\n",
      "-- Installing: /home/cc/miniGiraffe/deps/sdsl-lite/include/sdsl/construct.hpp\n",
      "-- Installing: /home/cc/miniGiraffe/deps/sdsl-lite/include/sdsl/construct_bwt.hpp\n",
      "-- Installing: /home/cc/miniGiraffe/deps/sdsl-lite/include/sdsl/construct_config.hpp\n",
      "-- Installing: /home/cc/miniGiraffe/deps/sdsl-lite/include/sdsl/construct_isa.hpp\n",
      "-- Installing: /home/cc/miniGiraffe/deps/sdsl-lite/include/sdsl/construct_lcp.hpp\n",
      "-- Installing: /home/cc/miniGiraffe/deps/sdsl-lite/include/sdsl/construct_lcp_helper.hpp\n",
      "-- Installing: /home/cc/miniGiraffe/deps/sdsl-lite/include/sdsl/construct_sa.hpp\n",
      "-- Installing: /home/cc/miniGiraffe/deps/sdsl-lite/include/sdsl/construct_sa_se.hpp\n",
      "-- Installing: /home/cc/miniGiraffe/deps/sdsl-lite/include/sdsl/csa_alphabet_strategy.hpp\n",
      "-- Installing: /home/cc/miniGiraffe/deps/sdsl-lite/include/sdsl/csa_bitcompressed.hpp\n",
      "-- Installing: /home/cc/miniGiraffe/deps/sdsl-lite/include/sdsl/csa_sada.hpp\n",
      "-- Installing: /home/cc/miniGiraffe/deps/sdsl-lite/include/sdsl/csa_sampling_strategy.hpp\n",
      "-- Installing: /home/cc/miniGiraffe/deps/sdsl-lite/include/sdsl/csa_wt.hpp\n",
      "-- Installing: /home/cc/miniGiraffe/deps/sdsl-lite/include/sdsl/cst_fully.hpp\n",
      "-- Installing: /home/cc/miniGiraffe/deps/sdsl-lite/include/sdsl/cst_iterators.hpp\n",
      "-- Installing: /home/cc/miniGiraffe/deps/sdsl-lite/include/sdsl/cst_sada.hpp\n",
      "-- Installing: /home/cc/miniGiraffe/deps/sdsl-lite/include/sdsl/cst_sct3.hpp\n",
      "-- Installing: /home/cc/miniGiraffe/deps/sdsl-lite/include/sdsl/dac_vector.hpp\n",
      "-- Installing: /home/cc/miniGiraffe/deps/sdsl-lite/include/sdsl/enc_vector.hpp\n",
      "-- Installing: /home/cc/miniGiraffe/deps/sdsl-lite/include/sdsl/fast_cache.hpp\n",
      "-- Installing: /home/cc/miniGiraffe/deps/sdsl-lite/include/sdsl/hyb_vector.hpp\n",
      "-- Installing: /home/cc/miniGiraffe/deps/sdsl-lite/include/sdsl/int_vector.hpp\n",
      "-- Installing: /home/cc/miniGiraffe/deps/sdsl-lite/include/sdsl/int_vector_buffer.hpp\n",
      "-- Installing: /home/cc/miniGiraffe/deps/sdsl-lite/include/sdsl/int_vector_io_wrappers.hpp\n",
      "-- Installing: /home/cc/miniGiraffe/deps/sdsl-lite/include/sdsl/int_vector_mapper.hpp\n",
      "-- Installing: /home/cc/miniGiraffe/deps/sdsl-lite/include/sdsl/inv_perm_support.hpp\n",
      "-- Installing: /home/cc/miniGiraffe/deps/sdsl-lite/include/sdsl/io.hpp\n",
      "-- Installing: /home/cc/miniGiraffe/deps/sdsl-lite/include/sdsl/iterators.hpp\n",
      "-- Installing: /home/cc/miniGiraffe/deps/sdsl-lite/include/sdsl/k2_treap.hpp\n",
      "-- Installing: /home/cc/miniGiraffe/deps/sdsl-lite/include/sdsl/k2_treap_algorithm.hpp\n",
      "-- Installing: /home/cc/miniGiraffe/deps/sdsl-lite/include/sdsl/k2_treap_helper.hpp\n",
      "-- Installing: /home/cc/miniGiraffe/deps/sdsl-lite/include/sdsl/k2_tree.hpp\n",
      "-- Installing: /home/cc/miniGiraffe/deps/sdsl-lite/include/sdsl/k2_tree_helper.hpp\n",
      "-- Installing: /home/cc/miniGiraffe/deps/sdsl-lite/include/sdsl/lcp.hpp\n",
      "-- Installing: /home/cc/miniGiraffe/deps/sdsl-lite/include/sdsl/lcp_bitcompressed.hpp\n",
      "-- Installing: /home/cc/miniGiraffe/deps/sdsl-lite/include/sdsl/lcp_byte.hpp\n",
      "-- Installing: /home/cc/miniGiraffe/deps/sdsl-lite/include/sdsl/lcp_dac.hpp\n",
      "-- Installing: /home/cc/miniGiraffe/deps/sdsl-lite/include/sdsl/lcp_support_sada.hpp\n",
      "-- Installing: /home/cc/miniGiraffe/deps/sdsl-lite/include/sdsl/lcp_support_tree.hpp\n",
      "-- Installing: /home/cc/miniGiraffe/deps/sdsl-lite/include/sdsl/lcp_support_tree2.hpp\n",
      "-- Installing: /home/cc/miniGiraffe/deps/sdsl-lite/include/sdsl/lcp_vlc.hpp\n",
      "-- Installing: /home/cc/miniGiraffe/deps/sdsl-lite/include/sdsl/lcp_wt.hpp\n",
      "-- Installing: /home/cc/miniGiraffe/deps/sdsl-lite/include/sdsl/louds_tree.hpp\n",
      "-- Installing: /home/cc/miniGiraffe/deps/sdsl-lite/include/sdsl/memory_management.hpp\n",
      "-- Installing: /home/cc/miniGiraffe/deps/sdsl-lite/include/sdsl/nearest_neighbour_dictionary.hpp\n",
      "-- Installing: /home/cc/miniGiraffe/deps/sdsl-lite/include/sdsl/nn_dict_dynamic.hpp\n",
      "-- Installing: /home/cc/miniGiraffe/deps/sdsl-lite/include/sdsl/qsufsort.hpp\n",
      "-- Installing: /home/cc/miniGiraffe/deps/sdsl-lite/include/sdsl/ram_filebuf.hpp\n",
      "-- Installing: /home/cc/miniGiraffe/deps/sdsl-lite/include/sdsl/ram_fs.hpp\n",
      "-- Installing: /home/cc/miniGiraffe/deps/sdsl-lite/include/sdsl/rank_support.hpp\n",
      "-- Installing: /home/cc/miniGiraffe/deps/sdsl-lite/include/sdsl/rank_support_scan.hpp\n",
      "-- Installing: /home/cc/miniGiraffe/deps/sdsl-lite/include/sdsl/rank_support_v.hpp\n",
      "-- Installing: /home/cc/miniGiraffe/deps/sdsl-lite/include/sdsl/rank_support_v5.hpp\n",
      "-- Installing: /home/cc/miniGiraffe/deps/sdsl-lite/include/sdsl/raster_img.hpp\n",
      "-- Installing: /home/cc/miniGiraffe/deps/sdsl-lite/include/sdsl/rle_vector.hpp\n",
      "-- Installing: /home/cc/miniGiraffe/deps/sdsl-lite/include/sdsl/rmq_succinct_sada.hpp\n",
      "-- Installing: /home/cc/miniGiraffe/deps/sdsl-lite/inc"
     ]
    },
    {
     "name": "stderr",
     "output_type": "stream",
     "text": [
      "mkdir: cannot create directory ‘build’: File exists\n",
      "CMake Warning (dev) at /usr/share/cmake-3.22/Modules/GNUInstallDirs.cmake:239 (message):\n",
      "  Unable to determine default CMAKE_INSTALL_LIBDIR directory because no\n",
      "  target architecture is known.  Please enable at least one language before\n",
      "  including GNUInstallDirs.\n",
      "Call Stack (most recent call first):\n",
      "  CMakeLists.txt:5 (include)\n",
      "This warning is for project developers.  Use -Wno-dev to suppress it.\n",
      "\n"
     ]
    },
    {
     "name": "stdout",
     "output_type": "stream",
     "text": [
      "lude/sdsl/rmq_succinct_sct.hpp\n",
      "-- Installing: /home/cc/miniGiraffe/deps/sdsl-lite/include/sdsl/rmq_support.hpp\n",
      "-- Installing: /home/cc/miniGiraffe/deps/sdsl-lite/include/sdsl/rmq_support_sparse_table.hpp\n",
      "-- Installing: /home/cc/miniGiraffe/deps/sdsl-lite/include/sdsl/rrr_helper.hpp\n",
      "-- Installing: /home/cc/miniGiraffe/deps/sdsl-lite/include/sdsl/rrr_vector.hpp\n",
      "-- Installing: /home/cc/miniGiraffe/deps/sdsl-lite/include/sdsl/rrr_vector_15.hpp\n",
      "-- Installing: /home/cc/miniGiraffe/deps/sdsl-lite/include/sdsl/sd_vector.hpp\n",
      "-- Installing: /home/cc/miniGiraffe/deps/sdsl-lite/include/sdsl/sdsl_concepts.hpp\n",
      "-- Installing: /home/cc/miniGiraffe/deps/sdsl-lite/include/sdsl/select_support.hpp\n",
      "-- Installing: /home/cc/miniGiraffe/deps/sdsl-lite/include/sdsl/select_support_mcl.hpp\n",
      "-- Installing: /home/cc/miniGiraffe/deps/sdsl-lite/include/sdsl/select_support_scan.hpp\n",
      "-- Installing: /home/cc/miniGiraffe/deps/sdsl-lite/include/sdsl/sfstream.hpp\n",
      "-- Installing: /home/cc/miniGiraffe/deps/sdsl-lite/include/sdsl/simple_sds.hpp\n",
      "-- Installing: /home/cc/miniGiraffe/deps/sdsl-lite/include/sdsl/sorted_int_stack.hpp\n",
      "-- Installing: /home/cc/miniGiraffe/deps/sdsl-lite/include/sdsl/sorted_multi_stack_support.hpp\n",
      "-- Installing: /home/cc/miniGiraffe/deps/sdsl-lite/include/sdsl/sorted_stack_support.hpp\n",
      "-- Installing: /home/cc/miniGiraffe/deps/sdsl-lite/include/sdsl/structure_tree.hpp\n",
      "-- Installing: /home/cc/miniGiraffe/deps/sdsl-lite/include/sdsl/suffix_array_algorithm.hpp\n",
      "-- Installing: /home/cc/miniGiraffe/deps/sdsl-lite/include/sdsl/suffix_array_helper.hpp\n",
      "-- Installing: /home/cc/miniGiraffe/deps/sdsl-lite/include/sdsl/suffix_arrays.hpp\n",
      "-- Installing: /home/cc/miniGiraffe/deps/sdsl-lite/include/sdsl/suffix_tree_algorithm.hpp\n",
      "-- Installing: /home/cc/miniGiraffe/deps/sdsl-lite/include/sdsl/suffix_tree_helper.hpp\n",
      "-- Installing: /home/cc/miniGiraffe/deps/sdsl-lite/include/sdsl/suffix_trees.hpp\n",
      "-- Installing: /home/cc/miniGiraffe/deps/sdsl-lite/include/sdsl/uint128_t.hpp\n",
      "-- Installing: /home/cc/miniGiraffe/deps/sdsl-lite/include/sdsl/uint256_t.hpp\n",
      "-- Installing: /home/cc/miniGiraffe/deps/sdsl-lite/include/sdsl/uintx_t.hpp\n",
      "-- Installing: /home/cc/miniGiraffe/deps/sdsl-lite/include/sdsl/util.hpp\n",
      "-- Installing: /home/cc/miniGiraffe/deps/sdsl-lite/include/sdsl/vectors.hpp\n",
      "-- Installing: /home/cc/miniGiraffe/deps/sdsl-lite/include/sdsl/vlc_vector.hpp\n",
      "-- Installing: /home/cc/miniGiraffe/deps/sdsl-lite/include/sdsl/wavelet_trees.hpp\n",
      "-- Installing: /home/cc/miniGiraffe/deps/sdsl-lite/include/sdsl/wm_int.hpp\n",
      "-- Installing: /home/cc/miniGiraffe/deps/sdsl-lite/include/sdsl/wt_algorithm.hpp\n",
      "-- Installing: /home/cc/miniGiraffe/deps/sdsl-lite/include/sdsl/wt_ap.hpp\n",
      "-- Installing: /home/cc/miniGiraffe/deps/sdsl-lite/include/sdsl/wt_blcd.hpp\n",
      "-- Installing: /home/cc/miniGiraffe/deps/sdsl-lite/include/sdsl/wt_gmr.hpp\n",
      "-- Installing: /home/cc/miniGiraffe/deps/sdsl-lite/include/sdsl/wt_helper.hpp\n",
      "-- Installing: /home/cc/miniGiraffe/deps/sdsl-lite/include/sdsl/wt_huff.hpp\n",
      "-- Installing: /home/cc/miniGiraffe/deps/sdsl-lite/include/sdsl/wt_hutu.hpp\n",
      "-- Installing: /home/cc/miniGiraffe/deps/sdsl-lite/include/sdsl/wt_int.hpp\n",
      "-- Installing: /home/cc/miniGiraffe/deps/sdsl-lite/include/sdsl/wt_pc.hpp\n",
      "-- Installing: /home/cc/miniGiraffe/deps/sdsl-lite/include/sdsl/wt_rlmn.hpp\n",
      "-- Installing: /home/cc/miniGiraffe/deps/sdsl-lite/lib/libsdsl.a\n",
      "SUCCESS: sdsl was installed successfully!\n",
      "The sdsl include files are located in '/home/cc/miniGiraffe/deps/sdsl-lite/include'.\n",
      "The library files are located in '/home/cc/miniGiraffe/deps/sdsl-lite/lib'.\n",
      " \n",
      "Sample programs can be found in the examples-directory.\n",
      "A program 'example.cpp' can be compiled with the command: \n",
      "g++ -std=c++14 -DNDEBUG -O3 [-msse4.2] \\\n",
      "   -I/home/cc/miniGiraffe/deps/sdsl-lite/include -L/home/cc/miniGiraffe/deps/sdsl-lite/lib \\\n",
      "   example.cpp -lsdsl -ldivsufsort -ldivsufsort64\n",
      " \n",
      "Tests in the test-directory\n",
      "A cheat sheet in the extras/cheatsheet-directory.\n",
      "Have fun!\n",
      "-- The C compiler identification is GNU 11.4.0\n",
      "-- The CXX compiler identification is GNU 11.4.0\n",
      "-- Detecting C compiler ABI info\n",
      "-- Detecting C compiler ABI info - done\n",
      "-- Check for working C compiler: /usr/bin/cc - skipped\n",
      "-- Detecting C compile features\n",
      "-- Detecting C compile features - done\n",
      "-- Detecting CXX compiler ABI info\n",
      "-- Detecting CXX compiler ABI info - done\n",
      "-- Check for working CXX compiler: /usr/bin/c++ - skipped\n",
      "-- Detecting CXX compile features\n",
      "-- Detecting CXX compile features - done\n"
     ]
    },
    {
     "name": "stderr",
     "output_type": "stream",
     "text": [
      "libhandlegraph is root project or external_project\n"
     ]
    },
    {
     "name": "stdout",
     "output_type": "stream",
     "text": [
      "-- Configuring done\n",
      "-- Generating done\n",
      "-- Build files have been written to: /home/cc/miniGiraffe/deps/libhandlegraph/build\n",
      "[  2%] Building CXX object CMakeFiles/handlegraph_objs.dir/src/deletable_handle_graph.cpp.o\n",
      "[  5%] Building CXX object CMakeFiles/handlegraph_objs.dir/src/dfs.cpp.o\n",
      "[  8%] Building CXX object CMakeFiles/handlegraph_objs.dir/src/handle_graph.cpp.o\n",
      "[ 11%] Building CXX object CMakeFiles/handlegraph_objs.dir/src/mutable_handle_graph.cpp.o\n",
      "[ 14%] Building CXX object CMakeFiles/handlegraph_objs.dir/src/path_metadata.cpp.o\n",
      "[ 17%] Building CXX object CMakeFiles/handlegraph_objs.dir/src/mutable_path_metadata.cpp.o\n",
      "[ 20%] Building CXX object CMakeFiles/handlegraph_objs.dir/src/path_handle_graph.cpp.o\n",
      "[ 22%] Building CXX object CMakeFiles/handlegraph_objs.dir/src/path_position_handle_graph.cpp.o\n",
      "[ 25%] Building CXX object CMakeFiles/handlegraph_objs.dir/src/mutable_path_handle_graph.cpp.o\n",
      "[ 28%] Building CXX object CMakeFiles/handlegraph_objs.dir/src/ranked_handle_graph.cpp.o\n",
      "[ 31%] Building CXX object CMakeFiles/handlegraph_objs.dir/src/serializable.cpp.o\n",
      "[ 34%] Building CXX object CMakeFiles/handlegraph_objs.dir/src/snarl_decomposition.cpp.o\n",
      "[ 37%] Building CXX object CMakeFiles/handlegraph_objs.dir/src/trivially_serializable.cpp.o\n",
      "[ 40%] Building CXX object CMakeFiles/handlegraph_objs.dir/src/types.cpp.o\n",
      "[ 42%] Building CXX object CMakeFiles/handlegraph_objs.dir/src/copy_graph.cpp.o\n",
      "[ 45%] Building CXX object CMakeFiles/handlegraph_objs.dir/src/append_graph.cpp.o\n",
      "[ 48%] Building CXX object CMakeFiles/handlegraph_objs.dir/src/are_equivalent.cpp.o\n",
      "[ 51%] Building CXX object CMakeFiles/handlegraph_objs.dir/src/find_tips.cpp.o\n",
      "[ 54%] Building CXX object CMakeFiles/handlegraph_objs.dir/src/topological_sort.cpp.o\n",
      "[ 57%] Building CXX object CMakeFiles/handlegraph_objs.dir/src/apply_orientations.cpp.o\n",
      "[ 60%] Building CXX object CMakeFiles/handlegraph_objs.dir/src/is_single_stranded.cpp.o\n",
      "[ 62%] Building CXX object CMakeFiles/handlegraph_objs.dir/src/count_walks.cpp.o\n",
      "[ 65%] Building CXX object CMakeFiles/handlegraph_objs.dir/src/eades_algorithm.cpp.o\n",
      "[ 68%] Building CXX object CMakeFiles/handlegraph_objs.dir/src/dagify.cpp.o\n",
      "[ 71%] Building CXX object CMakeFiles/handlegraph_objs.dir/src/strongly_connected_components.cpp.o\n",
      "[ 74%] Building CXX object CMakeFiles/handlegraph_objs.dir/src/find_shortest_paths.cpp.o\n",
      "[ 77%] Building CXX object CMakeFiles/handlegraph_objs.dir/src/dijkstra.cpp.o\n",
      "[ 80%] Building CXX object CMakeFiles/handlegraph_objs.dir/src/is_acyclic.cpp.o\n",
      "[ 82%] Building CXX object CMakeFiles/handlegraph_objs.dir/src/reverse_complement.cpp.o\n",
      "[ 85%] Building CXX object CMakeFiles/handlegraph_objs.dir/src/split_strands.cpp.o\n",
      "[ 88%] Building CXX object CMakeFiles/handlegraph_objs.dir/src/chop.cpp.o\n",
      "[ 91%] Building CXX object CMakeFiles/handlegraph_objs.dir/src/weakly_connected_components.cpp.o\n",
      "[ 94%] Building CXX object CMakeFiles/handlegraph_objs.dir/src/extend.cpp.o\n",
      "[ 94%] Built target handlegraph_objs\n",
      "[ 97%] Linking CXX shared library libhandlegraph.so\n",
      "[ 97%] Built target handlegraph_shared\n",
      "[100%] Linking CXX static library libhandlegraph.a\n",
      "[100%] Built target handlegraph_static\n",
      "Consolidate compiler generated dependencies of target handlegraph_objs\n",
      "[ 94%] Built target handlegraph_objs\n",
      "[ 97%] Built target handlegraph_shared\n",
      "[100%] Built target handlegraph_static\n",
      "Install the project...\n",
      "-- Install configuration: \"\"\n",
      "-- Installing: ./usr/local/lib/libhandlegraph.so\n",
      "-- Installing: ./usr/local/lib/libhandlegraph.a\n",
      "-- Installing: ./usr/local/include/handlegraph\n",
      "-- Installing: ./usr/local/include/handlegraph/mutable_path_mutable_handle_graph.hpp\n",
      "-- Installing: ./usr/local/include/handlegraph/serializable.hpp\n",
      "-- Installing: ./usr/local/include/handlegraph/algorithms\n",
      "-- Installing: ./usr/local/include/handlegraph/algorithms/is_acyclic.hpp\n",
      "-- Installing: ./usr/local/include/handlegraph/algorithms/find_tips.hpp\n",
      "-- Installing: ./usr/local/include/handlegraph/algorithms/reverse_complement.hpp\n",
      "-- Installing: ./usr/local/include/handlegraph/algorithms/copy_graph.hpp\n",
      "-- Installing: ./usr/local/include/handlegraph/algorithms/count_walks.hpp\n",
      "-- Installing: ./usr/local/include/handlegraph/algorithms/dagify.hpp\n",
      "-- Installing: ./usr/local/include/handlegraph/algorithms/is_single_stranded.hpp\n",
      "-- Installing: ./usr/local/include/handlegraph/algorithms/strongly_connected_components.hpp\n",
      "-- Installing: ./usr/local/include/handlegraph/algorithms/topological_sort.hpp\n",
      "-- Installing: ./usr/local/include/handlegraph/algorithms/append_graph.hpp\n",
      "-- Installing: ./usr/local/include/handlegraph/algorithms/split_strands.hpp\n",
      "-- Installing: ./usr/local/include/handlegraph/algorithms/are_equivalent.hpp\n",
      "-- Installing: ./usr/local/include/handlegraph/algorithms/apply_orientations.hpp\n",
      "-- Installing: ./usr/local/include/handlegraph/algorithms/internal\n",
      "-- Installing: ./usr/local/include/handlegraph/algorithms/internal/dfs.hpp\n",
      "-- Installing: ./usr/local/include/handlegraph/algorithms/find_shortest_paths.hpp\n",
      "-- Installing: ./usr/local/include/handlegraph/algorithms/eades_algorithm.hpp\n",
      "-- Installing: ./usr/local/include/handlegraph/algorithms/dijkstra.hpp\n",
      "-- Installing: ./usr/local/include/handlegraph/algorithms/weakly_connected_components.hpp\n",
      "-- Installing: ./usr/local/include/handlegraph/algorithms/chop.hpp\n",
      "-- Installing: ./usr/local/include/handlegraph/algorithms/extend.hpp\n",
      "-- Installing: ./usr/local/include/handlegraph/handle_graph.hpp\n",
      "-- Installing: ./usr/local/include/handlegraph/snarl_decomposition.hpp\n",
      "-- Installing: ./usr/local/include/handlegraph/types.hpp\n",
      "-- Installing: ./usr/local/include/handlegraph/util.hpp\n",
      "-- Installing: ./usr/local/include/handlegraph/mutable_handle_graph.hpp\n",
      "-- Installing: ./usr/local/include/handlegraph/buildable_snarl_decomposition.hpp\n",
      "-- Installing: ./usr/local/include/handlegraph/named_node_back_translation.hpp\n",
      "-- Installing: ./usr/local/include/handlegraph/serializable_handle_graph.hpp\n",
      "-- Installing: ./usr/local/include/handlegraph/iteratee.hpp\n",
      "-- Installing: ./usr/local/include/handlegraph/deletable_handle_graph.hpp\n",
      "-- Installing: ./usr/local/include/handlegraph/path_metadata.hpp\n",
      "-- Installing: ./usr/local/include/handlegraph/mutable_path_handle_graph.hpp\n",
      "-- Installing: ./usr/local/include/handlegraph/mutable_path_metadata.hpp\n",
      "-- Installing: ./usr/local/include/handlegraph/path_handle_graph.hpp\n",
      "-- Installing: ./usr/local/include/handlegraph/trivially_serializable.hpp\n",
      "-- Installing: ./usr/local/include/handlegraph/path_position_handle_graph.hpp\n",
      "-- Installing: ./usr/local/include/handlegraph/mutable_path_deletable_handle_graph.hpp\n",
      "-- Installing: ./usr/local/include/handlegraph/expanding_overlay_graph.hpp\n",
      "-- Installing: ./usr/local/lib/cmake/libhandlegraph/libhandlegraphTargets.cmake\n",
      "-- Installing: ./usr/local/lib/cmake/libhandlegraph/libhandlegraphTargets-noconfig.cmake\n",
      "-- Installing: ./usr/local/lib/cmake/libhandlegraph/libhandlegraphConfig.cmake\n",
      "-- Installing: ./usr/local/lib/cmake/libhandlegraph/libhandlegraphConfigVersion.cmake\n",
      "Installing GBWT to '/home/cc/miniGiraffe/deps/gbwt'.\n",
      "Running 160 parallel make jobs.\n",
      "mkdir -p bin\n",
      "mkdir -p lib\n",
      "mkdir -p obj\n",
      "/usr/bin/c++   -std=c++14 -Wall -Wextra -DNDEBUG  -fopenmp -pthread -O3 -ffast-math -funroll-loops -msse4.2 -march=native -msse4.2 -march=native -DHAVE_CXA_DEMANGLE -Iinclude -I/home/cc/miniGiraffe/deps/sdsl-lite/include -c -o obj/algorithms.o src/algorithms.cpp\n",
      "/usr/bin/c++   -std=c++14 -Wall -Wextra -DNDEBUG  -fopenmp -pthread -O3 -ffast-math -funroll-loops -msse4.2 -march=native -msse4.2 -march=native -DHAVE_CXA_DEMANGLE -Iinclude -I/home/cc/miniGiraffe/deps/sdsl-lite/include -c -o obj/bwtmerge.o src/bwtmerge.cpp\n",
      "/usr/bin/c++   -std=c++14 -Wall -Wextra -DNDEBUG  -fopenmp -pthread -O3 -ffast-math -funroll-loops -msse4.2 -march=native -msse4.2 -march=native -DHAVE_CXA_DEMANGLE -Iinclude -I/home/cc/miniGiraffe/deps/sdsl-lite/include -c -o obj/cached_gbwt.o src/cached_gbwt.cpp\n",
      "/usr/bin/c++   -std=c++14 -Wall -Wextra -DNDEBUG  -fopenmp -pthread -O3 -ffast-math -funroll-loops -msse4.2 -march=native -msse4.2 -march=native -DHAVE_CXA_DEMANGLE -Iinclude -I/home/cc/miniGiraffe/deps/sdsl-lite/include -c -o obj/dynamic_gbwt.o src/dynamic_gbwt.cpp\n",
      "/usr/bin/c++   -std=c++14 -Wall -Wextra -DNDEBUG  -fopenmp -pthread -O3 -ffast-math -funroll-loops -msse4.2 -march=native -msse4.2 -march=native -DHAVE_CXA_DEMANGLE -Iinclude -I/home/cc/miniGiraffe/deps/sdsl-lite/include -c -o obj/fast_locate.o src/fast_locate.cpp\n",
      "/usr/bin/c++   -std=c++14 -Wall -Wextra -DNDEBUG  -fopenmp -pthread -O3 -ffast-math -funroll-loops -msse4.2 -march=native -msse4.2 -march=native -DHAVE_CXA_DEMANGLE -Iinclude -I/home/cc/miniGiraffe/deps/sdsl-lite/include -c -o obj/files.o src/files.cpp\n",
      "/usr/bin/c++   -std=c++14 -Wall -Wextra -DNDEBUG  -fopenmp -pthread -O3 -ffast-math -funroll-loops -msse4.2 -march=native -msse4.2 -march=native -DHAVE_CXA_DEMANGLE -Iinclude -I/home/cc/miniGiraffe/deps/sdsl-lite/include -c -o obj/gbwt.o src/gbwt.cpp\n",
      "/usr/bin/c++   -std=c++14 -Wall -Wextra -DNDEBUG  -fopenmp -pthread -O3 -ffast-math -funroll-loops -msse4.2 -march=native -msse4.2 -march=native -DHAVE_CXA_DEMANGLE -Iinclude -I/home/cc/miniGiraffe/deps/sdsl-lite/include -c -o obj/internal.o src/internal.cpp\n",
      "/usr/bin/c++   -std=c++14 -Wall -Wextra -DNDEBUG  -fopenmp -pthread -O3 -ffast-math -funroll-loops -msse4.2 -march=native -msse4.2 -march=native -DHAVE_CXA_DEMANGLE -Iinclude -I/home/cc/miniGiraffe/deps/sdsl-lite/include -c -o obj/metadata.o src/metadata.cpp\n",
      "/usr/bin/c++   -std=c++14 -Wall -Wextra -DNDEBUG  -fopenmp -pthread -O3 -ffast-math -funroll-loops -msse4.2 -march=native -msse4.2 -march=native -DHAVE_CXA_DEMANGLE -Iinclude -I/home/cc/miniGiraffe/deps/sdsl-lite/include -c -o obj/support.o src/support.cpp\n",
      "/usr/bin/c++   -std=c++14 -Wall -Wextra -DNDEBUG  -fopenmp -pthread -O3 -ffast-math -funroll-loops -msse4.2 -march=native -msse4.2 -march=native -DHAVE_CXA_DEMANGLE -Iinclude -I/home/cc/miniGiraffe/deps/sdsl-lite/include -c -o obj/test.o src/test.cpp\n",
      "/usr/bin/c++   -std=c++14 -Wall -Wextra -DNDEBUG  -fopenmp -pthread -O3 -ffast-math -funroll-loops -msse4.2 -march=native -msse4.2 -march=native -DHAVE_CXA_DEMANGLE -Iinclude -I/home/cc/miniGiraffe/deps/sdsl-lite/include -c -o obj/utils.o src/utils.cpp\n",
      "/usr/bin/c++   -std=c++14 -Wall -Wextra -DNDEBUG  -fopenmp -pthread -O3 -ffast-math -funroll-loops -msse4.2 -march=native -msse4.2 -march=native -DHAVE_CXA_DEMANGLE -Iinclude -I/home/cc/miniGiraffe/deps/sdsl-lite/include -c -o obj/variants.o src/variants.cpp\n",
      "/usr/bin/c++   -std=c++14 -Wall -Wextra -DNDEBUG  -fopenmp -pthread -O3 -ffast-math -funroll-loops -msse4.2 -march=native -msse4.2 -march=native -DHAVE_CXA_DEMANGLE -Iinclude -I/home/cc/miniGiraffe/deps/sdsl-lite/include -c -o obj/build_gbwt.o src/build_gbwt.cpp\n",
      "/usr/bin/c++   -std=c++14 -Wall -Wextra -DNDEBUG  -fopenmp -pthread -O3 -ffast-math -funroll-loops -msse4.2 -march=native -msse4.2 -march=native -DHAVE_CXA_DEMANGLE -Iinclude -I/home/cc/miniGiraffe/deps/sdsl-lite/include -c -o obj/build_ri.o src/build_ri.cpp\n",
      "/usr/bin/c++   -std=c++14 -Wall -Wextra -DNDEBUG  -fopenmp -pthread -O3 -ffast-math -funroll-loops -msse4.2 -march=native -msse4.2 -march=native -DHAVE_CXA_DEMANGLE -Iinclude -I/home/cc/miniGiraffe/deps/sdsl-lite/include -c -o obj/merge_gbwt.o src/merge_gbwt.cpp\n",
      "/usr/bin/c++   -std=c++14 -Wall -Wextra -DNDEBUG  -fopenmp -pthread -O3 -ffast-math -funroll-loops -msse4.2 -march=native -msse4.2 -march=native -DHAVE_CXA_DEMANGLE -Iinclude -I/home/cc/miniGiraffe/deps/sdsl-lite/include -c -o obj/benchmark.o src/benchmark.cpp\n",
      "/usr/bin/c++   -std=c++14 -Wall -Wextra -DNDEBUG  -fopenmp -pthread -O3 -ffast-math -funroll-loops -msse4.2 -march=native -msse4.2 -march=native -DHAVE_CXA_DEMANGLE -Iinclude -I/home/cc/miniGiraffe/deps/sdsl-lite/include -c -o obj/metadata_tool.o src/metadata_tool.cpp\n",
      "/usr/bin/c++   -std=c++14 -Wall -Wextra -DNDEBUG  -fopenmp -pthread -O3 -ffast-math -funroll-loops -msse4.2 -march=native -msse4.2 -march=native -DHAVE_CXA_DEMANGLE -Iinclude -I/home/cc/miniGiraffe/deps/sdsl-lite/include -c -o obj/remove_seq.o src/remove_seq.cpp\n",
      "ar rcs lib/libgbwt.a obj/algorithms.o obj/bwtmerge.o obj/cached_gbwt.o obj/dynamic_gbwt.o obj/fast_locate.o obj/files.o obj/gbwt.o obj/internal.o obj/metadata.o obj/support.o obj/test.o obj/utils.o obj/variants.o\n",
      "/usr/bin/c++    -std=c++14 -Wall -Wextra -DNDEBUG  -fopenmp -pthread -O3 -ffast-math -funroll-loops -msse4.2 -march=native -msse4.2 -march=native -DHAVE_CXA_DEMANGLE -Iinclude -I/home/cc/miniGiraffe/deps/sdsl-lite/include -o bin/build_gbwt obj/build_gbwt.o lib/libgbwt.a -L/home/cc/miniGiraffe/deps/sdsl-lite/lib -lsdsl -ldivsufsort -ldivsufsort64\n",
      "/usr/bin/c++    -std=c++14 -Wall -Wextra -DNDEBUG  -fopenmp -pthread -O3 -ffast-math -funroll-loops -msse4.2 -march=native -msse4.2 -march=native -DHAVE_CXA_DEMANGLE -Iinclude -I/home/cc/miniGiraffe/deps/sdsl-lite/include -o bin/build_ri obj/build_ri.o lib/libgbwt.a -L/home/cc/miniGiraffe/deps/sdsl-lite/lib -lsdsl -ldivsufsort -ldivsufsort64\n",
      "/usr/bin/c++    -std=c++14 -Wall -Wextra -DNDEBUG  -fopenmp -pthread -O3 -ffast-math -funroll-loops -msse4.2 -march=native -msse4.2 -march=native -DHAVE_CXA_DEMANGLE -Iinclude -I/home/cc/miniGiraffe/deps/sdsl-lite/include -o bin/merge_gbwt obj/merge_gbwt.o lib/libgbwt.a -L/home/cc/miniGiraffe/deps/sdsl-lite/lib -lsdsl -ldivsufsort -ldivsufsort64\n",
      "/usr/bin/c++    -std=c++14 -Wall -Wextra -DNDEBUG  -fopenmp -pthread -O3 -ffast-math -funroll-loops -msse4.2 -march=native -msse4.2 -march=native -DHAVE_CXA_DEMANGLE -Iinclude -I/home/cc/miniGiraffe/deps/sdsl-lite/include -o bin/benchmark obj/benchmark.o lib/libgbwt.a -L/home/cc/miniGiraffe/deps/sdsl-lite/lib -lsdsl -ldivsufsort -ldivsufsort64\n",
      "/usr/bin/c++    -std=c++14 -Wall -Wextra -DNDEBUG  -fopenmp -pthread -O3 -ffast-math -funroll-loops -msse4.2 -march=native -msse4.2 -march=native -DHAVE_CXA_DEMANGLE -Iinclude -I/home/cc/miniGiraffe/deps/sdsl-lite/include -o bin/metadata_tool obj/metadata_tool.o lib/libgbwt.a -L/home/cc/miniGiraffe/deps/sdsl-lite/lib -lsdsl -ldivsufsort -ldivsufsort64\n",
      "/usr/bin/c++    -std=c++14 -Wall -Wextra -DNDEBUG  -fopenmp -pthread -O3 -ffast-math -funroll-loops -msse4.2 -march=native -msse4.2 -march=native -DHAVE_CXA_DEMANGLE -Iinclude -I/home/cc/miniGiraffe/deps/sdsl-lite/include -o bin/remove_seq obj/remove_seq.o lib/libgbwt.a -L/home/cc/miniGiraffe/deps/sdsl-lite/lib -lsdsl -ldivsufsort -ldivsufsort64\n",
      "rm obj/build_ri.o obj/metadata_tool.o obj/benchmark.o obj/merge_gbwt.o obj/remove_seq.o obj/build_gbwt.o\n",
      "Error: Could not install the headers.\n",
      "Installing GBWTGraph to '/home/cc/miniGiraffe/deps/gbwtgraph'.\n",
      "Running 160 parallel make jobs.\n",
      "mkdir -p bin\n",
      "mkdir -p lib\n",
      "mkdir -p obj\n",
      "/usr/bin/c++  -I/home/cc/miniGiraffe/deps/gbwt/include -I/home/cc/miniGiraffe/deps/libhandlegraph/build/usr/local/include/ -std=c++14 -Wall -Wextra -DNDEBUG  -fopenmp -pthread -O3 -ffast-math -funroll-loops -msse4.2 -march=native -msse4.2 -march=native -DHAVE_CXA_DEMANGLE -Iinclude -I/home/cc/miniGiraffe/deps/sdsl-lite/include -c -o obj/algorithms.o src/algorithms.cpp\n",
      "/usr/bin/c++  -I/home/cc/miniGiraffe/deps/gbwt/include -I/home/cc/miniGiraffe/deps/libhandlegraph/build/usr/local/include/ -std=c++14 -Wall -Wextra -DNDEBUG  -fopenmp -pthread -O3 -ffast-math -funroll-loops -msse4.2 -march=native -msse4.2 -march=native -DHAVE_CXA_DEMANGLE -Iinclude -I/home/cc/miniGiraffe/deps/sdsl-lite/include -c -o obj/cached_gbwtgraph.o src/cached_gbwtgraph.cpp\n",
      "/usr/bin/c++  -I/home/cc/miniGiraffe/deps/gbwt/include -I/home/cc/miniGiraffe/deps/libhandlegraph/build/usr/local/include/ -std=c++14 -Wall -Wextra -DNDEBUG  -fopenmp -pthread -O3 -ffast-math -funroll-loops -msse4.2 -march=native -msse4.2 -march=native -DHAVE_CXA_DEMANGLE -Iinclude -I/home/cc/miniGiraffe/deps/sdsl-lite/include -c -o obj/gbwtgraph.o src/gbwtgraph.cpp\n",
      "/usr/bin/c++  -I/home/cc/miniGiraffe/deps/gbwt/include -I/home/cc/miniGiraffe/deps/libhandlegraph/build/usr/local/include/ -std=c++14 -Wall -Wextra -DNDEBUG  -fopenmp -pthread -O3 -ffast-math -funroll-loops -msse4.2 -march=native -msse4.2 -march=native -DHAVE_CXA_DEMANGLE -Iinclude -I/home/cc/miniGiraffe/deps/sdsl-lite/include -c -o obj/gbz.o src/gbz.cpp\n",
      "/usr/bin/c++  -I/home/cc/miniGiraffe/deps/gbwt/include -I/home/cc/miniGiraffe/deps/libhandlegraph/build/usr/local/include/ -std=c++14 -Wall -Wextra -DNDEBUG  -fopenmp -pthread -O3 -ffast-math -funroll-loops -msse4.2 -march=native -msse4.2 -march=native -DHAVE_CXA_DEMANGLE -Iinclude -I/home/cc/miniGiraffe/deps/sdsl-lite/include -c -o obj/gfa.o src/gfa.cpp\n",
      "/usr/bin/c++  -I/home/cc/miniGiraffe/deps/gbwt/include -I/home/cc/miniGiraffe/deps/libhandlegraph/build/usr/local/include/ -std=c++14 -Wall -Wextra -DNDEBUG  -fopenmp -pthread -O3 -ffast-math -funroll-loops -msse4.2 -march=native -msse4.2 -march=native -DHAVE_CXA_DEMANGLE -Iinclude -I/home/cc/miniGiraffe/deps/sdsl-lite/include -c -o obj/internal.o src/internal.cpp\n",
      "/usr/bin/c++  -I/home/cc/miniGiraffe/deps/gbwt/include -I/home/cc/miniGiraffe/deps/libhandlegraph/build/usr/local/include/ -std=c++14 -Wall -Wextra -DNDEBUG  -fopenmp -pthread -O3 -ffast-math -funroll-loops -msse4.2 -march=native -msse4.2 -march=native -DHAVE_CXA_DEMANGLE -Iinclude -I/home/cc/miniGiraffe/deps/sdsl-lite/include -c -o obj/minimizer.o src/minimizer.cpp\n",
      "/usr/bin/c++  -I/home/cc/miniGiraffe/deps/gbwt/include -I/home/cc/miniGiraffe/deps/libhandlegraph/build/usr/local/include/ -std=c++14 -Wall -Wextra -DNDEBUG  -fopenmp -pthread -O3 -ffast-math -funroll-loops -msse4.2 -march=native -msse4.2 -march=native -DHAVE_CXA_DEMANGLE -Iinclude -I/home/cc/miniGiraffe/deps/sdsl-lite/include -c -o obj/path_cover.o src/path_cover.cpp\n",
      "/usr/bin/c++  -I/home/cc/miniGiraffe/deps/gbwt/include -I/home/cc/miniGiraffe/deps/libhandlegraph/build/usr/local/include/ -std=c++14 -Wall -Wextra -DNDEBUG  -fopenmp -pthread -O3 -ffast-math -funroll-loops -msse4.2 -march=native -msse4.2 -march=native -DHAVE_CXA_DEMANGLE -Iinclude -I/home/cc/miniGiraffe/deps/sdsl-lite/include -c -o obj/subgraph.o src/subgraph.cpp\n",
      "/usr/bin/c++  -I/home/cc/miniGiraffe/deps/gbwt/include -I/home/cc/miniGiraffe/deps/libhandlegraph/build/usr/local/include/ -std=c++14 -Wall -Wextra -DNDEBUG  -fopenmp -pthread -O3 -ffast-math -funroll-loops -msse4.2 -march=native -msse4.2 -march=native -DHAVE_CXA_DEMANGLE -Iinclude -I/home/cc/miniGiraffe/deps/sdsl-lite/include -c -o obj/utils.o src/utils.cpp\n",
      "/usr/bin/c++  -I/home/cc/miniGiraffe/deps/gbwt/include -I/home/cc/miniGiraffe/deps/libhandlegraph/build/usr/local/include/ -std=c++14 -Wall -Wextra -DNDEBUG  -fopenmp -pthread -O3 -ffast-math -funroll-loops -msse4.2 -march=native -msse4.2 -march=native -DHAVE_CXA_DEMANGLE -Iinclude -I/home/cc/miniGiraffe/deps/sdsl-lite/include -c -o obj/gfa2gbwt.o src/gfa2gbwt.cpp\n",
      "/usr/bin/c++  -I/home/cc/miniGiraffe/deps/gbwt/include -I/home/cc/miniGiraffe/deps/libhandlegraph/build/usr/local/include/ -std=c++14 -Wall -Wextra -DNDEBUG  -fopenmp -pthread -O3 -ffast-math -funroll-loops -msse4.2 -march=native -msse4.2 -march=native -DHAVE_CXA_DEMANGLE -Iinclude -I/home/cc/miniGiraffe/deps/sdsl-lite/include -c -o obj/gbz_stats.o src/gbz_stats.cpp\n",
      "/usr/bin/c++  -I/home/cc/miniGiraffe/deps/gbwt/include -I/home/cc/miniGiraffe/deps/libhandlegraph/build/usr/local/include/ -std=c++14 -Wall -Wextra -DNDEBUG  -fopenmp -pthread -O3 -ffast-math -funroll-loops -msse4.2 -march=native -msse4.2 -march=native -DHAVE_CXA_DEMANGLE -Iinclude -I/home/cc/miniGiraffe/deps/sdsl-lite/include -c -o obj/kmer_freq.o src/kmer_freq.cpp\n",
      "/usr/bin/c++  -I/home/cc/miniGiraffe/deps/gbwt/include -I/home/cc/miniGiraffe/deps/libhandlegraph/build/usr/local/include/ -std=c++14 -Wall -Wextra -DNDEBUG  -fopenmp -pthread -O3 -ffast-math -funroll-loops -msse4.2 -march=native -msse4.2 -march=native -DHAVE_CXA_DEMANGLE -Iinclude -I/home/cc/miniGiraffe/deps/sdsl-lite/include -c -o obj/subgraph_query.o src/subgraph_query.cpp\n",
      "ar rcs lib/libgbwtgraph.a obj/algorithms.o obj/cached_gbwtgraph.o obj/gbwtgraph.o obj/gbz.o obj/gfa.o obj/internal.o obj/minimizer.o obj/path_cover.o obj/subgraph.o obj/utils.o\n",
      "/usr/bin/c++ -L/home/cc/miniGiraffe/deps/gbwt/lib -L/home/cc/miniGiraffe/deps/libhandlegraph/build/usr/local/lib/  -I/home/cc/miniGiraffe/deps/gbwt/include -I/home/cc/miniGiraffe/deps/libhandlegraph/build/usr/local/include/ -std=c++14 -Wall -Wextra -DNDEBUG  -fopenmp -pthread -O3 -ffast-math -funroll-loops -msse4.2 -march=native -msse4.2 -march=native -DHAVE_CXA_DEMANGLE -Iinclude -I/home/cc/miniGiraffe/deps/sdsl-lite/include -o bin/gfa2gbwt obj/gfa2gbwt.o lib/libgbwtgraph.a -L/home/cc/miniGiraffe/deps/sdsl-lite/lib -lgbwt -lhandlegraph -lsdsl -ldivsufsort -ldivsufsort64\n",
      "/usr/bin/c++ -L/home/cc/miniGiraffe/deps/gbwt/lib -L/home/cc/miniGiraffe/deps/libhandlegraph/build/usr/local/lib/  -I/home/cc/miniGiraffe/deps/gbwt/include -I/home/cc/miniGiraffe/deps/libhandlegraph/build/usr/local/include/ -std=c++14 -Wall -Wextra -DNDEBUG  -fopenmp -pthread -O3 -ffast-math -funroll-loops -msse4.2 -march=native -msse4.2 -march=native -DHAVE_CXA_DEMANGLE -Iinclude -I/home/cc/miniGiraffe/deps/sdsl-lite/include -o bin/gbz_stats obj/gbz_stats.o lib/libgbwtgraph.a -L/home/cc/miniGiraffe/deps/sdsl-lite/lib -lgbwt -lhandlegraph -lsdsl -ldivsufsort -ldivsufsort64\n",
      "/usr/bin/c++ -L/home/cc/miniGiraffe/deps/gbwt/lib -L/home/cc/miniGiraffe/deps/libhandlegraph/build/usr/local/lib/  -I/home/cc/miniGiraffe/deps/gbwt/include -I/home/cc/miniGiraffe/deps/libhandlegraph/build/usr/local/include/ -std=c++14 -Wall -Wextra -DNDEBUG  -fopenmp -pthread -O3 -ffast-math -funroll-loops -msse4.2 -march=native -msse4.2 -march=native -DHAVE_CXA_DEMANGLE -Iinclude -I/home/cc/miniGiraffe/deps/sdsl-lite/include -o bin/kmer_freq obj/kmer_freq.o lib/libgbwtgraph.a -L/home/cc/miniGiraffe/deps/sdsl-lite/lib -lgbwt -lhandlegraph -lsdsl -ldivsufsort -ldivsufsort64\n",
      "/usr/bin/c++ -L/home/cc/miniGiraffe/deps/gbwt/lib -L/home/cc/miniGiraffe/deps/libhandlegraph/build/usr/local/lib/  -I/home/cc/miniGiraffe/deps/gbwt/include -I/home/cc/miniGiraffe/deps/libhandlegraph/build/usr/local/include/ -std=c++14 -Wall -Wextra -DNDEBUG  -fopenmp -pthread -O3 -ffast-math -funroll-loops -msse4.2 -march=native -msse4.2 -march=native -DHAVE_CXA_DEMANGLE -Iinclude -I/home/cc/miniGiraffe/deps/sdsl-lite/include -o bin/subgraph_query obj/subgraph_query.o lib/libgbwtgraph.a -L/home/cc/miniGiraffe/deps/sdsl-lite/lib -lgbwt -lhandlegraph -lsdsl -ldivsufsort -ldivsufsort64\n",
      "rm obj/kmer_freq.o obj/gbz_stats.o obj/subgraph_query.o obj/gfa2gbwt.o\n",
      "Error: Could not install the headers.\n"
     ]
    },
    {
     "ename": "UnexpectedExit",
     "evalue": "Encountered a bad command exit code!\n\nCommand: 'cd miniGiraffe && bash install-deps.sh && make miniGiraffe && source set-env.sh && ./miniGiraffe'\n\nExit code: 1\n\nStdout: already printed\n\nStderr: already printed\n\n",
     "output_type": "error",
     "traceback": [
      "\u001b[0;31m---------------------------------------------------------------------------\u001b[0m",
      "\u001b[0;31mUnexpectedExit\u001b[0m                            Traceback (most recent call last)",
      "\u001b[0;32m/tmp/ipykernel_317/1253582704.py\u001b[0m in \u001b[0;36m<cell line: 0>\u001b[0;34m()\u001b[0m\n\u001b[0;32m----> 1\u001b[0;31m \u001b[0mmy_server\u001b[0m\u001b[0;34m.\u001b[0m\u001b[0mexecute\u001b[0m\u001b[0;34m(\u001b[0m\u001b[0;34m\"cd miniGiraffe && bash install-deps.sh && make miniGiraffe && source set-env.sh && ./miniGiraffe\"\u001b[0m\u001b[0;34m)\u001b[0m\u001b[0;34m\u001b[0m\u001b[0;34m\u001b[0m\u001b[0m\n\u001b[0m",
      "\u001b[0;32m/opt/conda/lib/python3.12/site-packages/chi/server.py\u001b[0m in \u001b[0;36mexecute\u001b[0;34m(self, command, **kwargs)\u001b[0m\n\u001b[1;32m    613\u001b[0m         \"\"\"\n\u001b[1;32m    614\u001b[0m         \u001b[0;32mwith\u001b[0m \u001b[0mself\u001b[0m\u001b[0;34m.\u001b[0m\u001b[0mssh_connection\u001b[0m\u001b[0;34m(\u001b[0m\u001b[0;34m**\u001b[0m\u001b[0mkwargs\u001b[0m\u001b[0;34m)\u001b[0m \u001b[0;32mas\u001b[0m \u001b[0mconn\u001b[0m\u001b[0;34m:\u001b[0m\u001b[0;34m\u001b[0m\u001b[0;34m\u001b[0m\u001b[0m\n\u001b[0;32m--> 615\u001b[0;31m             \u001b[0;32mreturn\u001b[0m \u001b[0mconn\u001b[0m\u001b[0;34m.\u001b[0m\u001b[0mrun\u001b[0m\u001b[0;34m(\u001b[0m\u001b[0mcommand\u001b[0m\u001b[0;34m)\u001b[0m\u001b[0;34m\u001b[0m\u001b[0;34m\u001b[0m\u001b[0m\n\u001b[0m\u001b[1;32m    616\u001b[0m \u001b[0;34m\u001b[0m\u001b[0m\n\u001b[1;32m    617\u001b[0m     \u001b[0;32mdef\u001b[0m \u001b[0mget_metadata\u001b[0m\u001b[0;34m(\u001b[0m\u001b[0mself\u001b[0m\u001b[0;34m)\u001b[0m \u001b[0;34m->\u001b[0m \u001b[0mDict\u001b[0m\u001b[0;34m[\u001b[0m\u001b[0mstr\u001b[0m\u001b[0;34m,\u001b[0m \u001b[0mstr\u001b[0m\u001b[0;34m]\u001b[0m\u001b[0;34m:\u001b[0m\u001b[0;34m\u001b[0m\u001b[0;34m\u001b[0m\u001b[0m\n",
      "\u001b[0;32m/opt/conda/lib/python3.12/site-packages/decorator.py\u001b[0m in \u001b[0;36mfun\u001b[0;34m(*args, **kw)\u001b[0m\n\u001b[1;32m    233\u001b[0m             \u001b[0;32mif\u001b[0m \u001b[0;32mnot\u001b[0m \u001b[0mkwsyntax\u001b[0m\u001b[0;34m:\u001b[0m\u001b[0;34m\u001b[0m\u001b[0;34m\u001b[0m\u001b[0m\n\u001b[1;32m    234\u001b[0m                 \u001b[0margs\u001b[0m\u001b[0;34m,\u001b[0m \u001b[0mkw\u001b[0m \u001b[0;34m=\u001b[0m \u001b[0mfix\u001b[0m\u001b[0;34m(\u001b[0m\u001b[0margs\u001b[0m\u001b[0;34m,\u001b[0m \u001b[0mkw\u001b[0m\u001b[0;34m,\u001b[0m \u001b[0msig\u001b[0m\u001b[0;34m)\u001b[0m\u001b[0;34m\u001b[0m\u001b[0;34m\u001b[0m\u001b[0m\n\u001b[0;32m--> 235\u001b[0;31m             \u001b[0;32mreturn\u001b[0m \u001b[0mcaller\u001b[0m\u001b[0;34m(\u001b[0m\u001b[0mfunc\u001b[0m\u001b[0;34m,\u001b[0m \u001b[0;34m*\u001b[0m\u001b[0;34m(\u001b[0m\u001b[0mextras\u001b[0m \u001b[0;34m+\u001b[0m \u001b[0margs\u001b[0m\u001b[0;34m)\u001b[0m\u001b[0;34m,\u001b[0m \u001b[0;34m**\u001b[0m\u001b[0mkw\u001b[0m\u001b[0;34m)\u001b[0m\u001b[0;34m\u001b[0m\u001b[0;34m\u001b[0m\u001b[0m\n\u001b[0m\u001b[1;32m    236\u001b[0m \u001b[0;34m\u001b[0m\u001b[0m\n\u001b[1;32m    237\u001b[0m     \u001b[0mfun\u001b[0m\u001b[0;34m.\u001b[0m\u001b[0m__name__\u001b[0m \u001b[0;34m=\u001b[0m \u001b[0mfunc\u001b[0m\u001b[0;34m.\u001b[0m\u001b[0m__name__\u001b[0m\u001b[0;34m\u001b[0m\u001b[0;34m\u001b[0m\u001b[0m\n",
      "\u001b[0;32m/opt/conda/lib/python3.12/site-packages/fabric/connection.py\u001b[0m in \u001b[0;36mopens\u001b[0;34m(method, self, *args, **kwargs)\u001b[0m\n\u001b[1;32m     21\u001b[0m \u001b[0;32mdef\u001b[0m \u001b[0mopens\u001b[0m\u001b[0;34m(\u001b[0m\u001b[0mmethod\u001b[0m\u001b[0;34m,\u001b[0m \u001b[0mself\u001b[0m\u001b[0;34m,\u001b[0m \u001b[0;34m*\u001b[0m\u001b[0margs\u001b[0m\u001b[0;34m,\u001b[0m \u001b[0;34m**\u001b[0m\u001b[0mkwargs\u001b[0m\u001b[0;34m)\u001b[0m\u001b[0;34m:\u001b[0m\u001b[0;34m\u001b[0m\u001b[0;34m\u001b[0m\u001b[0m\n\u001b[1;32m     22\u001b[0m     \u001b[0mself\u001b[0m\u001b[0;34m.\u001b[0m\u001b[0mopen\u001b[0m\u001b[0;34m(\u001b[0m\u001b[0;34m)\u001b[0m\u001b[0;34m\u001b[0m\u001b[0;34m\u001b[0m\u001b[0m\n\u001b[0;32m---> 23\u001b[0;31m     \u001b[0;32mreturn\u001b[0m \u001b[0mmethod\u001b[0m\u001b[0;34m(\u001b[0m\u001b[0mself\u001b[0m\u001b[0;34m,\u001b[0m \u001b[0;34m*\u001b[0m\u001b[0margs\u001b[0m\u001b[0;34m,\u001b[0m \u001b[0;34m**\u001b[0m\u001b[0mkwargs\u001b[0m\u001b[0;34m)\u001b[0m\u001b[0;34m\u001b[0m\u001b[0;34m\u001b[0m\u001b[0m\n\u001b[0m\u001b[1;32m     24\u001b[0m \u001b[0;34m\u001b[0m\u001b[0m\n\u001b[1;32m     25\u001b[0m \u001b[0;34m\u001b[0m\u001b[0m\n",
      "\u001b[0;32m/opt/conda/lib/python3.12/site-packages/fabric/connection.py\u001b[0m in \u001b[0;36mrun\u001b[0;34m(self, command, **kwargs)\u001b[0m\n\u001b[1;32m    761\u001b[0m         \u001b[0;34m.\u001b[0m\u001b[0;34m.\u001b[0m \u001b[0mversionadded\u001b[0m\u001b[0;34m:\u001b[0m\u001b[0;34m:\u001b[0m \u001b[0;36m2.0\u001b[0m\u001b[0;34m\u001b[0m\u001b[0;34m\u001b[0m\u001b[0m\n\u001b[1;32m    762\u001b[0m         \"\"\"\n\u001b[0;32m--> 763\u001b[0;31m         \u001b[0;32mreturn\u001b[0m \u001b[0mself\u001b[0m\u001b[0;34m.\u001b[0m\u001b[0m_run\u001b[0m\u001b[0;34m(\u001b[0m\u001b[0mself\u001b[0m\u001b[0;34m.\u001b[0m\u001b[0m_remote_runner\u001b[0m\u001b[0;34m(\u001b[0m\u001b[0;34m)\u001b[0m\u001b[0;34m,\u001b[0m \u001b[0mcommand\u001b[0m\u001b[0;34m,\u001b[0m \u001b[0;34m**\u001b[0m\u001b[0mkwargs\u001b[0m\u001b[0;34m)\u001b[0m\u001b[0;34m\u001b[0m\u001b[0;34m\u001b[0m\u001b[0m\n\u001b[0m\u001b[1;32m    764\u001b[0m \u001b[0;34m\u001b[0m\u001b[0m\n\u001b[1;32m    765\u001b[0m     \u001b[0;34m@\u001b[0m\u001b[0mopens\u001b[0m\u001b[0;34m\u001b[0m\u001b[0;34m\u001b[0m\u001b[0m\n",
      "\u001b[0;32m/opt/conda/lib/python3.12/site-packages/invoke/context.py\u001b[0m in \u001b[0;36m_run\u001b[0;34m(self, runner, command, **kwargs)\u001b[0m\n\u001b[1;32m    111\u001b[0m     \u001b[0;34m)\u001b[0m \u001b[0;34m->\u001b[0m \u001b[0mOptional\u001b[0m\u001b[0;34m[\u001b[0m\u001b[0mResult\u001b[0m\u001b[0;34m]\u001b[0m\u001b[0;34m:\u001b[0m\u001b[0;34m\u001b[0m\u001b[0;34m\u001b[0m\u001b[0m\n\u001b[1;32m    112\u001b[0m         \u001b[0mcommand\u001b[0m \u001b[0;34m=\u001b[0m \u001b[0mself\u001b[0m\u001b[0;34m.\u001b[0m\u001b[0m_prefix_commands\u001b[0m\u001b[0;34m(\u001b[0m\u001b[0mcommand\u001b[0m\u001b[0;34m)\u001b[0m\u001b[0;34m\u001b[0m\u001b[0;34m\u001b[0m\u001b[0m\n\u001b[0;32m--> 113\u001b[0;31m         \u001b[0;32mreturn\u001b[0m \u001b[0mrunner\u001b[0m\u001b[0;34m.\u001b[0m\u001b[0mrun\u001b[0m\u001b[0;34m(\u001b[0m\u001b[0mcommand\u001b[0m\u001b[0;34m,\u001b[0m \u001b[0;34m**\u001b[0m\u001b[0mkwargs\u001b[0m\u001b[0;34m)\u001b[0m\u001b[0;34m\u001b[0m\u001b[0;34m\u001b[0m\u001b[0m\n\u001b[0m\u001b[1;32m    114\u001b[0m \u001b[0;34m\u001b[0m\u001b[0m\n\u001b[1;32m    115\u001b[0m     \u001b[0;32mdef\u001b[0m \u001b[0msudo\u001b[0m\u001b[0;34m(\u001b[0m\u001b[0mself\u001b[0m\u001b[0;34m,\u001b[0m \u001b[0mcommand\u001b[0m\u001b[0;34m:\u001b[0m \u001b[0mstr\u001b[0m\u001b[0;34m,\u001b[0m \u001b[0;34m**\u001b[0m\u001b[0mkwargs\u001b[0m\u001b[0;34m:\u001b[0m \u001b[0mAny\u001b[0m\u001b[0;34m)\u001b[0m \u001b[0;34m->\u001b[0m \u001b[0mOptional\u001b[0m\u001b[0;34m[\u001b[0m\u001b[0mResult\u001b[0m\u001b[0;34m]\u001b[0m\u001b[0;34m:\u001b[0m\u001b[0;34m\u001b[0m\u001b[0;34m\u001b[0m\u001b[0m\n",
      "\u001b[0;32m/opt/conda/lib/python3.12/site-packages/fabric/runners.py\u001b[0m in \u001b[0;36mrun\u001b[0;34m(self, command, **kwargs)\u001b[0m\n\u001b[1;32m     81\u001b[0m     \u001b[0;32mdef\u001b[0m \u001b[0mrun\u001b[0m\u001b[0;34m(\u001b[0m\u001b[0mself\u001b[0m\u001b[0;34m,\u001b[0m \u001b[0mcommand\u001b[0m\u001b[0;34m,\u001b[0m \u001b[0;34m**\u001b[0m\u001b[0mkwargs\u001b[0m\u001b[0;34m)\u001b[0m\u001b[0;34m:\u001b[0m\u001b[0;34m\u001b[0m\u001b[0;34m\u001b[0m\u001b[0m\n\u001b[1;32m     82\u001b[0m         \u001b[0mkwargs\u001b[0m\u001b[0;34m.\u001b[0m\u001b[0msetdefault\u001b[0m\u001b[0;34m(\u001b[0m\u001b[0;34m\"replace_env\"\u001b[0m\u001b[0;34m,\u001b[0m \u001b[0;32mTrue\u001b[0m\u001b[0;34m)\u001b[0m\u001b[0;34m\u001b[0m\u001b[0;34m\u001b[0m\u001b[0m\n\u001b[0;32m---> 83\u001b[0;31m         \u001b[0;32mreturn\u001b[0m \u001b[0msuper\u001b[0m\u001b[0;34m(\u001b[0m\u001b[0;34m)\u001b[0m\u001b[0;34m.\u001b[0m\u001b[0mrun\u001b[0m\u001b[0;34m(\u001b[0m\u001b[0mcommand\u001b[0m\u001b[0;34m,\u001b[0m \u001b[0;34m**\u001b[0m\u001b[0mkwargs\u001b[0m\u001b[0;34m)\u001b[0m\u001b[0;34m\u001b[0m\u001b[0;34m\u001b[0m\u001b[0m\n\u001b[0m\u001b[1;32m     84\u001b[0m \u001b[0;34m\u001b[0m\u001b[0m\n\u001b[1;32m     85\u001b[0m     \u001b[0;32mdef\u001b[0m \u001b[0mread_proc_stdout\u001b[0m\u001b[0;34m(\u001b[0m\u001b[0mself\u001b[0m\u001b[0;34m,\u001b[0m \u001b[0mnum_bytes\u001b[0m\u001b[0;34m)\u001b[0m\u001b[0;34m:\u001b[0m\u001b[0;34m\u001b[0m\u001b[0;34m\u001b[0m\u001b[0m\n",
      "\u001b[0;32m/opt/conda/lib/python3.12/site-packages/invoke/runners.py\u001b[0m in \u001b[0;36mrun\u001b[0;34m(self, command, **kwargs)\u001b[0m\n\u001b[1;32m    393\u001b[0m         \"\"\"\n\u001b[1;32m    394\u001b[0m         \u001b[0;32mtry\u001b[0m\u001b[0;34m:\u001b[0m\u001b[0;34m\u001b[0m\u001b[0;34m\u001b[0m\u001b[0m\n\u001b[0;32m--> 395\u001b[0;31m             \u001b[0;32mreturn\u001b[0m \u001b[0mself\u001b[0m\u001b[0;34m.\u001b[0m\u001b[0m_run_body\u001b[0m\u001b[0;34m(\u001b[0m\u001b[0mcommand\u001b[0m\u001b[0;34m,\u001b[0m \u001b[0;34m**\u001b[0m\u001b[0mkwargs\u001b[0m\u001b[0;34m)\u001b[0m\u001b[0;34m\u001b[0m\u001b[0;34m\u001b[0m\u001b[0m\n\u001b[0m\u001b[1;32m    396\u001b[0m         \u001b[0;32mfinally\u001b[0m\u001b[0;34m:\u001b[0m\u001b[0;34m\u001b[0m\u001b[0;34m\u001b[0m\u001b[0m\n\u001b[1;32m    397\u001b[0m             \u001b[0;32mif\u001b[0m \u001b[0;32mnot\u001b[0m \u001b[0;34m(\u001b[0m\u001b[0mself\u001b[0m\u001b[0;34m.\u001b[0m\u001b[0m_asynchronous\u001b[0m \u001b[0;32mor\u001b[0m \u001b[0mself\u001b[0m\u001b[0;34m.\u001b[0m\u001b[0m_disowned\u001b[0m\u001b[0;34m)\u001b[0m\u001b[0;34m:\u001b[0m\u001b[0;34m\u001b[0m\u001b[0;34m\u001b[0m\u001b[0m\n",
      "\u001b[0;32m/opt/conda/lib/python3.12/site-packages/invoke/runners.py\u001b[0m in \u001b[0;36m_run_body\u001b[0;34m(self, command, **kwargs)\u001b[0m\n\u001b[1;32m    449\u001b[0m             \u001b[0mthread\u001b[0m\u001b[0;34m.\u001b[0m\u001b[0mstart\u001b[0m\u001b[0;34m(\u001b[0m\u001b[0;34m)\u001b[0m\u001b[0;34m\u001b[0m\u001b[0;34m\u001b[0m\u001b[0m\n\u001b[1;32m    450\u001b[0m         \u001b[0;31m# Wrap up or promise that we will, depending\u001b[0m\u001b[0;34m\u001b[0m\u001b[0;34m\u001b[0m\u001b[0m\n\u001b[0;32m--> 451\u001b[0;31m         \u001b[0;32mreturn\u001b[0m \u001b[0mself\u001b[0m\u001b[0;34m.\u001b[0m\u001b[0mmake_promise\u001b[0m\u001b[0;34m(\u001b[0m\u001b[0;34m)\u001b[0m \u001b[0;32mif\u001b[0m \u001b[0mself\u001b[0m\u001b[0;34m.\u001b[0m\u001b[0m_asynchronous\u001b[0m \u001b[0;32melse\u001b[0m \u001b[0mself\u001b[0m\u001b[0;34m.\u001b[0m\u001b[0m_finish\u001b[0m\u001b[0;34m(\u001b[0m\u001b[0;34m)\u001b[0m\u001b[0;34m\u001b[0m\u001b[0;34m\u001b[0m\u001b[0m\n\u001b[0m\u001b[1;32m    452\u001b[0m \u001b[0;34m\u001b[0m\u001b[0m\n\u001b[1;32m    453\u001b[0m     \u001b[0;32mdef\u001b[0m \u001b[0mmake_promise\u001b[0m\u001b[0;34m(\u001b[0m\u001b[0mself\u001b[0m\u001b[0;34m)\u001b[0m \u001b[0;34m->\u001b[0m \u001b[0;34m\"Promise\"\u001b[0m\u001b[0;34m:\u001b[0m\u001b[0;34m\u001b[0m\u001b[0;34m\u001b[0m\u001b[0m\n",
      "\u001b[0;32m/opt/conda/lib/python3.12/site-packages/invoke/runners.py\u001b[0m in \u001b[0;36m_finish\u001b[0;34m(self)\u001b[0m\n\u001b[1;32m    516\u001b[0m             \u001b[0;32mraise\u001b[0m \u001b[0mCommandTimedOut\u001b[0m\u001b[0;34m(\u001b[0m\u001b[0mresult\u001b[0m\u001b[0;34m,\u001b[0m \u001b[0mtimeout\u001b[0m\u001b[0;34m=\u001b[0m\u001b[0mtimeout\u001b[0m\u001b[0;34m)\u001b[0m\u001b[0;34m\u001b[0m\u001b[0;34m\u001b[0m\u001b[0m\n\u001b[1;32m    517\u001b[0m         \u001b[0;32mif\u001b[0m \u001b[0;32mnot\u001b[0m \u001b[0;34m(\u001b[0m\u001b[0mresult\u001b[0m \u001b[0;32mor\u001b[0m \u001b[0mself\u001b[0m\u001b[0;34m.\u001b[0m\u001b[0mopts\u001b[0m\u001b[0;34m[\u001b[0m\u001b[0;34m\"warn\"\u001b[0m\u001b[0;34m]\u001b[0m\u001b[0;34m)\u001b[0m\u001b[0;34m:\u001b[0m\u001b[0;34m\u001b[0m\u001b[0;34m\u001b[0m\u001b[0m\n\u001b[0;32m--> 518\u001b[0;31m             \u001b[0;32mraise\u001b[0m \u001b[0mUnexpectedExit\u001b[0m\u001b[0;34m(\u001b[0m\u001b[0mresult\u001b[0m\u001b[0;34m)\u001b[0m\u001b[0;34m\u001b[0m\u001b[0;34m\u001b[0m\u001b[0m\n\u001b[0m\u001b[1;32m    519\u001b[0m         \u001b[0;32mreturn\u001b[0m \u001b[0mresult\u001b[0m\u001b[0;34m\u001b[0m\u001b[0;34m\u001b[0m\u001b[0m\n\u001b[1;32m    520\u001b[0m \u001b[0;34m\u001b[0m\u001b[0m\n",
      "\u001b[0;31mUnexpectedExit\u001b[0m: Encountered a bad command exit code!\n\nCommand: 'cd miniGiraffe && bash install-deps.sh && make miniGiraffe && source set-env.sh && ./miniGiraffe'\n\nExit code: 1\n\nStdout: already printed\n\nStderr: already printed\n\n"
     ]
    }
   ],
   "source": [
    "my_server.execute(\"cd miniGiraffe && bash install-deps.sh && make miniGiraffe && source set-env.sh && ./miniGiraffe\")"
   ]
  },
  {
   "cell_type": "code",
   "execution_count": 49,
   "metadata": {
    "tags": []
   },
   "outputs": [
    {
     "name": "stdout",
     "output_type": "stream",
     "text": [
      "g++ -fopenmp -O3 -g  -I/home/cc/miniGiraffe -I/home/cc/miniGiraffe/deps/gbwtgraph/include -I/home/cc/miniGiraffe/deps/gbwt/include -I/home/cc/miniGiraffe/deps/sdsl-lite/include -I/home/cc/miniGiraffe/deps/libhandlegraph/build/usr/local/include -I/home/cc/miniGiraffe/src -shared -fPIC -L/home/cc/miniGiraffe/deps/sdsl-lite/lib -L/home/cc/miniGiraffe/deps/gbwt/lib -L/home/cc/miniGiraffe/deps/libhandlegraph/build/usr/local/lib -L/home/cc/miniGiraffe/deps/gbwtgraph/lib src/time-utils.cpp -lgbwtgraph -lgbwt -lhandlegraph -lsdsl -ldivsufsort -ldivsufsort64  -o time-utils.so\n",
      "g++ -fopenmp -O3 -g  -I/home/cc/miniGiraffe -I/home/cc/miniGiraffe/deps/gbwtgraph/include -I/home/cc/miniGiraffe/deps/gbwt/include -I/home/cc/miniGiraffe/deps/sdsl-lite/include -I/home/cc/miniGiraffe/deps/libhandlegraph/build/usr/local/include -I/home/cc/miniGiraffe/src -shared -fPIC -L/home/cc/miniGiraffe/deps/sdsl-lite/lib -L/home/cc/miniGiraffe/deps/gbwt/lib -L/home/cc/miniGiraffe/deps/libhandlegraph/build/usr/local/lib -L/home/cc/miniGiraffe/deps/gbwtgraph/lib src/perf-utils.cpp -lgbwtgraph -lgbwt -lhandlegraph -lsdsl -ldivsufsort -ldivsufsort64  -o perf-utils.so\n",
      "g++ -fopenmp -O3 -g  -I/home/cc/miniGiraffe -I/home/cc/miniGiraffe/deps/gbwtgraph/include -I/home/cc/miniGiraffe/deps/gbwt/include -I/home/cc/miniGiraffe/deps/sdsl-lite/include -I/home/cc/miniGiraffe/deps/libhandlegraph/build/usr/local/include -I/home/cc/miniGiraffe/src -shared -fPIC -L/home/cc/miniGiraffe/deps/sdsl-lite/lib -L/home/cc/miniGiraffe/deps/gbwt/lib -L/home/cc/miniGiraffe/deps/libhandlegraph/build/usr/local/lib -L/home/cc/miniGiraffe/deps/gbwtgraph/lib src/handle-utils.cpp -lgbwtgraph -lgbwt -lhandlegraph -lsdsl -ldivsufsort -ldivsufsort64  -o handle-utils.so\n",
      "g++ -fopenmp -pthread -O3 -g -I/home/cc/miniGiraffe -I/home/cc/miniGiraffe/deps/gbwtgraph/include -I/home/cc/miniGiraffe/deps/gbwt/include -I/home/cc/miniGiraffe/deps/sdsl-lite/include -I/home/cc/miniGiraffe/deps/libhandlegraph/build/usr/local/include -I/home/cc/miniGiraffe/src -L/home/cc/miniGiraffe/deps/sdsl-lite/lib -L/home/cc/miniGiraffe/deps/gbwt/lib -L/home/cc/miniGiraffe/deps/libhandlegraph/build/usr/local/lib -L/home/cc/miniGiraffe/deps/gbwtgraph/lib src/miniGiraffe.cpp time-utils.so perf-utils.so handle-utils.so -lgbwtgraph -lgbwt -lhandlegraph -lsdsl -ldivsufsort -ldivsufsort64  -Wl,--emit-relocs -o miniGiraffe\n"
     ]
    },
    {
     "name": "stderr",
     "output_type": "stream",
     "text": [
      "Usage miniGiraffe [seed_file] [gbz_file] [options]\n",
      "Options: \n",
      "   -t, number of threads (default: max # threads in system)\n",
      "   -c, initial GBWTcache capacity (default: 256)\n",
      "   -b, batch size (default: 512)\n",
      "   -s, scheduler [omp, ws] (default: omp)\n",
      "   -p, enable profiling (default: disabled)\n",
      "   -o, write extension output (default: disabled)\n",
      "   -m <list>, comma-separated list of hardware measurements to enable (default: disabled)\n",
      "              Available counters: IPC, L1CACHE, LLCACHE, BRANCHES, DTLB, ITLB\n",
      "              Not recommended to enable more than 3 hw measurement per run\n",
      "              given hardware counters constraints\n"
     ]
    },
    {
     "data": {
      "text/plain": [
       "<Result cmd='cd miniGiraffe && make miniGiraffe && source set-env.sh && ./miniGiraffe' exited=0>"
      ]
     },
     "execution_count": 49,
     "metadata": {},
     "output_type": "execute_result"
    }
   ],
   "source": [
    "my_server.execute(\"cd miniGiraffe && make miniGiraffe && source set-env.sh && ./miniGiraffe\")"
   ]
  },
  {
   "cell_type": "code",
   "execution_count": 50,
   "metadata": {
    "tags": []
   },
   "outputs": [
    {
     "data": {
      "text/plain": [
       "<Result cmd='cd miniGiraffe && g++ src/lower-input.cpp -o lower-input && chmod +x lower-input' exited=0>"
      ]
     },
     "execution_count": 50,
     "metadata": {},
     "output_type": "execute_result"
    }
   ],
   "source": [
    "my_server.execute(\"cd miniGiraffe && g++ src/lower-input.cpp -o lower-input && chmod +x lower-input\")"
   ]
  },
  {
   "cell_type": "markdown",
   "metadata": {},
   "source": [
    "## Run Experiment\n",
    "\n",
    "Now, we can finally run the experiment. This will run the `stress-ng` program on different numbers of CPUs for 10 seconds, and measures the power consumption via `perf`. For more information on measuring power, see [this Chameleon blog post](https://chameleoncloud.org/blog/2024/06/18/power-measurement-and-management-on-chameleon/).\n",
    "\n",
    "You can edit `iterations` to gather more data points, which will result in a more interesting result."
   ]
  },
  {
   "cell_type": "code",
   "execution_count": 54,
   "metadata": {},
   "outputs": [
    {
     "name": "stdout",
     "output_type": "stream",
     "text": [
      "2025-08-14 04:42:09,991 MiniGiraffePipeline - INFO - ***Starting miniGiraffe pipeline***\n",
      "2025-08-14 04:42:09,991 MiniGiraffePipeline - INFO - [Main] Source folder: /home/cc/miniGiraffe\n",
      "2025-08-14 04:42:09,991 MiniGiraffePipeline - INFO - [Main] Destination folder: /home/cc/miniGiraffe/iiswc25\n",
      "2025-08-14 04:42:09,991 MiniGiraffePipeline - WARNING - [Main] Destination folder already exists: /home/cc/miniGiraffe/iiswc25\n",
      "2025-08-14 04:42:10,644 MiniGiraffePipeline - WARNING - [Download Zenodo] File already exists: /home/cc/miniGiraffe/iiswc25/1000GPlons_hs38d1_filter.giraffe.gbz\n",
      "2025-08-14 04:42:10,644 MiniGiraffePipeline - INFO - [Download Zenodo] Downloading: dump_proxy_novaseq.bin\n",
      "2025-08-14 04:54:14,229 MiniGiraffePipeline - INFO - [Download Zenodo] Downloaded: dump_proxy_novaseq.bin to /home/cc/miniGiraffe/iiswc25/dump_proxy_novaseq.bin\n",
      "2025-08-14 04:54:14,231 tuning-pipeline - INFO - [Main] Sequence path: /home/cc/miniGiraffe/iiswc25/dump_proxy_novaseq.bin\n",
      "2025-08-14 04:54:14,231 tuning-pipeline - INFO - [Main] GBZ path: /home/cc/miniGiraffe/iiswc25/1000GPlons_hs38d1_filter.giraffe.gbz\n",
      "2025-08-14 04:54:14,232 MiniGiraffePipeline - INFO - [Copy Files] File copied successfully from /home/cc/miniGiraffe/lower-input to /home/cc/miniGiraffe/iiswc25/lower-input\n",
      "2025-08-14 04:54:14,242 MiniGiraffePipeline - INFO - [Copy Files] File copied successfully from /home/cc/miniGiraffe/miniGiraffe to /home/cc/miniGiraffe/iiswc25/miniGiraffe\n",
      "2025-08-14 04:54:14,242 MiniGiraffePipeline - INFO - [Copy Files] File copied successfully from /home/cc/miniGiraffe/perf-utils.so to /home/cc/miniGiraffe/iiswc25/perf-utils.so\n",
      "2025-08-14 04:54:14,243 MiniGiraffePipeline - INFO - [Copy Files] File copied successfully from /home/cc/miniGiraffe/time-utils.so to /home/cc/miniGiraffe/iiswc25/time-utils.so\n",
      "2025-08-14 04:54:14,243 MiniGiraffePipeline - INFO - [Copy Files] File copied successfully from /home/cc/miniGiraffe/set-env.sh to /home/cc/miniGiraffe/iiswc25/set-env.sh\n",
      "2025-08-14 04:54:14,243 tuning-pipeline - INFO - [Main] Lowering sequence input for testing\n",
      "2025-08-14 04:54:14,244 MiniGiraffePipeline - INFO - [Run Binary] /home/cc/miniGiraffe/iiswc25/lower-input /home/cc/miniGiraffe/iiswc25/dump_proxy_novaseq.bin /home/cc/miniGiraffe/iiswc25/dump_proxy_novaseq10p_random.bin\n",
      "2025-08-14 04:54:57,431 MiniGiraffePipeline - INFO - [Lower Sequence Input] Sequence input lowered successfully: /home/cc/miniGiraffe/iiswc25/dump_proxy_novaseq10p_random.bin\n",
      "2025-08-14 04:54:57,501 tuning-pipeline - INFO - [Main] Total threads available: 160\n",
      "2025-08-14 04:54:57,501 tuning-pipeline - INFO - [Main] Total physical cores available: 80\n",
      "2025-08-14 04:54:57,501 tuning-pipeline - INFO - [Main] Machine model: intelxeonplatinum8380cpu@230ghz\n",
      "2025-08-14 04:54:57,501 MiniGiraffePipeline - INFO - [Main] Created machine folder: /home/cc/miniGiraffe/iiswc25/intelxeonplatinum8380cpu@230ghz/1000GP\n"
     ]
    },
    {
     "name": "stderr",
     "output_type": "stream",
     "text": [
      "Traceback (most recent call last):\n",
      "  File \"/home/cc/miniGiraffe/iiswc25/tuning-pipeline.py\", line 104, in <module>\n",
      "    pipeline.generate_design_matrix(batch_size, cache_size, scheduler, num_threads)\n",
      "  File \"/home/cc/miniGiraffe/iiswc25/MiniGiraffePipeline.py\", line 234, in generate_design_matrix\n",
      "    import pyDOE2\n",
      "ModuleNotFoundError: No module named 'pyDOE2'\n"
     ]
    },
    {
     "ename": "UnexpectedExit",
     "evalue": "Encountered a bad command exit code!\n\nCommand: 'python3 miniGiraffe/iiswc25/tuning-pipeline.py'\n\nExit code: 1\n\nStdout: already printed\n\nStderr: already printed\n\n",
     "output_type": "error",
     "traceback": [
      "\u001b[0;31m---------------------------------------------------------------------------\u001b[0m",
      "\u001b[0;31mUnexpectedExit\u001b[0m                            Traceback (most recent call last)",
      "\u001b[0;32m/tmp/ipykernel_317/3874256417.py\u001b[0m in \u001b[0;36m<cell line: 0>\u001b[0;34m()\u001b[0m\n\u001b[0;32m----> 1\u001b[0;31m \u001b[0mmy_server\u001b[0m\u001b[0;34m.\u001b[0m\u001b[0mexecute\u001b[0m\u001b[0;34m(\u001b[0m\u001b[0;34m\"python3 miniGiraffe/iiswc25/tuning-pipeline.py\"\u001b[0m\u001b[0;34m)\u001b[0m\u001b[0;34m\u001b[0m\u001b[0;34m\u001b[0m\u001b[0m\n\u001b[0m",
      "\u001b[0;32m/opt/conda/lib/python3.12/site-packages/chi/server.py\u001b[0m in \u001b[0;36mexecute\u001b[0;34m(self, command, **kwargs)\u001b[0m\n\u001b[1;32m    613\u001b[0m         \"\"\"\n\u001b[1;32m    614\u001b[0m         \u001b[0;32mwith\u001b[0m \u001b[0mself\u001b[0m\u001b[0;34m.\u001b[0m\u001b[0mssh_connection\u001b[0m\u001b[0;34m(\u001b[0m\u001b[0;34m**\u001b[0m\u001b[0mkwargs\u001b[0m\u001b[0;34m)\u001b[0m \u001b[0;32mas\u001b[0m \u001b[0mconn\u001b[0m\u001b[0;34m:\u001b[0m\u001b[0;34m\u001b[0m\u001b[0;34m\u001b[0m\u001b[0m\n\u001b[0;32m--> 615\u001b[0;31m             \u001b[0;32mreturn\u001b[0m \u001b[0mconn\u001b[0m\u001b[0;34m.\u001b[0m\u001b[0mrun\u001b[0m\u001b[0;34m(\u001b[0m\u001b[0mcommand\u001b[0m\u001b[0;34m)\u001b[0m\u001b[0;34m\u001b[0m\u001b[0;34m\u001b[0m\u001b[0m\n\u001b[0m\u001b[1;32m    616\u001b[0m \u001b[0;34m\u001b[0m\u001b[0m\n\u001b[1;32m    617\u001b[0m     \u001b[0;32mdef\u001b[0m \u001b[0mget_metadata\u001b[0m\u001b[0;34m(\u001b[0m\u001b[0mself\u001b[0m\u001b[0;34m)\u001b[0m \u001b[0;34m->\u001b[0m \u001b[0mDict\u001b[0m\u001b[0;34m[\u001b[0m\u001b[0mstr\u001b[0m\u001b[0;34m,\u001b[0m \u001b[0mstr\u001b[0m\u001b[0;34m]\u001b[0m\u001b[0;34m:\u001b[0m\u001b[0;34m\u001b[0m\u001b[0;34m\u001b[0m\u001b[0m\n",
      "\u001b[0;32m/opt/conda/lib/python3.12/site-packages/decorator.py\u001b[0m in \u001b[0;36mfun\u001b[0;34m(*args, **kw)\u001b[0m\n\u001b[1;32m    233\u001b[0m             \u001b[0;32mif\u001b[0m \u001b[0;32mnot\u001b[0m \u001b[0mkwsyntax\u001b[0m\u001b[0;34m:\u001b[0m\u001b[0;34m\u001b[0m\u001b[0;34m\u001b[0m\u001b[0m\n\u001b[1;32m    234\u001b[0m                 \u001b[0margs\u001b[0m\u001b[0;34m,\u001b[0m \u001b[0mkw\u001b[0m \u001b[0;34m=\u001b[0m \u001b[0mfix\u001b[0m\u001b[0;34m(\u001b[0m\u001b[0margs\u001b[0m\u001b[0;34m,\u001b[0m \u001b[0mkw\u001b[0m\u001b[0;34m,\u001b[0m \u001b[0msig\u001b[0m\u001b[0;34m)\u001b[0m\u001b[0;34m\u001b[0m\u001b[0;34m\u001b[0m\u001b[0m\n\u001b[0;32m--> 235\u001b[0;31m             \u001b[0;32mreturn\u001b[0m \u001b[0mcaller\u001b[0m\u001b[0;34m(\u001b[0m\u001b[0mfunc\u001b[0m\u001b[0;34m,\u001b[0m \u001b[0;34m*\u001b[0m\u001b[0;34m(\u001b[0m\u001b[0mextras\u001b[0m \u001b[0;34m+\u001b[0m \u001b[0margs\u001b[0m\u001b[0;34m)\u001b[0m\u001b[0;34m,\u001b[0m \u001b[0;34m**\u001b[0m\u001b[0mkw\u001b[0m\u001b[0;34m)\u001b[0m\u001b[0;34m\u001b[0m\u001b[0;34m\u001b[0m\u001b[0m\n\u001b[0m\u001b[1;32m    236\u001b[0m \u001b[0;34m\u001b[0m\u001b[0m\n\u001b[1;32m    237\u001b[0m     \u001b[0mfun\u001b[0m\u001b[0;34m.\u001b[0m\u001b[0m__name__\u001b[0m \u001b[0;34m=\u001b[0m \u001b[0mfunc\u001b[0m\u001b[0;34m.\u001b[0m\u001b[0m__name__\u001b[0m\u001b[0;34m\u001b[0m\u001b[0;34m\u001b[0m\u001b[0m\n",
      "\u001b[0;32m/opt/conda/lib/python3.12/site-packages/fabric/connection.py\u001b[0m in \u001b[0;36mopens\u001b[0;34m(method, self, *args, **kwargs)\u001b[0m\n\u001b[1;32m     21\u001b[0m \u001b[0;32mdef\u001b[0m \u001b[0mopens\u001b[0m\u001b[0;34m(\u001b[0m\u001b[0mmethod\u001b[0m\u001b[0;34m,\u001b[0m \u001b[0mself\u001b[0m\u001b[0;34m,\u001b[0m \u001b[0;34m*\u001b[0m\u001b[0margs\u001b[0m\u001b[0;34m,\u001b[0m \u001b[0;34m**\u001b[0m\u001b[0mkwargs\u001b[0m\u001b[0;34m)\u001b[0m\u001b[0;34m:\u001b[0m\u001b[0;34m\u001b[0m\u001b[0;34m\u001b[0m\u001b[0m\n\u001b[1;32m     22\u001b[0m     \u001b[0mself\u001b[0m\u001b[0;34m.\u001b[0m\u001b[0mopen\u001b[0m\u001b[0;34m(\u001b[0m\u001b[0;34m)\u001b[0m\u001b[0;34m\u001b[0m\u001b[0;34m\u001b[0m\u001b[0m\n\u001b[0;32m---> 23\u001b[0;31m     \u001b[0;32mreturn\u001b[0m \u001b[0mmethod\u001b[0m\u001b[0;34m(\u001b[0m\u001b[0mself\u001b[0m\u001b[0;34m,\u001b[0m \u001b[0;34m*\u001b[0m\u001b[0margs\u001b[0m\u001b[0;34m,\u001b[0m \u001b[0;34m**\u001b[0m\u001b[0mkwargs\u001b[0m\u001b[0;34m)\u001b[0m\u001b[0;34m\u001b[0m\u001b[0;34m\u001b[0m\u001b[0m\n\u001b[0m\u001b[1;32m     24\u001b[0m \u001b[0;34m\u001b[0m\u001b[0m\n\u001b[1;32m     25\u001b[0m \u001b[0;34m\u001b[0m\u001b[0m\n",
      "\u001b[0;32m/opt/conda/lib/python3.12/site-packages/fabric/connection.py\u001b[0m in \u001b[0;36mrun\u001b[0;34m(self, command, **kwargs)\u001b[0m\n\u001b[1;32m    761\u001b[0m         \u001b[0;34m.\u001b[0m\u001b[0;34m.\u001b[0m \u001b[0mversionadded\u001b[0m\u001b[0;34m:\u001b[0m\u001b[0;34m:\u001b[0m \u001b[0;36m2.0\u001b[0m\u001b[0;34m\u001b[0m\u001b[0;34m\u001b[0m\u001b[0m\n\u001b[1;32m    762\u001b[0m         \"\"\"\n\u001b[0;32m--> 763\u001b[0;31m         \u001b[0;32mreturn\u001b[0m \u001b[0mself\u001b[0m\u001b[0;34m.\u001b[0m\u001b[0m_run\u001b[0m\u001b[0;34m(\u001b[0m\u001b[0mself\u001b[0m\u001b[0;34m.\u001b[0m\u001b[0m_remote_runner\u001b[0m\u001b[0;34m(\u001b[0m\u001b[0;34m)\u001b[0m\u001b[0;34m,\u001b[0m \u001b[0mcommand\u001b[0m\u001b[0;34m,\u001b[0m \u001b[0;34m**\u001b[0m\u001b[0mkwargs\u001b[0m\u001b[0;34m)\u001b[0m\u001b[0;34m\u001b[0m\u001b[0;34m\u001b[0m\u001b[0m\n\u001b[0m\u001b[1;32m    764\u001b[0m \u001b[0;34m\u001b[0m\u001b[0m\n\u001b[1;32m    765\u001b[0m     \u001b[0;34m@\u001b[0m\u001b[0mopens\u001b[0m\u001b[0;34m\u001b[0m\u001b[0;34m\u001b[0m\u001b[0m\n",
      "\u001b[0;32m/opt/conda/lib/python3.12/site-packages/invoke/context.py\u001b[0m in \u001b[0;36m_run\u001b[0;34m(self, runner, command, **kwargs)\u001b[0m\n\u001b[1;32m    111\u001b[0m     \u001b[0;34m)\u001b[0m \u001b[0;34m->\u001b[0m \u001b[0mOptional\u001b[0m\u001b[0;34m[\u001b[0m\u001b[0mResult\u001b[0m\u001b[0;34m]\u001b[0m\u001b[0;34m:\u001b[0m\u001b[0;34m\u001b[0m\u001b[0;34m\u001b[0m\u001b[0m\n\u001b[1;32m    112\u001b[0m         \u001b[0mcommand\u001b[0m \u001b[0;34m=\u001b[0m \u001b[0mself\u001b[0m\u001b[0;34m.\u001b[0m\u001b[0m_prefix_commands\u001b[0m\u001b[0;34m(\u001b[0m\u001b[0mcommand\u001b[0m\u001b[0;34m)\u001b[0m\u001b[0;34m\u001b[0m\u001b[0;34m\u001b[0m\u001b[0m\n\u001b[0;32m--> 113\u001b[0;31m         \u001b[0;32mreturn\u001b[0m \u001b[0mrunner\u001b[0m\u001b[0;34m.\u001b[0m\u001b[0mrun\u001b[0m\u001b[0;34m(\u001b[0m\u001b[0mcommand\u001b[0m\u001b[0;34m,\u001b[0m \u001b[0;34m**\u001b[0m\u001b[0mkwargs\u001b[0m\u001b[0;34m)\u001b[0m\u001b[0;34m\u001b[0m\u001b[0;34m\u001b[0m\u001b[0m\n\u001b[0m\u001b[1;32m    114\u001b[0m \u001b[0;34m\u001b[0m\u001b[0m\n\u001b[1;32m    115\u001b[0m     \u001b[0;32mdef\u001b[0m \u001b[0msudo\u001b[0m\u001b[0;34m(\u001b[0m\u001b[0mself\u001b[0m\u001b[0;34m,\u001b[0m \u001b[0mcommand\u001b[0m\u001b[0;34m:\u001b[0m \u001b[0mstr\u001b[0m\u001b[0;34m,\u001b[0m \u001b[0;34m**\u001b[0m\u001b[0mkwargs\u001b[0m\u001b[0;34m:\u001b[0m \u001b[0mAny\u001b[0m\u001b[0;34m)\u001b[0m \u001b[0;34m->\u001b[0m \u001b[0mOptional\u001b[0m\u001b[0;34m[\u001b[0m\u001b[0mResult\u001b[0m\u001b[0;34m]\u001b[0m\u001b[0;34m:\u001b[0m\u001b[0;34m\u001b[0m\u001b[0;34m\u001b[0m\u001b[0m\n",
      "\u001b[0;32m/opt/conda/lib/python3.12/site-packages/fabric/runners.py\u001b[0m in \u001b[0;36mrun\u001b[0;34m(self, command, **kwargs)\u001b[0m\n\u001b[1;32m     81\u001b[0m     \u001b[0;32mdef\u001b[0m \u001b[0mrun\u001b[0m\u001b[0;34m(\u001b[0m\u001b[0mself\u001b[0m\u001b[0;34m,\u001b[0m \u001b[0mcommand\u001b[0m\u001b[0;34m,\u001b[0m \u001b[0;34m**\u001b[0m\u001b[0mkwargs\u001b[0m\u001b[0;34m)\u001b[0m\u001b[0;34m:\u001b[0m\u001b[0;34m\u001b[0m\u001b[0;34m\u001b[0m\u001b[0m\n\u001b[1;32m     82\u001b[0m         \u001b[0mkwargs\u001b[0m\u001b[0;34m.\u001b[0m\u001b[0msetdefault\u001b[0m\u001b[0;34m(\u001b[0m\u001b[0;34m\"replace_env\"\u001b[0m\u001b[0;34m,\u001b[0m \u001b[0;32mTrue\u001b[0m\u001b[0;34m)\u001b[0m\u001b[0;34m\u001b[0m\u001b[0;34m\u001b[0m\u001b[0m\n\u001b[0;32m---> 83\u001b[0;31m         \u001b[0;32mreturn\u001b[0m \u001b[0msuper\u001b[0m\u001b[0;34m(\u001b[0m\u001b[0;34m)\u001b[0m\u001b[0;34m.\u001b[0m\u001b[0mrun\u001b[0m\u001b[0;34m(\u001b[0m\u001b[0mcommand\u001b[0m\u001b[0;34m,\u001b[0m \u001b[0;34m**\u001b[0m\u001b[0mkwargs\u001b[0m\u001b[0;34m)\u001b[0m\u001b[0;34m\u001b[0m\u001b[0;34m\u001b[0m\u001b[0m\n\u001b[0m\u001b[1;32m     84\u001b[0m \u001b[0;34m\u001b[0m\u001b[0m\n\u001b[1;32m     85\u001b[0m     \u001b[0;32mdef\u001b[0m \u001b[0mread_proc_stdout\u001b[0m\u001b[0;34m(\u001b[0m\u001b[0mself\u001b[0m\u001b[0;34m,\u001b[0m \u001b[0mnum_bytes\u001b[0m\u001b[0;34m)\u001b[0m\u001b[0;34m:\u001b[0m\u001b[0;34m\u001b[0m\u001b[0;34m\u001b[0m\u001b[0m\n",
      "\u001b[0;32m/opt/conda/lib/python3.12/site-packages/invoke/runners.py\u001b[0m in \u001b[0;36mrun\u001b[0;34m(self, command, **kwargs)\u001b[0m\n\u001b[1;32m    393\u001b[0m         \"\"\"\n\u001b[1;32m    394\u001b[0m         \u001b[0;32mtry\u001b[0m\u001b[0;34m:\u001b[0m\u001b[0;34m\u001b[0m\u001b[0;34m\u001b[0m\u001b[0m\n\u001b[0;32m--> 395\u001b[0;31m             \u001b[0;32mreturn\u001b[0m \u001b[0mself\u001b[0m\u001b[0;34m.\u001b[0m\u001b[0m_run_body\u001b[0m\u001b[0;34m(\u001b[0m\u001b[0mcommand\u001b[0m\u001b[0;34m,\u001b[0m \u001b[0;34m**\u001b[0m\u001b[0mkwargs\u001b[0m\u001b[0;34m)\u001b[0m\u001b[0;34m\u001b[0m\u001b[0;34m\u001b[0m\u001b[0m\n\u001b[0m\u001b[1;32m    396\u001b[0m         \u001b[0;32mfinally\u001b[0m\u001b[0;34m:\u001b[0m\u001b[0;34m\u001b[0m\u001b[0;34m\u001b[0m\u001b[0m\n\u001b[1;32m    397\u001b[0m             \u001b[0;32mif\u001b[0m \u001b[0;32mnot\u001b[0m \u001b[0;34m(\u001b[0m\u001b[0mself\u001b[0m\u001b[0;34m.\u001b[0m\u001b[0m_asynchronous\u001b[0m \u001b[0;32mor\u001b[0m \u001b[0mself\u001b[0m\u001b[0;34m.\u001b[0m\u001b[0m_disowned\u001b[0m\u001b[0;34m)\u001b[0m\u001b[0;34m:\u001b[0m\u001b[0;34m\u001b[0m\u001b[0;34m\u001b[0m\u001b[0m\n",
      "\u001b[0;32m/opt/conda/lib/python3.12/site-packages/invoke/runners.py\u001b[0m in \u001b[0;36m_run_body\u001b[0;34m(self, command, **kwargs)\u001b[0m\n\u001b[1;32m    449\u001b[0m             \u001b[0mthread\u001b[0m\u001b[0;34m.\u001b[0m\u001b[0mstart\u001b[0m\u001b[0;34m(\u001b[0m\u001b[0;34m)\u001b[0m\u001b[0;34m\u001b[0m\u001b[0;34m\u001b[0m\u001b[0m\n\u001b[1;32m    450\u001b[0m         \u001b[0;31m# Wrap up or promise that we will, depending\u001b[0m\u001b[0;34m\u001b[0m\u001b[0;34m\u001b[0m\u001b[0m\n\u001b[0;32m--> 451\u001b[0;31m         \u001b[0;32mreturn\u001b[0m \u001b[0mself\u001b[0m\u001b[0;34m.\u001b[0m\u001b[0mmake_promise\u001b[0m\u001b[0;34m(\u001b[0m\u001b[0;34m)\u001b[0m \u001b[0;32mif\u001b[0m \u001b[0mself\u001b[0m\u001b[0;34m.\u001b[0m\u001b[0m_asynchronous\u001b[0m \u001b[0;32melse\u001b[0m \u001b[0mself\u001b[0m\u001b[0;34m.\u001b[0m\u001b[0m_finish\u001b[0m\u001b[0;34m(\u001b[0m\u001b[0;34m)\u001b[0m\u001b[0;34m\u001b[0m\u001b[0;34m\u001b[0m\u001b[0m\n\u001b[0m\u001b[1;32m    452\u001b[0m \u001b[0;34m\u001b[0m\u001b[0m\n\u001b[1;32m    453\u001b[0m     \u001b[0;32mdef\u001b[0m \u001b[0mmake_promise\u001b[0m\u001b[0;34m(\u001b[0m\u001b[0mself\u001b[0m\u001b[0;34m)\u001b[0m \u001b[0;34m->\u001b[0m \u001b[0;34m\"Promise\"\u001b[0m\u001b[0;34m:\u001b[0m\u001b[0;34m\u001b[0m\u001b[0;34m\u001b[0m\u001b[0m\n",
      "\u001b[0;32m/opt/conda/lib/python3.12/site-packages/invoke/runners.py\u001b[0m in \u001b[0;36m_finish\u001b[0;34m(self)\u001b[0m\n\u001b[1;32m    516\u001b[0m             \u001b[0;32mraise\u001b[0m \u001b[0mCommandTimedOut\u001b[0m\u001b[0;34m(\u001b[0m\u001b[0mresult\u001b[0m\u001b[0;34m,\u001b[0m \u001b[0mtimeout\u001b[0m\u001b[0;34m=\u001b[0m\u001b[0mtimeout\u001b[0m\u001b[0;34m)\u001b[0m\u001b[0;34m\u001b[0m\u001b[0;34m\u001b[0m\u001b[0m\n\u001b[1;32m    517\u001b[0m         \u001b[0;32mif\u001b[0m \u001b[0;32mnot\u001b[0m \u001b[0;34m(\u001b[0m\u001b[0mresult\u001b[0m \u001b[0;32mor\u001b[0m \u001b[0mself\u001b[0m\u001b[0;34m.\u001b[0m\u001b[0mopts\u001b[0m\u001b[0;34m[\u001b[0m\u001b[0;34m\"warn\"\u001b[0m\u001b[0;34m]\u001b[0m\u001b[0;34m)\u001b[0m\u001b[0;34m:\u001b[0m\u001b[0;34m\u001b[0m\u001b[0;34m\u001b[0m\u001b[0m\n\u001b[0;32m--> 518\u001b[0;31m             \u001b[0;32mraise\u001b[0m \u001b[0mUnexpectedExit\u001b[0m\u001b[0;34m(\u001b[0m\u001b[0mresult\u001b[0m\u001b[0;34m)\u001b[0m\u001b[0;34m\u001b[0m\u001b[0;34m\u001b[0m\u001b[0m\n\u001b[0m\u001b[1;32m    519\u001b[0m         \u001b[0;32mreturn\u001b[0m \u001b[0mresult\u001b[0m\u001b[0;34m\u001b[0m\u001b[0;34m\u001b[0m\u001b[0m\n\u001b[1;32m    520\u001b[0m \u001b[0;34m\u001b[0m\u001b[0m\n",
      "\u001b[0;31mUnexpectedExit\u001b[0m: Encountered a bad command exit code!\n\nCommand: 'python3 miniGiraffe/iiswc25/tuning-pipeline.py'\n\nExit code: 1\n\nStdout: already printed\n\nStderr: already printed\n\n"
     ]
    }
   ],
   "source": [
    "my_server.execute(\"python3 miniGiraffe/iiswc25/tuning-pipeline.py\")"
   ]
  },
  {
   "cell_type": "markdown",
   "metadata": {},
   "source": [
    "## Analyze Results\n",
    "The experiment uploaded results to an object store bucket for today. If you re-run the experiment above, additional results will be placed there.\n",
    "\n",
    "To analyze these, we'll download the data locally. The Jupyter environment has limited resources, so if the data was large, we could process the data on the baremetal server instead."
   ]
  },
  {
   "cell_type": "code",
   "execution_count": 23,
   "metadata": {},
   "outputs": [
    {
     "name": "stdout",
     "output_type": "stream",
     "text": [
      "Downloading run-20250814.0133.39.out\n"
     ]
    }
   ],
   "source": [
    "from chi import storage\n",
    "from datetime import datetime\n",
    "import os\n",
    "\n",
    "# Get current date in YYYY-MM-DD format\n",
    "os.makedirs(\"./out\", exist_ok=True)\n",
    "current_date = datetime.now().strftime('%Y-%m-%d')\n",
    "b = storage.ObjectBucket(f\"bare_metal_experiment_pattern_data_{current_date}\")\n",
    "for obj in b.list_objects():\n",
    "    print(f\"Downloading {obj.name}\")\n",
    "    obj.download(f\"out/{obj.name}\")"
   ]
  },
  {
   "cell_type": "markdown",
   "metadata": {},
   "source": [
    "Now, we process the data from the files so we can plot it."
   ]
  },
  {
   "cell_type": "code",
   "execution_count": 24,
   "metadata": {},
   "outputs": [],
   "source": [
    "from collections import defaultdict\n",
    "data = {\n",
    "    \"power/energy-pkg/\": defaultdict(list),\n",
    "    \"power/energy-ram/\": defaultdict(list),\n",
    "}\n",
    "\n",
    "for filename in os.listdir(\"out/\"):\n",
    "    # Only parse our data files\n",
    "    if \".out\" not in filename:\n",
    "        continue\n",
    "    with open(f\"out/{filename}\") as f:\n",
    "        for line in f.readlines():\n",
    "            line = line.strip()\n",
    "            cores, value, measurement = line.split(\" \")\n",
    "            data[measurement][cores].append(float(value))"
   ]
  },
  {
   "cell_type": "markdown",
   "metadata": {},
   "source": [
    "Finally, we display a box chart of the data. If you ran the experiment multiple times, you may see some variation on the plot."
   ]
  },
  {
   "cell_type": "code",
   "execution_count": 25,
   "metadata": {},
   "outputs": [
    {
     "name": "stderr",
     "output_type": "stream",
     "text": [
      "/tmp/ipykernel_317/3942381489.py:16: MatplotlibDeprecationWarning: The 'labels' parameter of boxplot() has been renamed 'tick_labels' since Matplotlib 3.9; support for the old name will be dropped in 3.11.\n",
      "  subplot.boxplot(values, labels=labels)\n",
      "/tmp/ipykernel_317/3942381489.py:16: MatplotlibDeprecationWarning: The 'labels' parameter of boxplot() has been renamed 'tick_labels' since Matplotlib 3.9; support for the old name will be dropped in 3.11.\n",
      "  subplot.boxplot(values, labels=labels)\n"
     ]
    },
    {
     "data": {
      "image/png": "[encoded data removed]",
      "text/plain": [
       "<Figure size 1000x400 with 2 Axes>"
      ]
     },
     "metadata": {},
     "output_type": "display_data"
    }
   ],
   "source": [
    "import matplotlib.pyplot as plt\n",
    "\n",
    "# Format perf's label into a nicer string\n",
    "PERF_CHART_TYPE_FORMAT = {\n",
    "    \"power/energy-pkg/\": \"CPU\",\n",
    "    \"power/energy-ram/\": \"RAM\",\n",
    "}\n",
    "\n",
    "fig, (ax1, ax2) = plt.subplots(1, 2, figsize=(10, 4))\n",
    "axes = iter([ax1, ax2])\n",
    "\n",
    "for chart_type, chart_data in data.items():\n",
    "    subplot = next(axes)\n",
    "    labels = list(chart_data.keys())\n",
    "    values = list(chart_data.values())\n",
    "    subplot.boxplot(values, labels=labels)\n",
    "    \n",
    "    subplot.set_title(f'{PERF_CHART_TYPE_FORMAT[chart_type]} Energy Consumption\\nfor CPU Utilization % Box Plot')\n",
    "    subplot.set_xlabel('CPU Utilization %')\n",
    "    subplot.set_ylabel('Joules')\n",
    "plt.show()"
   ]
  }
 ],
 "metadata": {
  "kernelspec": {
   "display_name": "Python 3 (ipykernel)",
   "language": "python",
   "name": "python3"
  },
  "language_info": {
   "codemirror_mode": {
    "name": "ipython",
    "version": 3
   },
   "file_extension": ".py",
   "mimetype": "text/x-python",
   "name": "python",
   "nbconvert_exporter": "python",
   "pygments_lexer": "ipython3",
   "version": "3.12.10"
  }
 },
 "nbformat": 4,
 "nbformat_minor": 4
}
